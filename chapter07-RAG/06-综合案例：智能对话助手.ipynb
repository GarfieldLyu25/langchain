{
 "cells": [
  {
   "metadata": {},
   "cell_type": "markdown",
   "source": "# 1  定义工具",
   "id": "8aa746f6add23c6c"
  },
  {
   "metadata": {
    "ExecuteTime": {
     "end_time": "2025-11-01T07:26:08.252895Z",
     "start_time": "2025-11-01T07:26:06.871240Z"
    }
   },
   "cell_type": "code",
   "source": [
    "import os\n",
    "\n",
    "from langchain_community.tools.tavily_search import TavilySearchResults\n",
    "import dotenv\n",
    "from pywin.framework.toolmenu import tools\n",
    "\n",
    "dotenv.load_dotenv()\n",
    "# 定义 AVILY_KEY 密钥\n",
    "os.environ[\"TAVILY_API_KEY\"] = os.getenv(\"TAVILY_API_KEY\")\n",
    "# 查询 Tavily 搜索 API\n",
    "search = TavilySearchResults(max_results=1,description=\"用于搜索实时网络信息，特别适合查询天气、新闻等实时数据\")\n",
    "# 执行查询\n",
    "res = search.invoke(\"今天珠海天气怎么样\")\n",
    "print(res)"
   ],
   "id": "d6994c01769e34e1",
   "outputs": [
    {
     "name": "stdout",
     "output_type": "stream",
     "text": [
      "[{'title': '珠海 - 中国气象局-天气预报-城市预报', 'url': 'https://weather.cma.cn/web/weather/59488', 'content': '|  |  |  |  |  |  |  |  |  |\\n ---  ---  ---  --- \\n| 时间 | 08:00 | 11:00 | 14:00 | 17:00 | 20:00 | 23:00 | 02:00 | 05:00 |\\n| 天气 |\\n| 气温 | 25.5℃ | 25.8℃ | 27.6℃ | 27℃ | 25.1℃ | 24.5℃ | 24.4℃ | 24.6℃ |\\n| 降水 | 无降水 | 无降水 | 无降水 | 无降水 | 无降水 | 无降水 | 无降水 | 无降水 |\\n| 风速 | 3.2m/s | 3.2m/s | 3.3m/s | 2.6m/s | 2.1m/s | 3m/s | 2.4m/s | 1.8m/s |\\n| 风向 | 东北风 | 东北风 | 东南风 | 东南风 | 东南风 | 东南风 | 东北风 | 东北风 |\\n| 气压 | 1014.2hPa | 1015hPa | 1012.7hPa | 1011.8hPa | 1012.6hPa | 1013.1hPa | 1012.6hPa | 1011.7hPa | [...] |  |  |  |  |  |  |  |  |  |\\n ---  ---  ---  --- \\n| 时间 | 08:00 | 11:00 | 14:00 | 17:00 | 20:00 | 23:00 | 02:00 | 05:00 |\\n| 天气 |\\n| 气温 | 25.6℃ | 26.8℃ | 27.6℃ | 25.5℃ | 25.4℃ | 25.4℃ | 24℃ | 24.4℃ |\\n| 降水 | 无降水 | 无降水 | 无降水 | 无降水 | 无降水 | 无降水 | 无降水 | 无降水 |\\n| 风速 | 7.5m/s | 3.3m/s | 2.9m/s | 2.2m/s | 2.6m/s | 3.3m/s | 3.1m/s | 2.3m/s |\\n| 风向 | 东北风 | 东北风 | 东北风 | 东南风 | 东南风 | 东北风 | 东北风 | 东北风 |\\n| 气压 | 1015hPa | 1015.7hPa | 1013.6hPa | 1012.6hPa | 1014hPa | 1014.4hPa | 1014.7hPa | 1015.3hPa | [...] |  |  |  |  |  |  |  |  |  |\\n ---  ---  ---  --- \\n| 时间 | 08:00 | 11:00 | 14:00 | 17:00 | 20:00 | 23:00 | 02:00 | 05:00 |\\n| 天气 |\\n| 气温 | 25.7℃ | 28℃ | 29.3℃ | 29.1℃ | 26.5℃ | 26.1℃ | 25.8℃ | 24.6℃ |\\n| 降水 | 无降水 | 无降水 | 无降水 | 无降水 | 无降水 | 无降水 | 无降水 | 无降水 |\\n| 风速 | 3.3m/s | 2.9m/s | 3.3m/s | 2.3m/s | 2.2m/s | 7.4m/s | 7.9m/s | 7.7m/s |\\n| 风向 | 东北风 | 东北风 | 东北风 | 东北风 | 东北风 | 东北风 | 东北风 | 东北风 |\\n| 气压 | 1013.3hPa | 1013.9hPa | 1011.4hPa | 1010.5hPa | 1012.3hPa | 1013.5hPa | 1013.3hPa | 1013.2hPa |', 'score': 0.82048416}]\n"
     ]
    }
   ],
   "execution_count": 21
  },
  {
   "metadata": {},
   "cell_type": "markdown",
   "source": "# 2 定义Retriever",
   "id": "3ce7eee7ddda76b9"
  },
  {
   "metadata": {
    "ExecuteTime": {
     "end_time": "2025-11-01T07:13:44.695580Z",
     "start_time": "2025-11-01T07:13:33.894731Z"
    }
   },
   "cell_type": "code",
   "source": [
    "from langchain_community.document_loaders import WebBaseLoader\n",
    "from langchain_community.vectorstores import FAISS\n",
    "from langchain_openai import OpenAIEmbeddings\n",
    "from langchain_text_splitters import RecursiveCharacterTextSplitter\n",
    "import os\n",
    "import dotenv\n",
    "dotenv.load_dotenv()\n",
    "\n",
    "# 1. 提供一个大模型\n",
    "os.environ['OPENAI_API_KEY'] = os.getenv(\"OPENAI_API_KEY1\")\n",
    "os.environ['OPENAI_BASE_URL'] = os.getenv(\"OPENAI_BASE_URL\")\n",
    "\n",
    "embedding_model = OpenAIEmbeddings()\n",
    "\n",
    "# 2.加载HTML内容为一个文档对象\n",
    "loader = WebBaseLoader(\"https://zh.wikipedia.org/wiki/%E7%8C%AB\")\n",
    "docs = loader.load()\n",
    "#print(docs)\n",
    "\n",
    "# 3.分割文档\n",
    "splitter = RecursiveCharacterTextSplitter(\n",
    "    chunk_size=1000,\n",
    "    chunk_overlap=200\n",
    ")\n",
    "\n",
    "documents = splitter.split_documents(docs)\n",
    "\n",
    "# 4.向量化 得到向量数据库对象\n",
    "vector = FAISS.from_documents(documents, embedding_model)\n",
    "\n",
    "# 5.创建检索器\n",
    "retriever = vector.as_retriever()\n",
    "\n",
    "# 测试检索结果\n",
    "# print(retriever.invoke(\"猫的特征\")[0])"
   ],
   "id": "cddec75c79c69d8b",
   "outputs": [
    {
     "name": "stderr",
     "output_type": "stream",
     "text": [
      "USER_AGENT environment variable not set, consider setting it to identify your requests.\n"
     ]
    }
   ],
   "execution_count": 3
  },
  {
   "metadata": {},
   "cell_type": "markdown",
   "source": "# 3 创建工具、工具集",
   "id": "3a34bf6648829317"
  },
  {
   "metadata": {
    "ExecuteTime": {
     "end_time": "2025-11-01T07:27:20.349019Z",
     "start_time": "2025-11-01T07:27:20.333198Z"
    }
   },
   "cell_type": "code",
   "source": [
    "from langchain.tools.retriever import create_retriever_tool\n",
    "\n",
    "# 创建一个工具来检索文档\n",
    "retriever_tool = create_retriever_tool(\n",
    "    retriever=retriever,\n",
    "    name=\"retriever_tool\",\n",
    "    description=\"猫的相关介绍,之和猫有关时候选\",\n",
    ")\n",
    "\n",
    "# 构建工具集\n",
    "tools = [search, retriever_tool]"
   ],
   "id": "60873e25361aee45",
   "outputs": [],
   "execution_count": 22
  },
  {
   "metadata": {},
   "cell_type": "markdown",
   "source": "# 4 语言模型调用工具",
   "id": "cd363c7ebb8b6e10"
  },
  {
   "metadata": {
    "ExecuteTime": {
     "end_time": "2025-11-01T07:27:24.368204Z",
     "start_time": "2025-11-01T07:27:23.078823Z"
    }
   },
   "cell_type": "code",
   "source": [
    "from langchain_openai import ChatOpenAI\n",
    "from langchain_core.messages import HumanMessage\n",
    "\n",
    "# 获取大模型\n",
    "model = ChatOpenAI(model=\"gpt-4o-mini\")\n",
    "\n",
    "# 模型绑定工具\n",
    "model_with_tools = model.bind_tools(tools)\n",
    "\n",
    "# 根据输入自动调用工具\n",
    "messages = [HumanMessage(content=\"今天珠海天气怎么样\")]\n",
    "response = model_with_tools.invoke(messages)\n",
    "print(f\"ContentString: {response.content}\")\n",
    "print(f\"ToolCalls: {response.tool_calls}\")\n"
   ],
   "id": "32e1dede3304cf04",
   "outputs": [
    {
     "name": "stdout",
     "output_type": "stream",
     "text": [
      "ContentString: \n",
      "ToolCalls: [{'name': 'tavily_search_results_json', 'args': {'query': '珠海天气'}, 'id': 'call_2bxwN3V7x6HnGl9jkSN9qBqe', 'type': 'tool_call'}]\n"
     ]
    }
   ],
   "execution_count": 23
  },
  {
   "metadata": {},
   "cell_type": "markdown",
   "source": "# 5 创建Agent程序(使用通用方式)",
   "id": "7ca438a6ef59e692"
  },
  {
   "metadata": {
    "ExecuteTime": {
     "end_time": "2025-11-01T07:23:04.119561Z",
     "start_time": "2025-11-01T07:23:03.780056Z"
    }
   },
   "cell_type": "code",
   "source": [
    "from langchain import hub\n",
    "prompt = hub.pull(\"hwchase17/openai-functions-agent\")\n",
    "\n",
    "print(prompt.messages)"
   ],
   "id": "7d85000d05554b62",
   "outputs": [
    {
     "name": "stdout",
     "output_type": "stream",
     "text": [
      "[SystemMessagePromptTemplate(prompt=PromptTemplate(input_variables=[], input_types={}, partial_variables={}, template='You are a helpful assistant'), additional_kwargs={}), MessagesPlaceholder(variable_name='chat_history', optional=True), HumanMessagePromptTemplate(prompt=PromptTemplate(input_variables=['input'], input_types={}, partial_variables={}, template='{input}'), additional_kwargs={}), MessagesPlaceholder(variable_name='agent_scratchpad')]\n"
     ]
    }
   ],
   "execution_count": 18
  },
  {
   "metadata": {
    "ExecuteTime": {
     "end_time": "2025-11-01T07:27:29.112973Z",
     "start_time": "2025-11-01T07:27:29.097059Z"
    }
   },
   "cell_type": "code",
   "source": [
    "from langchain.agents import create_tool_calling_agent\n",
    "from langchain.agents import AgentExecutor\n",
    "\n",
    "# 创建Agent对象\n",
    "agent = create_tool_calling_agent(model, tools, prompt)\n",
    "\n",
    "# 创建AgentExecutor对象\n",
    "agent_executor = AgentExecutor(agent=agent, tools=tools,verbose=True)"
   ],
   "id": "1fd34dea5a076186",
   "outputs": [],
   "execution_count": 24
  },
  {
   "metadata": {},
   "cell_type": "markdown",
   "source": "# 6 运行Agent",
   "id": "1e5be2c411559d8a"
  },
  {
   "metadata": {
    "ExecuteTime": {
     "end_time": "2025-11-01T07:16:32.765412Z",
     "start_time": "2025-11-01T07:16:23.999415Z"
    }
   },
   "cell_type": "code",
   "source": "print(agent_executor.invoke({\"input\": \"猫的特征\"}))",
   "id": "1e24cf168af0c795",
   "outputs": [
    {
     "name": "stdout",
     "output_type": "stream",
     "text": [
      "\n",
      "\n",
      "\u001B[1m> Entering new AgentExecutor chain...\u001B[0m\n",
      "\u001B[32;1m\u001B[1;3m\n",
      "Invoking: `wiki_search` with `{'query': '猫的特征'}`\n",
      "\n",
      "\n",
      "\u001B[0m\u001B[33;1m\u001B[1;3m感官[编辑]\n",
      "貓的感官適於狩獵。在哺乳類動物中，貓的聽覺、視覺、嗅覺、味覺、觸覺極敏銳。\n",
      "\n",
      "視覺[编辑]\n",
      "貓的瞳孔能縮得如線般狹小\n",
      "貓的瞳孔變化\n",
      "貓在晝間視覺縱不及人類，夜視能力與追蹤視覺上之活動物件卻相當出色，夜視能力是人類的六倍，雖然綜合色彩計算整體視覺系數則僅及人類的十分之一。貓的眼睛具有微光觀察能力，即使只有微弱月光都可分辨物件，有關光線入貓眼後可放大40至50倍處理，令貓具有夜間活動的能力，即使在黑暗的地下室貓咪依然能活動自如。強光下，貓會將瞳孔縮得如線般狹小，以減少對視網膜的傷害，但視野會因而縮窄。由於貓眼具備高幀與高分辨率視覺，故此電視機極微細之動靜對貓而言亦成逐格跳躍之畫面。[51]\n",
      "另外，不只是光線會影響貓的瞳孔，感情也會。一般而言貓放鬆的時候瞳孔會縮小，而緊張時會放大。\n",
      "貓的視網膜背面有一層藍綠色如熒光一般的薄膜（Tapetum Lucidum），可增加在暗處的視力。閃光中，貓眼能呈現各式各樣顔色。如同多數食肉動物，貓眼長在臉上朝正前方，賦予其遼闊的視野，單一貓眼視野為100度，雙眼視野為285度，加上頸旋靈活，總計視野比人類雙眼僅100度靈活得多。不過，貓僅能聚焦其前30厘米至3米之物件，相對人類而言屬大近視。\n",
      "貓對三原色的辨識力很差，相對人類而言，貓有黃藍色盲且紅綠色辨成灰黃色，與狗相似。關於貓的夜視能力，生物學家發現牛磺酸對貓的視力起了很大作用，貓本身不能合成牛磺酸，必須由外攝取。缺乏牛磺酸，會使視力及夜視能力變差，影響夜間活動。據生物學家稱，貓經常捕鼠，是因老鼠體內含牛磺酸。[52][53]\n",
      "紫外線可以通過貓的晶状体。\n",
      "當四周光線微弱，貓會用感覺毛來改善行動力與感知能力。感覺毛主要分布於鼻子兩側、下巴、雙眼上方、兩頰也有數根。感覺毛可感受非常微弱的空氣波動，視野不清時也能協助辨識阻礙位置。鬍鬚尖端與雙耳連成一線，恰是身體能通過障礙的最小範圍，故貓可在黑夜中快速判斷地形能否通過。\n",
      "貓有第三眼瞼，當貓眼睑張開時，眨眼時第三眼瞼會從旁稍微遮蓋眼睛。若貓生病，或是睡眠，笑著，此眼皮會縮回一部分。若貓長時間嶄露第三眼瞼，表示它的健康有問題。\n",
      "\n",
      "貓爪[编辑]\n",
      "貓的爪子尖銳還能有伸縮作用，能夠向外露張開或是往內縮閉藏起來。貓的趾底有脂肪肉墊，因而行走無聲。而按一下這個肉墊，尖銳的勾爪就會伸出來，養貓的人一般使用這種方法來剪爪。大部分貓都有磨爪的習慣。而貓喜好的磨爪物各不相同。家貓可能會選擇沙發、牆壁甚至人類的衣物等作為自己的磨爪物。\n",
      "\n",
      "感官[编辑]\n",
      "貓的感官適於狩獵。在哺乳類動物中，貓的聽覺、視覺、嗅覺、味覺、觸覺極敏銳。\n",
      "\n",
      "聽覺[编辑]\n",
      "貓每隻耳各有32條獨立的肌肉控制耳殼轉動，因此雙耳可單獨朝向不同的音源轉動，使其向獵物移動時仍能對周遭其他音源保持直接接觸。[54]除了蘇格蘭折耳貓這類基因突變的貓以外，貓極少有狗常見的「垂耳」，多數的貓耳向上直立。當貓忿怒或受驚時，耳朵會貼向後方，並發出咆哮與「嘶」聲。\n",
      "貓與人類對低頻聲音靈敏度相若。人類中只有極少數的調音師能聽到20 kHz以上的高頻聲音（8.4度的八度音），貓則可達64kHz（10度的八度音），比人類要高1.6個八度音，甚至比狗要高1個八度；但是貓辨別音差須開最少5度，比起人類辨別音差須開最少0.5度來得粗疏。[51][55]\n",
      "\n",
      "嗅覺[编辑]\n",
      "家貓的嗅覺較人類靈敏14倍[56]。貓的鼻腔內有2億個嗅覺受器，數量甚至超過某些品種的狗（狗嗅覺細胞約1.25億～2.2億）。\n",
      "\n",
      "味覺[编辑]\n",
      "貓早期演化時由於基因突變，失去了甜的味覺，[57]但貓不光能感知酸、苦、鹹味，选择适合自己口味的食物，还能尝出水的味道，这一点是其他动物所不及的。不过总括来说猫的味觉不算完善，相比一般人類平均有9000個味蕾，貓一般平均僅有473個味蕾且不喜好低於室溫之食物。故此，貓辨認食物乃憑嗅覺多於味覺。[51]\n",
      "\n",
      "觸覺[编辑]\n",
      "貓在磨蹭時身上會散發出特別的費洛蒙，當這些獨有的費洛蒙留下時，目的就是在宣誓主權，提醒其它貓這是我的，其實這種行為算是一種標記地盤的象徵，會讓牠們有感到安心及安全感。\n",
      "\n",
      "^ 生物學特性和解剖生理特點-醫生在線[永久失效連結]\n",
      "\n",
      "^ 51.0 51.1 51.2 《寵藝透視》. 寵藝透視. 2013-07: 50. \n",
      "\n",
      "^ 貓為什麼要吃老鼠？德國生物學家解開謎團. china.ibtimes.com. [永久失效連結]\n",
      "\n",
      "^ 美國藝術家模擬貓的視覺　記錄貓眼看到的世界景像.   [2014-04-05]. （原始内容存档于2014-04-07）. \n",
      "\n",
      "^ At Home : Care / Health : Understanding Cats.   [2005-08-15]. （原始内容存档于2008-02-01）. \n",
      "\n",
      "^ Strain, G.M., How Well Do Dogs and Other Animals Hear?.   [2007-05-12]. （原始内容存档于2011-08-28）. \n",
      "\n",
      "^ The Nose Knows. About.com.   [2006-11-29]. （原始内容存档于2010-12-06）. \n",
      "\n",
      "^ Li, Xia; Weihua Li, Hong Wang, Jie Cao, Kenji Maehashi, Liquan Huang, Alexander A. Bachmanov, Danielle R. Reed, Véronique Legrand-Defretin, Gary K. Beauchamp, Joseph G. Brand. Pseudogenization of a Sweet-Receptor Gene Accounts for Cats' Indifference toward Sugar. PLOS Genetics (Public Library of Science). 2005-07-25, 1 (1)  [2006-11-08]. doi:10.1371/journal.pgen.0010003. （原始内容存档于2021-03-13）.  引文使用过时参数coauthors (帮助)\n",
      "\n",
      "^ 胡苓芝、李冠群. 三花猫-花色形成的原因(下)（Calico Cat）. 科學Online. 2009-04-27  [2015-02-19]. （原始内容存档于2015-02-19）.\u001B[0m\u001B[32;1m\u001B[1;3m猫的特征包括以下几个方面：\n",
      "\n",
      "1. **感官敏锐**：\n",
      "   - 猫的听觉、视力、嗅觉、味觉和触觉都非常敏锐。\n",
      "   \n",
      "2. **视力**：\n",
      "   - 猫的夜视能力非常强，是人类的六倍，甚至在微光条件下也能分辨物体。\n",
      "   - 猫的眼睛对光线的反应灵敏，具有很高的分辨率，但他们的色彩辨识能力较差，主要识别蓝色和黄色，对红色和绿色较为敏感。\n",
      "\n",
      "3. **听觉**：\n",
      "   - 猫能听到高达64kHz的声音，相比于人类的能力更强。耳朵可以独立转动，以便更好地捕捉声音。\n",
      "\n",
      "4. **嗅觉**：\n",
      "   - 猫的嗅觉比人类灵敏14倍，鼻腔内有大量嗅觉受器。\n",
      "\n",
      "5. **味觉**：\n",
      "   - 猫失去了对甜味的感知，但能辨别酸、苦和咸的味道。他们更依赖嗅觉而非味觉来判断食物。\n",
      "\n",
      "6. **触觉**：\n",
      "   - 猫体表有许多感觉毛，可以帮助它们在黑暗中感知环境。\n",
      "\n",
      "7. **爪子特征**：\n",
      "   - 猫的爪子尖锐且可伸缩，能在静静行走时也不会发出声音。猫有磨爪的习惯，通常会选择不同的物体来磨爪。\n",
      "\n",
      "这些特征使得猫非常适合捕猎和在多种环境中生存。\u001B[0m\n",
      "\n",
      "\u001B[1m> Finished chain.\u001B[0m\n",
      "{'input': '猫的特征', 'output': '猫的特征包括以下几个方面：\\n\\n1. **感官敏锐**：\\n   - 猫的听觉、视力、嗅觉、味觉和触觉都非常敏锐。\\n   \\n2. **视力**：\\n   - 猫的夜视能力非常强，是人类的六倍，甚至在微光条件下也能分辨物体。\\n   - 猫的眼睛对光线的反应灵敏，具有很高的分辨率，但他们的色彩辨识能力较差，主要识别蓝色和黄色，对红色和绿色较为敏感。\\n\\n3. **听觉**：\\n   - 猫能听到高达64kHz的声音，相比于人类的能力更强。耳朵可以独立转动，以便更好地捕捉声音。\\n\\n4. **嗅觉**：\\n   - 猫的嗅觉比人类灵敏14倍，鼻腔内有大量嗅觉受器。\\n\\n5. **味觉**：\\n   - 猫失去了对甜味的感知，但能辨别酸、苦和咸的味道。他们更依赖嗅觉而非味觉来判断食物。\\n\\n6. **触觉**：\\n   - 猫体表有许多感觉毛，可以帮助它们在黑暗中感知环境。\\n\\n7. **爪子特征**：\\n   - 猫的爪子尖锐且可伸缩，能在静静行走时也不会发出声音。猫有磨爪的习惯，通常会选择不同的物体来磨爪。\\n\\n这些特征使得猫非常适合捕猎和在多种环境中生存。'}\n"
     ]
    }
   ],
   "execution_count": 8
  },
  {
   "metadata": {
    "ExecuteTime": {
     "end_time": "2025-11-01T07:27:55.704161Z",
     "start_time": "2025-11-01T07:27:48.675073Z"
    }
   },
   "cell_type": "code",
   "source": "print(agent_executor.invoke({\"input\": \"今天lol比赛\"}))",
   "id": "71eb8a9d34180894",
   "outputs": [
    {
     "name": "stdout",
     "output_type": "stream",
     "text": [
      "\n",
      "\n",
      "\u001B[1m> Entering new AgentExecutor chain...\u001B[0m\n",
      "\u001B[32;1m\u001B[1;3m\n",
      "Invoking: `tavily_search_results_json` with `{'query': 'LOL比赛 2023年10月28日 赛事安排'}`\n",
      "\n",
      "\n",
      "\u001B[0m\u001B[36;1m\u001B[1;3m[{'title': '英雄聯盟2023賽季世界大賽- 維基百科', 'url': 'https://zh.wikipedia.org/wiki/%E8%8B%B1%E9%9B%84%E8%81%94%E7%9B%9F2023%E8%B5%9B%E5%AD%A3%E5%85%A8%E7%90%83%E6%80%BB%E5%86%B3%E8%B5%9B', 'content': '比赛时间：2023年11月2日至11月19日（UTC+9）\\n 比赛场馆： 釜山社稷室内体育馆（四分之一决赛及半决赛）、 首尔高尺天空巨蛋（总决赛）\\n 淘汰赛共分为四分之一决赛，半决赛与总决赛三个阶段\\n 8支队伍根据抽签产生四分之一决赛对手；来自瑞士轮阶段同一分组晋级的队伍将不会分在同一半区且不能成为四分之一决赛对手，即启用半区规避原则\\n 每阶段比赛均为BO5比赛，胜者晋级下一阶段，直至總决赛\\n\\n|  |  |  |\\n --- \\n| 四分之一决赛 | 半决赛 | 总决赛 |\\n| NRG Esports | 0 |\\n| Weibo Gaming | 3 |\\n| Weibo Gaming | 3 |\\n| Bilibili Gaming | 2 |\\n| Gen.G | 2 |\\n| Bilibili Gaming | 3 |\\n| Weibo Gaming | 0 |\\n| T1 | 3 |\\n| JD Gaming | 3 |\\n| KT Rolster | 1 |\\n| JD Gaming | 1 |\\n| T1 | 3 |\\n| LNG Esports | 0 |\\n| T1 | 3 | [...] ## 瑞士轮\\n\\n[编辑]\\n\\n瑞士轮赛制\\n\\n 比赛时间：10月19日至10月29日（UTC+9）\\n 比赛场馆： 首尔KBS竞技馆\\n 由16支队伍进行五轮瑞士轮比赛\\n  + 第一轮通过抽签决定对阵队伍以Bo1的形式比赛，此后每一轮相同战绩的队伍互相对决\\n  + 取得3胜的队伍晋级，取得3败的队伍淘汰\\n  + 除决定队伍晋级或淘汰的比赛以Bo3进行，其余比赛均为Bo1\\n\\n|  | [...] | 队伍 | ID | 胜场数 |\\n --- \\n| LNG Esports | LNG | 0 |\\n| T1 | T1 | 3 |\\n\\n| 场次 | 蓝色方 | 比赛结果 | 红色方 |\\n ---  --- |\\n| 1 | LNG | 负 | 胜 | T1 |\\n| 2 |\\n| 3 |\\n\\n### 半决赛\\n\\n[编辑]\\n\\n 比赛时间：2023年11月11日至12日（UTC+9）\\n 比赛场馆： 釜山社稷室内体育馆\\n 胜者进入总决赛\\n\\n#### 第一场\\n\\n[编辑]\\n\\n 比赛时间：2023年11月11日\\n\\n| 队伍 | ID | 胜场数 |\\n --- \\n| Weibo Gaming | WBG | 3 |\\n| Bilibili Gaming | BLG | 2 |\\n\\n| 场次 | 蓝色方 | 比赛结果 | 红色方 |\\n ---  --- |\\n| 1 | WBG | 胜 | 负 | BLG |\\n| 2 | BLG | 胜 | 负 | WBG |\\n| 3 | WBG | 胜 | 负 | BLG |\\n| 4 | BLG | 胜 | 负 | WBG |\\n| 5 | WBG | 胜 | 负 | BLG |', 'score': 0.79637206}]\u001B[0m\u001B[32;1m\u001B[1;3m今天（2023年10月28日）并没有LOL比赛。当前正在进行的是瑞士轮赛制的比赛，比赛时间为10月19日至10月29日（UTC+9）。各支队伍正在争取进入下一阶段的比赛。\n",
      "\n",
      "详细的信息可以查看[维基百科上的相关页面](https://zh.wikipedia.org/wiki/%E8%8B%B1%E9%9B%85%E8%81%94%E7%9B%9F2023%E8%B5%9B%E5%AD%A3%E5%85%A8%E7%90%83%E6%80%BB%E5%86%B3%E8%B5%9B)。\u001B[0m\n",
      "\n",
      "\u001B[1m> Finished chain.\u001B[0m\n",
      "{'input': '今天lol比赛', 'output': '今天（2023年10月28日）并没有LOL比赛。当前正在进行的是瑞士轮赛制的比赛，比赛时间为10月19日至10月29日（UTC+9）。各支队伍正在争取进入下一阶段的比赛。\\n\\n详细的信息可以查看[维基百科上的相关页面](https://zh.wikipedia.org/wiki/%E8%8B%B1%E9%9B%85%E8%81%94%E7%9B%9F2023%E8%B5%9B%E5%AD%A3%E5%85%A8%E7%90%83%E6%80%BB%E5%86%B3%E8%B5%9B)。'}\n"
     ]
    }
   ],
   "execution_count": 26
  },
  {
   "metadata": {
    "ExecuteTime": {
     "end_time": "2025-11-01T07:28:29.870326Z",
     "start_time": "2025-11-01T07:28:20.640630Z"
    }
   },
   "cell_type": "code",
   "source": "print(agent_executor.invoke({\"input\": \"今天猫的特征\"}))",
   "id": "d5784779943794c0",
   "outputs": [
    {
     "name": "stdout",
     "output_type": "stream",
     "text": [
      "\n",
      "\n",
      "\u001B[1m> Entering new AgentExecutor chain...\u001B[0m\n",
      "\u001B[32;1m\u001B[1;3m\n",
      "Invoking: `retriever_tool` with `{'query': '猫的特征'}`\n",
      "\n",
      "\n",
      "\u001B[0m\u001B[33;1m\u001B[1;3m感官[编辑]\n",
      "貓的感官適於狩獵。在哺乳類動物中，貓的聽覺、視覺、嗅覺、味覺、觸覺極敏銳。\n",
      "\n",
      "視覺[编辑]\n",
      "貓的瞳孔能縮得如線般狹小\n",
      "貓的瞳孔變化\n",
      "貓在晝間視覺縱不及人類，夜視能力與追蹤視覺上之活動物件卻相當出色，夜視能力是人類的六倍，雖然綜合色彩計算整體視覺系數則僅及人類的十分之一。貓的眼睛具有微光觀察能力，即使只有微弱月光都可分辨物件，有關光線入貓眼後可放大40至50倍處理，令貓具有夜間活動的能力，即使在黑暗的地下室貓咪依然能活動自如。強光下，貓會將瞳孔縮得如線般狹小，以減少對視網膜的傷害，但視野會因而縮窄。由於貓眼具備高幀與高分辨率視覺，故此電視機極微細之動靜對貓而言亦成逐格跳躍之畫面。[51]\n",
      "另外，不只是光線會影響貓的瞳孔，感情也會。一般而言貓放鬆的時候瞳孔會縮小，而緊張時會放大。\n",
      "貓的視網膜背面有一層藍綠色如熒光一般的薄膜（Tapetum Lucidum），可增加在暗處的視力。閃光中，貓眼能呈現各式各樣顔色。如同多數食肉動物，貓眼長在臉上朝正前方，賦予其遼闊的視野，單一貓眼視野為100度，雙眼視野為285度，加上頸旋靈活，總計視野比人類雙眼僅100度靈活得多。不過，貓僅能聚焦其前30厘米至3米之物件，相對人類而言屬大近視。\n",
      "貓對三原色的辨識力很差，相對人類而言，貓有黃藍色盲且紅綠色辨成灰黃色，與狗相似。關於貓的夜視能力，生物學家發現牛磺酸對貓的視力起了很大作用，貓本身不能合成牛磺酸，必須由外攝取。缺乏牛磺酸，會使視力及夜視能力變差，影響夜間活動。據生物學家稱，貓經常捕鼠，是因老鼠體內含牛磺酸。[52][53]\n",
      "紫外線可以通過貓的晶状体。\n",
      "當四周光線微弱，貓會用感覺毛來改善行動力與感知能力。感覺毛主要分布於鼻子兩側、下巴、雙眼上方、兩頰也有數根。感覺毛可感受非常微弱的空氣波動，視野不清時也能協助辨識阻礙位置。鬍鬚尖端與雙耳連成一線，恰是身體能通過障礙的最小範圍，故貓可在黑夜中快速判斷地形能否通過。\n",
      "貓有第三眼瞼，當貓眼睑張開時，眨眼時第三眼瞼會從旁稍微遮蓋眼睛。若貓生病，或是睡眠，笑著，此眼皮會縮回一部分。若貓長時間嶄露第三眼瞼，表示它的健康有問題。\n",
      "\n",
      "貓爪[编辑]\n",
      "貓的爪子尖銳還能有伸縮作用，能夠向外露張開或是往內縮閉藏起來。貓的趾底有脂肪肉墊，因而行走無聲。而按一下這個肉墊，尖銳的勾爪就會伸出來，養貓的人一般使用這種方法來剪爪。大部分貓都有磨爪的習慣。而貓喜好的磨爪物各不相同。家貓可能會選擇沙發、牆壁甚至人類的衣物等作為自己的磨爪物。\n",
      "\n",
      "感官[编辑]\n",
      "貓的感官適於狩獵。在哺乳類動物中，貓的聽覺、視覺、嗅覺、味覺、觸覺極敏銳。\n",
      "\n",
      "聽覺[编辑]\n",
      "貓每隻耳各有32條獨立的肌肉控制耳殼轉動，因此雙耳可單獨朝向不同的音源轉動，使其向獵物移動時仍能對周遭其他音源保持直接接觸。[54]除了蘇格蘭折耳貓這類基因突變的貓以外，貓極少有狗常見的「垂耳」，多數的貓耳向上直立。當貓忿怒或受驚時，耳朵會貼向後方，並發出咆哮與「嘶」聲。\n",
      "貓與人類對低頻聲音靈敏度相若。人類中只有極少數的調音師能聽到20 kHz以上的高頻聲音（8.4度的八度音），貓則可達64kHz（10度的八度音），比人類要高1.6個八度音，甚至比狗要高1個八度；但是貓辨別音差須開最少5度，比起人類辨別音差須開最少0.5度來得粗疏。[51][55]\n",
      "\n",
      "嗅覺[编辑]\n",
      "家貓的嗅覺較人類靈敏14倍[56]。貓的鼻腔內有2億個嗅覺受器，數量甚至超過某些品種的狗（狗嗅覺細胞約1.25億～2.2億）。\n",
      "\n",
      "味覺[编辑]\n",
      "貓早期演化時由於基因突變，失去了甜的味覺，[57]但貓不光能感知酸、苦、鹹味，选择适合自己口味的食物，还能尝出水的味道，这一点是其他动物所不及的。不过总括来说猫的味觉不算完善，相比一般人類平均有9000個味蕾，貓一般平均僅有473個味蕾且不喜好低於室溫之食物。故此，貓辨認食物乃憑嗅覺多於味覺。[51]\n",
      "\n",
      "觸覺[编辑]\n",
      "貓在磨蹭時身上會散發出特別的費洛蒙，當這些獨有的費洛蒙留下時，目的就是在宣誓主權，提醒其它貓這是我的，其實這種行為算是一種標記地盤的象徵，會讓牠們有感到安心及安全感。\n",
      "\n",
      "^ 生物學特性和解剖生理特點-醫生在線[永久失效連結]\n",
      "\n",
      "^ 51.0 51.1 51.2 《寵藝透視》. 寵藝透視. 2013-07: 50. \n",
      "\n",
      "^ 貓為什麼要吃老鼠？德國生物學家解開謎團. china.ibtimes.com. [永久失效連結]\n",
      "\n",
      "^ 美國藝術家模擬貓的視覺　記錄貓眼看到的世界景像.   [2014-04-05]. （原始内容存档于2014-04-07）. \n",
      "\n",
      "^ At Home : Care / Health : Understanding Cats.   [2005-08-15]. （原始内容存档于2008-02-01）. \n",
      "\n",
      "^ Strain, G.M., How Well Do Dogs and Other Animals Hear?.   [2007-05-12]. （原始内容存档于2011-08-28）. \n",
      "\n",
      "^ The Nose Knows. About.com.   [2006-11-29]. （原始内容存档于2010-12-06）. \n",
      "\n",
      "^ Li, Xia; Weihua Li, Hong Wang, Jie Cao, Kenji Maehashi, Liquan Huang, Alexander A. Bachmanov, Danielle R. Reed, Véronique Legrand-Defretin, Gary K. Beauchamp, Joseph G. Brand. Pseudogenization of a Sweet-Receptor Gene Accounts for Cats' Indifference toward Sugar. PLOS Genetics (Public Library of Science). 2005-07-25, 1 (1)  [2006-11-08]. doi:10.1371/journal.pgen.0010003. （原始内容存档于2021-03-13）.  引文使用过时参数coauthors (帮助)\n",
      "\n",
      "^ 胡苓芝、李冠群. 三花猫-花色形成的原因(下)（Calico Cat）. 科學Online. 2009-04-27  [2015-02-19]. （原始内容存档于2015-02-19）.\u001B[0m\u001B[32;1m\u001B[1;3m猫的特征主要包括以下几个方面：\n",
      "\n",
      "1. **感官**：\n",
      "   - **视力**：猫的夜视能力非常强，是人类的六倍，能在微弱的光线下看清物体。虽然猫的色彩辨识较差（对于黄色和蓝色敏感），但它们的眼睛有特殊的结构（Tapetum Lucidum）可以增强低光条件下的视觉。\n",
      "   - **听觉**：猫的耳朵有32条独立肌肉，能够独立转动，能准确定位声音来源。它们能听到超出人类所能听到的频率（最高可达64 kHz）。\n",
      "   - **嗅觉**：猫的嗅觉很灵敏，约为人类的14倍，拥有约2亿个嗅觉受器。\n",
      "   - **味觉**：猫对甜味的感知能力较弱，仅能感知酸、苦和咸的味道，且偏好适合自己口感的食物。\n",
      "   - **触觉**：猫的触觉较敏感，面部和身体上有许多感应毛，帮助它们感知周围环境。\n",
      "\n",
      "2. **爪子**：\n",
      "   - 猫的爪子是尖锐且具伸缩性的，可以在行走时收回，行走无声以帮助捕猎。\n",
      "\n",
      "3. **行为特征**：\n",
      "   - 猫通常喜欢磨爪，选择的磨爪物不同，可能是家具或其他物品。\n",
      "   - 它们通过发出独特的费洛蒙来标记领土，给自己带来安全感。\n",
      "\n",
      "整体来说，猫的特征使其非常适合于狩猎和适应各种环境。\u001B[0m\n",
      "\n",
      "\u001B[1m> Finished chain.\u001B[0m\n",
      "{'input': '今天猫的特征', 'output': '猫的特征主要包括以下几个方面：\\n\\n1. **感官**：\\n   - **视力**：猫的夜视能力非常强，是人类的六倍，能在微弱的光线下看清物体。虽然猫的色彩辨识较差（对于黄色和蓝色敏感），但它们的眼睛有特殊的结构（Tapetum Lucidum）可以增强低光条件下的视觉。\\n   - **听觉**：猫的耳朵有32条独立肌肉，能够独立转动，能准确定位声音来源。它们能听到超出人类所能听到的频率（最高可达64 kHz）。\\n   - **嗅觉**：猫的嗅觉很灵敏，约为人类的14倍，拥有约2亿个嗅觉受器。\\n   - **味觉**：猫对甜味的感知能力较弱，仅能感知酸、苦和咸的味道，且偏好适合自己口感的食物。\\n   - **触觉**：猫的触觉较敏感，面部和身体上有许多感应毛，帮助它们感知周围环境。\\n\\n2. **爪子**：\\n   - 猫的爪子是尖锐且具伸缩性的，可以在行走时收回，行走无声以帮助捕猎。\\n\\n3. **行为特征**：\\n   - 猫通常喜欢磨爪，选择的磨爪物不同，可能是家具或其他物品。\\n   - 它们通过发出独特的费洛蒙来标记领土，给自己带来安全感。\\n\\n整体来说，猫的特征使其非常适合于狩猎和适应各种环境。'}\n"
     ]
    }
   ],
   "execution_count": 27
  },
  {
   "metadata": {},
   "cell_type": "markdown",
   "source": "# 7 添加记忆",
   "id": "67aa014df60651f4"
  },
  {
   "metadata": {
    "ExecuteTime": {
     "end_time": "2025-11-01T07:28:31.363235Z",
     "start_time": "2025-11-01T07:28:30.401186Z"
    }
   },
   "cell_type": "code",
   "source": [
    "from langchain_community.chat_message_histories import ChatMessageHistory\n",
    "\n",
    "from langchain_core.chat_history import BaseChatMessageHistory\n",
    "\n",
    "from langchain_core.runnables.history import RunnableWithMessageHistory\n",
    "\n",
    "store = {}\n",
    "\n",
    "# 调取指定session_id对应的memory\n",
    "def get_session_history(session_id: str) -> BaseChatMessageHistory:\n",
    "\n",
    "    if session_id not in store:\n",
    "        store[session_id] = ChatMessageHistory()\n",
    "\n",
    "    return store[session_id]\n",
    "\n",
    "agent_with_chat_history = RunnableWithMessageHistory(\n",
    "    runnable=agent_executor,\n",
    "    get_session_history=get_session_history,\n",
    "    input_messages_key=\"input\",\n",
    "    history_messages_key=\"chat_history\",\n",
    ")\n",
    "\n",
    "response = agent_with_chat_history.invoke(\n",
    "    {\"input\": \"Hi，我的名字是Cyber\"},\n",
    "    config={\"configurable\": {\"session_id\": \"123\"}},\n",
    ")\n",
    "\n",
    "print(response)"
   ],
   "id": "dee6d438c8d7eef3",
   "outputs": [
    {
     "name": "stdout",
     "output_type": "stream",
     "text": [
      "\n",
      "\n",
      "\u001B[1m> Entering new AgentExecutor chain...\u001B[0m\n",
      "\u001B[32;1m\u001B[1;3m嗨，Cyber！很高兴见到你！有什么我可以帮助你的吗？\u001B[0m\n",
      "\n",
      "\u001B[1m> Finished chain.\u001B[0m\n",
      "{'input': 'Hi，我的名字是Cyber', 'chat_history': [], 'output': '嗨，Cyber！很高兴见到你！有什么我可以帮助你的吗？'}\n"
     ]
    }
   ],
   "execution_count": 28
  },
  {
   "metadata": {
    "ExecuteTime": {
     "end_time": "2025-11-01T07:28:35.947767Z",
     "start_time": "2025-11-01T07:28:35.154077Z"
    }
   },
   "cell_type": "code",
   "source": [
    "response = agent_with_chat_history.invoke(\n",
    "    {\"input\": \"我叫什么名字?\"},\n",
    "    config={\"configurable\": {\"session_id\": \"123\"}},\n",
    ")\n",
    "\n",
    "print(response)"
   ],
   "id": "3d76881393ef4315",
   "outputs": [
    {
     "name": "stdout",
     "output_type": "stream",
     "text": [
      "\n",
      "\n",
      "\u001B[1m> Entering new AgentExecutor chain...\u001B[0m\n",
      "\u001B[32;1m\u001B[1;3m你的名字是Cyber。需要我帮你做什么吗？\u001B[0m\n",
      "\n",
      "\u001B[1m> Finished chain.\u001B[0m\n",
      "{'input': '我叫什么名字?', 'chat_history': [HumanMessage(content='Hi，我的名字是Cyber', additional_kwargs={}, response_metadata={}), AIMessage(content='嗨，Cyber！很高兴见到你！有什么我可以帮助你的吗？', additional_kwargs={}, response_metadata={})], 'output': '你的名字是Cyber。需要我帮你做什么吗？'}\n"
     ]
    }
   ],
   "execution_count": 29
  },
  {
   "metadata": {
    "ExecuteTime": {
     "end_time": "2025-11-01T07:28:38.160521Z",
     "start_time": "2025-11-01T07:28:37.068989Z"
    }
   },
   "cell_type": "code",
   "source": [
    "response = agent_with_chat_history.invoke(\n",
    "    {\"input\": \"我叫什么名字?\"},\n",
    "    config={\"configurable\": {\"session_id\": \"4566\"}},\n",
    ")\n",
    "print(response)"
   ],
   "id": "e0046cfeba0c75f",
   "outputs": [
    {
     "name": "stdout",
     "output_type": "stream",
     "text": [
      "\n",
      "\n",
      "\u001B[1m> Entering new AgentExecutor chain...\u001B[0m\n",
      "\u001B[32;1m\u001B[1;3m抱歉，我无法知道你的名字。你可以告诉我你的名字，或者我可以帮助你找到其他想知道的信息。\u001B[0m\n",
      "\n",
      "\u001B[1m> Finished chain.\u001B[0m\n",
      "{'input': '我叫什么名字?', 'chat_history': [], 'output': '抱歉，我无法知道你的名字。你可以告诉我你的名字，或者我可以帮助你找到其他想知道的信息。'}\n"
     ]
    }
   ],
   "execution_count": 30
  }
 ],
 "metadata": {
  "kernelspec": {
   "display_name": "Python 3",
   "language": "python",
   "name": "python3"
  },
  "language_info": {
   "codemirror_mode": {
    "name": "ipython",
    "version": 2
   },
   "file_extension": ".py",
   "mimetype": "text/x-python",
   "name": "python",
   "nbconvert_exporter": "python",
   "pygments_lexer": "ipython2",
   "version": "2.7.6"
  }
 },
 "nbformat": 4,
 "nbformat_minor": 5
}
