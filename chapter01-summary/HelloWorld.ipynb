{
 "cells": [
  {
   "metadata": {},
   "cell_type": "markdown",
   "source": "# 1、获取大模型",
   "id": "1c9caf9f45ff0ece"
  },
  {
   "metadata": {
    "ExecuteTime": {
     "end_time": "2025-10-29T11:28:49.511761Z",
     "start_time": "2025-10-29T11:28:49.329356Z"
    }
   },
   "cell_type": "code",
   "source": [
    "#导入 dotenv 库的 load_dotenv 函数，用于加载环境变量文件（.env）中的配置\n",
    "import dotenv\n",
    "from langchain_openai import ChatOpenAI\n",
    "import os\n",
    "\n",
    "dotenv.load_dotenv()  #加载当前目录下的 .env 文件\n",
    "\n",
    "os.environ['OPENAI_API_KEY'] = os.getenv(\"OPENAI_API_KEY1\")\n",
    "os.environ['OPENAI_BASE_URL'] = os.getenv(\"OPENAI_BASE_URL\")"
   ],
   "id": "dca800521d332f2",
   "outputs": [],
   "execution_count": 2
  },
  {
   "metadata": {
    "ExecuteTime": {
     "end_time": "2025-10-29T10:32:23.236756Z",
     "start_time": "2025-10-29T10:31:41.248028Z"
    }
   },
   "cell_type": "code",
   "source": [
    "\n",
    "# 创建大模型实例\n",
    "llm = ChatOpenAI(model=\"deepseek-chat\")  # 2块\n",
    "\n",
    "# 直接提供问题，并调用llm\n",
    "response = llm.invoke(\"什么是大模型？\")\n",
    "print(response)"
   ],
   "id": "ce788165255a6aee",
   "outputs": [
    {
     "name": "stdout",
     "output_type": "stream",
     "text": [
      "content='当然，很高兴为你解释什么是“大模型”！\\n\\n这是一个非常核心的现代科技概念。我们可以把它拆解开来，用通俗易懂的方式理解。\\n\\n### 一句话概括\\n\\n**大模型**，通常指的是**大语言模型**，它是一种基于海量数据训练的、拥有巨大参数量的深度学习模型。它能够理解、生成和处理人类语言，完成各种复杂的任务，比如对话、写作、翻译、编程等。\\n\\n你可以把它想象成一个**博览群书、学富五车的人工智能大脑**。\\n\\n---\\n\\n### 深入解析：大模型的三个核心特征\\n\\n要理解大模型，抓住以下三个关键点就够了：\\n\\n#### 1. “大”在何处？\\n这个“大”主要体现在三个方面：\\n*   **大数据**：它的“教材”是整个互联网——包括维基百科、新闻网站、书籍、论文、论坛帖子、代码库等等，训练数据量可达数千亿甚至数万亿个单词。\\n*   **大参数**：参数是模型内部学到的“知识单元”，可以理解为它的“脑细胞”数量。大模型的参数量动辄达到百亿、千亿甚至万亿级别。例如，GPT-3有1750亿个参数。参数越多，模型能理解和记忆的复杂模式就越多。\\n*   **大算力**：训练这样一个庞然大物需要巨大的计算资源，通常需要成千上万个高性能GPU连续运算数周甚至数月，耗资巨大。\\n\\n#### 2. 它的核心技术：Transformer\\n大模型的爆发式发展，很大程度上归功于2017年谷歌提出的一种名为 **Transformer** 的神经网络架构。它就像一个极其高效的“阅读理解器”，能够同时处理大量的文本信息，并精准地捕捉词语之间的复杂关系（比如“它”指代的是前面提到的哪个名词）。这使得模型能够更好地理解上下文，生成长篇且连贯的文本。\\n\\n#### 3. 它的核心能力：“涌现”与“泛化”\\n这是大模型最神奇的地方：\\n*   **涌现能力**：当模型的规模（数据和参数）达到一定程度时，它会突然表现出一些在小型模型中没有的、未曾被明确训练过的能力。比如：\\n    *   **上下文学习**：只需在对话中给它几个例子，它就能学会并执行一个新任务（比如将中文翻译成法文，即使它没被专门训练过做中译法）。\\n    *   **思维链**：能够一步步地推理复杂问题（比如解数学应用题）。\\n    *   **代码生成与理解**。\\n*   **泛化能力**：它不再是一个“死记硬背”的机器，而是能够举一反三，处理它从未见过的新任务和问题，展现出一定的通用性。\\n\\n---\\n\\n### 大模型能做什么？（应用场景）\\n\\n大模型已经渗透到各个领域，常见的应用包括：\\n*   **智能对话与客服**：如ChatGPT，能够进行流畅、多轮的自然对话。\\n*   **内容创作与辅助**：写邮件、写文案、写小说、写诗歌、头脑风暴。\\n*   **代码助手**：根据自然语言描述生成代码、解释代码、调试程序（如GitHub Copilot）。\\n*   **信息检索与总结**：快速从长文档、多篇报告中提取核心信息，生成摘要。\\n*   **语言翻译**：在多种语言之间进行高质量的互译。\\n*   **教育辅导**：作为个性化的学习伙伴，解答问题、出练习题。\\n\\n---\\n\\n### 知名的大模型例子\\n\\n*   **GPT系列**：由OpenAI开发，如GPT-3、GPT-4，以及基于它们的ChatGPT。\\n*   **Gemini**：由Google开发的多模态大模型。\\n*   **Claude**：由Anthropic开发，注重安全性和 Constitutional AI。\\n*   **Llama系列**：由Meta（Facebook）开发的开源大模型，推动了开源社区的发展。\\n*   **文心一言**：由百度开发的中文大模型。\\n*   **通义千问**：由阿里巴巴开发的中文大模型。\\n\\n---\\n\\n### 挑战与局限性\\n\\n大模型并非完美，也存在一些问题：\\n*   **“幻觉”**：有时会一本正经地编造看似合理但完全错误的信息。\\n*   **知识过时**：它的知识截止于训练数据的时间点，无法获取最新信息（除非通过其他工具联网）。\\n*   **偏见与有害内容**：可能学习并放大训练数据中存在的社会偏见、歧视性言论或错误观点。\\n*   **能耗巨大**：训练和运行大模型消耗大量电力，成本高昂。\\n*   **理解力有限**：它本质上是基于统计概率生成文本，并不真正“理解”其含义，缺乏人类的常识和情感。\\n\\n### 总结\\n\\n总而言之，**大模型是人工智能领域的一次革命性突破，它通过“暴力美学”（海量数据+巨大模型+超强算力）实现了前所未有的自然语言处理能力，成为了通往通用人工智能道路上的一个重要里程碑。** 它正在重塑我们与计算机交互的方式，并将深刻影响各行各业。\\n\\n希望这个解释能帮助你全面地理解“大模型”！如果你对某个具体方面还有疑问，随时可以再问我。' additional_kwargs={'refusal': None} response_metadata={'token_usage': {'completion_tokens': 1064, 'prompt_tokens': 8, 'total_tokens': 1072, 'completion_tokens_details': None, 'prompt_tokens_details': {'audio_tokens': None, 'cached_tokens': 0}, 'prompt_cache_hit_tokens': 0, 'prompt_cache_miss_tokens': 8}, 'model_name': 'deepseek-chat', 'system_fingerprint': 'fp_ffc7281d48_prod0820_fp8_kvcache', 'id': '478aa8e3-ef05-453d-bea5-dc0a14ff2887', 'service_tier': None, 'finish_reason': 'stop', 'logprobs': None} id='run--67bef36f-b867-45d0-9944-4766718cf07c-0' usage_metadata={'input_tokens': 8, 'output_tokens': 1064, 'total_tokens': 1072, 'input_token_details': {'cache_read': 0}, 'output_token_details': {}}\n"
     ]
    }
   ],
   "execution_count": 2
  },
  {
   "metadata": {},
   "cell_type": "markdown",
   "source": "# 2、使用提示词模板",
   "id": "dd908d3010884a30"
  },
  {
   "metadata": {
    "ExecuteTime": {
     "end_time": "2025-10-29T10:33:38.576820Z",
     "start_time": "2025-10-29T10:33:31.145758Z"
    }
   },
   "cell_type": "code",
   "source": [
    "from langchain_core.prompts import ChatPromptTemplate\n",
    "\n",
    "# 从文件读取prompt模板\n",
    "with open(\"prompt.txt\", \"r\", encoding=\"utf-8\") as f:\n",
    "    template_content = f.read()\n",
    "# 需要注意的一点是，这里需要指明具体的role，在这里是system和用户\n",
    "prompt = ChatPromptTemplate.from_messages([\n",
    "    (\"system\", template_content),\n",
    "    (\"user\", \"{input}\")  # {input}为变量\n",
    "])\n",
    "\n",
    "# 我们可以把prompt和具体llm的调用和在一起。\n",
    "chain = prompt | llm\n",
    "message = chain.invoke({\"input\": \"大模型是什么?\"})\n",
    "print(message)\n",
    "\n",
    "# print(type(message))"
   ],
   "id": "3540706aaa244853",
   "outputs": [
    {
     "name": "stdout",
     "output_type": "stream",
     "text": [
      "content='宝贝，你问了一个特别棒的问题！老师用个简单的比喻来告诉你好吗？\\n\\n想象一下，大模型就像一个超级聪明的“大脑图书馆”。这个图书馆里装着好多好多的书，它读过的故事、学过的知识比我们整个学校的图书馆还要多呢！\\n\\n当你问它问题时，它就会在这个大大的“大脑图书馆”里帮你找答案。就像你问“天空为什么是蓝色的？”它就能告诉你关于阳光和小水滴的秘密一样。\\n\\n是不是很神奇呀？你还想知道关于这个“大脑图书馆”的什么事情吗？' additional_kwargs={'refusal': None} response_metadata={'token_usage': {'completion_tokens': 111, 'prompt_tokens': 496, 'total_tokens': 607, 'completion_tokens_details': None, 'prompt_tokens_details': {'audio_tokens': None, 'cached_tokens': 0}, 'prompt_cache_hit_tokens': 0, 'prompt_cache_miss_tokens': 496}, 'model_name': 'deepseek-chat', 'system_fingerprint': 'fp_ffc7281d48_prod0820_fp8_kvcache', 'id': '08ccbf21-7853-4c7b-8b97-1a7143554e7c', 'service_tier': None, 'finish_reason': 'stop', 'logprobs': None} id='run--721278f2-e911-4045-9b9d-6c3d8dddab4f-0' usage_metadata={'input_tokens': 496, 'output_tokens': 111, 'total_tokens': 607, 'input_token_details': {'cache_read': 0}, 'output_token_details': {}}\n"
     ]
    }
   ],
   "execution_count": 3
  },
  {
   "metadata": {},
   "cell_type": "markdown",
   "source": "",
   "id": "3b7111f562678a9b"
  },
  {
   "metadata": {},
   "cell_type": "markdown",
   "source": "# 3、 使用输出解析器",
   "id": "7636c01962fa0c2e"
  },
  {
   "metadata": {
    "ExecuteTime": {
     "end_time": "2025-10-29T10:54:12.313359Z",
     "start_time": "2025-10-29T10:53:39.923096Z"
    }
   },
   "cell_type": "code",
   "source": [
    "from langchain_openai import ChatOpenAI\n",
    "from langchain_core.prompts import ChatPromptTemplate\n",
    "from langchain_core.output_parsers import StrOutputParser,JsonOutputParser\n",
    "\n",
    "# 初始化模型\n",
    "# llm = ChatOpenAI(model=\"deepseek-chat\")\n",
    "llm = ChatOpenAI(model=\"deepseek-reasoner\")\n",
    "# 从文件读取prompt模板\n",
    "with open(\"prompt.txt\", \"r\", encoding=\"utf-8\") as f:\n",
    "    template_content = f.read()\n",
    "# 创建提示模板\n",
    "prompt = ChatPromptTemplate.from_messages([\n",
    "    (\"system\", template_content),\n",
    "    (\"user\", \"{input}\")\n",
    "])\n",
    "\n",
    "# 使用输出解析器\n",
    "# output_parser = StrOutputParser()\n",
    "output_parser = JsonOutputParser()\n",
    "\n",
    "# 将其添加到上一个链中\n",
    "# chain = prompt | llm\n",
    "chain = prompt | llm | output_parser\n",
    "\n",
    "# 调用它并提出同样的问题。答案是一个字符串，而不是ChatMessage\n",
    "# chain.invoke({\"input\": \"LangChain是什么?\"})\n",
    "chain.invoke({\"input\": \"LangChain是什么? 用JSON格式回复，问题用question，回答用answer\"})"
   ],
   "id": "23406024ea864619",
   "outputs": [
    {
     "data": {
      "text/plain": [
       "{'question': 'LangChain是什么？',\n",
       " 'answer': '亲爱的宝贝，你问了一个超级棒的问题！老师很高兴你这么好奇哦。LangChain 就像是一个神奇的积木玩具盒，它帮助电脑变得更聪明、更会聊天。想象一下，你有好多积木，每个积木都能做不同的事情：一个积木能听懂我们说的话，另一个积木能回答问题，还有一个积木能写故事。LangChain 就是把这些积木连起来，让电脑像你的好朋友一样，陪你聊天、讲故事，或者帮你解答问题。是不是很有趣呀？如果你还想知道更多，随时问老师，我们一起探索这个奇妙的世界！'}"
      ]
     },
     "execution_count": 6,
     "metadata": {},
     "output_type": "execute_result"
    }
   ],
   "execution_count": 6
  },
  {
   "metadata": {},
   "cell_type": "markdown",
   "source": "# 4、使用向量存储\n",
   "id": "152461370a49413f"
  },
  {
   "metadata": {},
   "cell_type": "code",
   "outputs": [],
   "execution_count": null,
   "source": "!pip install faiss-cpu",
   "id": "22ef11519047b42d"
  },
  {
   "metadata": {
    "ExecuteTime": {
     "end_time": "2025-10-29T11:42:37.093758Z",
     "start_time": "2025-10-29T11:42:35.435576Z"
    }
   },
   "cell_type": "code",
   "source": [
    "# 导入和使用 WebBaseLoader\n",
    "from langchain_community.document_loaders import WebBaseLoader\n",
    "import bs4\n",
    "\n",
    "loader = WebBaseLoader(\n",
    "        web_path=\"https://www.gov.cn/lianbo/bumen/202510/content_7045055.htm\",   #原来的打不开了\n",
    "        bs_kwargs=dict(parse_only=bs4.SoupStrainer(id=\"UCAP-CONTENT\"))\n",
    "    )\n",
    "docs = loader.load()\n",
    "# print(docs)\n",
    "\n",
    "# 对于嵌入模型，这里通过 API调用\n",
    "from langchain_openai import OpenAIEmbeddings\n",
    "\n",
    "embeddings = OpenAIEmbeddings(model=\"text-embedding-ada-002\")   #0.1美元\n",
    "\n",
    "\n",
    "from langchain_community.vectorstores import FAISS\n",
    "from langchain_text_splitters import RecursiveCharacterTextSplitter\n",
    "\n",
    "# 使用分割器分割文档\n",
    "text_splitter = RecursiveCharacterTextSplitter(chunk_size=500, chunk_overlap=50)\n",
    "documents = text_splitter.split_documents(docs)\n",
    "print(len(documents))\n",
    "# 向量存储  embeddings 会将 documents 中的每个文本片段转换为向量，并将这些向量存储在 FAISS 向量数据库中\n",
    "vector = FAISS.from_documents(documents, embeddings)"
   ],
   "id": "c182765067f9f4eb",
   "outputs": [
    {
     "name": "stdout",
     "output_type": "stream",
     "text": [
      "12\n"
     ]
    }
   ],
   "execution_count": 5
  },
  {
   "metadata": {},
   "cell_type": "markdown",
   "source": "# 5、RAG(检索增强生成)",
   "id": "795b38c85dfb39fe"
  },
  {
   "metadata": {
    "ExecuteTime": {
     "end_time": "2025-10-29T11:45:06.991512Z",
     "start_time": "2025-10-29T11:44:17.287151Z"
    }
   },
   "cell_type": "code",
   "source": [
    "from langchain_core.prompts import PromptTemplate\n",
    "\n",
    "retriever = vector.as_retriever()\n",
    "retriever.search_kwargs = {\"k\": 3}\n",
    "docs = retriever.invoke(\"经济怎么样？\")\n",
    "\n",
    "# for i,doc in enumerate(docs):\n",
    "#     print(f\"⭐第{i+1}条规定：\")\n",
    "#     print(doc)\n",
    "\n",
    "# 6.定义提示词模版\n",
    "prompt_template = \"\"\"\n",
    "你是一个问答机器人。\n",
    "你的任务是根据下述给定的已知信息回答用户问题。\n",
    "确保你的回复完全依据下述已知信息。不要编造答案。\n",
    "如果下述已知信息不足以回答用户的问题，请直接回复\"我无法回答您的问题\"。\n",
    "\n",
    "已知信息:\n",
    "{info}\n",
    "\n",
    "用户问：\n",
    "{question}\n",
    "\n",
    "请用中文回答用户问题。\n",
    "\"\"\"\n",
    "# 7.得到提示词模版对象\n",
    "template = PromptTemplate.from_template(prompt_template)\n",
    "llm = ChatOpenAI(model=\"deepseek-reasoner\")\n",
    "# 8.得到提示词对象\n",
    "prompt = template.format(info=docs, question='经济怎么样？')\n",
    "\n",
    "## 9. 调用LLM\n",
    "response = llm.invoke(prompt)\n",
    "print(response.content)"
   ],
   "id": "dcfa2c4bd0704d50",
   "outputs": [
    {
     "name": "stdout",
     "output_type": "stream",
     "text": [
      "根据已知信息，2025年前三季度中国经济运行总体呈现“稳中有进”的态势，高质量发展取得积极成效。以下是关键经济指标的概述：\n",
      "\n",
      "1. **国内生产总值（GDP）**：前三季度国内生产总值为1015036亿元，按不变价格计算，同比增长5.2%。分季度看，一季度增长5.4%，二季度增长5.2%，三季度增长4.8%；环比看，三季度增长1.1%。\n",
      "2. **产业增长**：\n",
      "   - 第一产业增加值58061亿元，同比增长3.8%。\n",
      "   - 第二产业增加值364020亿元，增长4.9%。\n",
      "   - 第三产业增加值592955亿元，增长5.4%。\n",
      "3. **就业**：全国城镇调查失业率平均值为5.2%。9月份失业率为5.2%，比上月下降0.1个百分点。就业形势总体稳定。\n",
      "4. **居民收入**：全国居民人均可支配收入32509元，同比名义增长平稳（具体增长率未在信息中提供）。\n",
      "5. **进出口**：货物进出口总额336078亿元，同比增长4.0%。其中，出口199450亿元，增长7.1%；进口136629亿元，下降0.2%。民营企业进出口增长较快，占进出口总额的57.0%。\n",
      "6. **价格指数**：\n",
      "   - 居民消费价格（CPI）同比下降0.1%。9月份CPI同比下降0.3%，环比上涨0.1%。\n",
      "   - 核心CPI（扣除食品和能源）同比上涨0.6%，9月份同比上涨1.0%。\n",
      "   - 工业生产者出厂价格（PPI）同比下降2.8%，9月份降幅收窄至2.3%。\n",
      "\n",
      "总体来看，国民经济顶住压力，延续了稳中有进的发展态势，生产供给平稳增长，就业物价总体稳定，新动能稳步成长，展现出强大韧性和活力。如果您有更具体的问题，我可以进一步基于已知信息解答。\n"
     ]
    }
   ],
   "execution_count": 7
  },
  {
   "metadata": {},
   "cell_type": "markdown",
   "source": "# 6、使用Agent",
   "id": "d9feeb62844c3439"
  },
  {
   "metadata": {
    "ExecuteTime": {
     "end_time": "2025-10-29T12:26:14.799595Z",
     "start_time": "2025-10-29T12:26:03.570400Z"
    }
   },
   "cell_type": "code",
   "source": [
    "from langchain.tools.retriever import create_retriever_tool\n",
    "\n",
    "# 检索器工具\n",
    "retriever_tool = create_retriever_tool(\n",
    "    retriever,\n",
    "    \"CivilCodeRetriever\",\n",
    "    \"搜索有关经济的信息。关于经济的任何问题，您必须使用此工具!\",\n",
    ")\n",
    "\n",
    "tools = [retriever_tool]\n",
    "\n",
    "from langchain import hub\n",
    "from langchain.agents import create_openai_functions_agent\n",
    "from langchain.agents import AgentExecutor\n",
    "\n",
    "# https://smith.langchain.com/hub\n",
    "prompt = hub.pull(\"hwchase17/openai-functions-agent\")\n",
    "llm = ChatOpenAI(model=\"gpt-4o-mini\") #0.6美元  用deepseek模型不调用工具\n",
    "agent = create_openai_functions_agent(llm, tools, prompt)\n",
    "agent_executor = AgentExecutor(agent=agent, tools=tools, verbose=True)\n",
    "\n",
    "# 运行代理\n",
    "agent_executor.invoke({\"input\": \"问题：25年经济怎么样？\"})"
   ],
   "id": "26eb95f11df6bc53",
   "outputs": [
    {
     "name": "stdout",
     "output_type": "stream",
     "text": [
      "\n",
      "\n",
      "\u001B[1m> Entering new AgentExecutor chain...\u001B[0m\n",
      "\u001B[32;1m\u001B[1;3m\n",
      "Invoking: `CivilCodeRetriever` with `{'query': '2025年经济预测'}`\n",
      "\n",
      "\n",
      "\u001B[0m\u001B[36;1m\u001B[1;3m前三季度经济运行稳中有进 高质量发展取得积极成效（2025年10月20日）国家统计局前三季度，在以习近平同志为核心的党中央坚强领导下，各地区各部门认真贯彻落实党中央、国务院决策部署，坚持稳中求进工作总基调，完整准确全面贯彻新发展理念，加快构建新发展格局，认真实施更加积极有为的宏观政策，积极做强国内大循环，促进国内国际双循环，扎实推动高质量发展，国民经济顶住压力延续稳中有进发展态势，生产供给平稳增长，就业物价总体稳定，新动能稳步成长，民生保障有力有效，经济运行展现出强大韧性和活力。初步核算，前三季度国内生产总值1015036亿元，按不变价格计算，同比增长5.2%。分产业看，第一产业增加值58061亿元，同比增长3.8%；第二产业增加值364020亿元，增长4.9%；第三产业增加值592955亿元，增长5.4%。分季度看，一季度国内生产总值同比增长5.4%，二季度增长5.2%，三季度增长4.8%。从环比看，三季度国内生产总值增长1.1%。一、农业生产形势较好，畜牧业平稳增长前三季度，农业（种植业）增加值同比增长3.6%。全国夏粮早稻产量合计17825万吨，比上年增加19万吨，增长0.1%\n",
      "\n",
      "3D打印设备、工业机器人、新能源汽车产品产量同比分别增长40.5%、29.8%、29.7%。9月份，规模以上工业增加值同比增长6.5%，环比增长0.64%。9月份，制造业采购经理指数为49.8%，比上月上升0.4个百分点；企业生产经营活动预期指数为54.1%，上升0.4个百分点。1—8月份，全国规模以上工业企业实现利润总额46930亿元，同比增长0.9%。三、服务业平稳增长，现代服务业发展良好前三季度，服务业增加值同比增长5.4%。其中，信息传输、软件和信息技术服务业，租赁和商务服务业，交通运输、仓储和邮政业，批发和零售业增加值分别增长11.2%、9.2%、5.8%、5.6%。9月份，全国服务业生产指数同比增长5.6%。其中，信息传输、软件和信息技术服务业，金融业，租赁和商务服务业，交通运输、仓储和邮政业生产指数分别增长12.8%、8.7%、7.8%、5.7%。1—8月份，规模以上服务业企业营业收入同比增长7.7%。9月份，服务业商务活动指数为50.1%，服务业业务活动预期指数为56.3%。其中，邮政、电信广播电视及卫星传输服务、货币金融服务等行业商务活动指数位于60.0%以上高位景气\n",
      "\n",
      "%。其中，邮政、电信广播电视及卫星传输服务、货币金融服务等行业商务活动指数位于60.0%以上高位景气区间。四、市场销售稳步增长，服务零售增长较快前三季度，社会消费品零售总额365877亿元，同比增长4.5%。按经营单位所在地分，城镇消费品零售额316838亿元，同比增长4.4%；乡村消费品零售额49039亿元，增长4.6%。按消费类型分，商品零售额324888亿元，增长4.6%；餐饮收入40989亿元，增长3.3%。基本生活类和部分升级类商品销售增势较好，限额以上单位粮油食品类、体育娱乐用品类、金银珠宝类商品零售额分别增长10.4%、19.6%、11.5%。消费品以旧换新政策持续显效，限额以上单位家用电器和音像器材类、家具类、通讯器材类、文化办公用品类商品零售额分别增长25.3%、21.3%、20.5%、19.9%。全国网上零售额112830亿元，同比增长9.8%。其中，实物商品网上零售额91528亿元，增长6.5%，占社会消费品零售总额的比重为25.0%。9月份，社会消费品零售总额同比增长3.0%，环比下降0.18%。前三季度，服务零售额同比增长5.2%。其中，文体休闲服务类、通讯信\u001B[0m\u001B[32;1m\u001B[1;3m根据最新的经济数据，2025年前三季度的经济运行情况表现出稳中有进的态势。具体来看：\n",
      "\n",
      "1. **国内生产总值（GDP）**：\n",
      "   - 2025年前三季度，国内生产总值达1015036亿元，同比增长5.2%。\n",
      "   - 分产业来看，第一产业增加值增长3.8%，第二产业增长4.9%，第三产业增长5.4%。\n",
      "\n",
      "2. **农业与制造业**：\n",
      "   - 农业（主要是种植业）增长3.6%，夏粮和早稻的产量有所提升。\n",
      "   - 工业方面，规模以上工业增加值9月份同比增长6.5%，主要集中在3D打印设备、工业机器人和新能源汽车等新兴产业。\n",
      "\n",
      "3. **服务业**：\n",
      "   - 服务业增加值同比增长5.4%。\n",
      "   - 现代服务业表现良好，信息传输、软件和信息技术服务业等领域增速较快。\n",
      "\n",
      "4. **消费市场**：\n",
      "   - 社会消费品零售总额前三季度达到365877亿元，同比增长4.5%。\n",
      "   - 网购市场继续增长，网上零售额同比增长9.8%。\n",
      "\n",
      "5. **就业与物价**：\n",
      "   - 整体就业和物价保持稳定，新动能逐步成长，民生保障有效。\n",
      "\n",
      "总体来说，2025年的经济发展在各方面显示出良好的韧性和活力，继续推动高质量发展，同时面临的压力也在得到有效应对。\u001B[0m\n",
      "\n",
      "\u001B[1m> Finished chain.\u001B[0m\n"
     ]
    },
    {
     "data": {
      "text/plain": [
       "{'input': '问题：25年经济怎么样？',\n",
       " 'output': '根据最新的经济数据，2025年前三季度的经济运行情况表现出稳中有进的态势。具体来看：\\n\\n1. **国内生产总值（GDP）**：\\n   - 2025年前三季度，国内生产总值达1015036亿元，同比增长5.2%。\\n   - 分产业来看，第一产业增加值增长3.8%，第二产业增长4.9%，第三产业增长5.4%。\\n\\n2. **农业与制造业**：\\n   - 农业（主要是种植业）增长3.6%，夏粮和早稻的产量有所提升。\\n   - 工业方面，规模以上工业增加值9月份同比增长6.5%，主要集中在3D打印设备、工业机器人和新能源汽车等新兴产业。\\n\\n3. **服务业**：\\n   - 服务业增加值同比增长5.4%。\\n   - 现代服务业表现良好，信息传输、软件和信息技术服务业等领域增速较快。\\n\\n4. **消费市场**：\\n   - 社会消费品零售总额前三季度达到365877亿元，同比增长4.5%。\\n   - 网购市场继续增长，网上零售额同比增长9.8%。\\n\\n5. **就业与物价**：\\n   - 整体就业和物价保持稳定，新动能逐步成长，民生保障有效。\\n\\n总体来说，2025年的经济发展在各方面显示出良好的韧性和活力，继续推动高质量发展，同时面临的压力也在得到有效应对。'}"
      ]
     },
     "execution_count": 15,
     "metadata": {},
     "output_type": "execute_result"
    }
   ],
   "execution_count": 15
  }
 ],
 "metadata": {
  "kernelspec": {
   "display_name": "tellme",
   "language": "python",
   "name": "tellme"
  },
  "language_info": {
   "codemirror_mode": {
    "name": "ipython",
    "version": 2
   },
   "file_extension": ".py",
   "mimetype": "text/x-python",
   "name": "python",
   "nbconvert_exporter": "python",
   "pygments_lexer": "ipython2",
   "version": "2.7.6"
  }
 },
 "nbformat": 4,
 "nbformat_minor": 5
}
