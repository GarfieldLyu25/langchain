{
 "cells": [
  {
   "metadata": {},
   "cell_type": "markdown",
   "source": [
    "# 1、create_sql_query_chain的使用\n",
    "\n",
    "举例1："
   ],
   "id": "1765edddb05fa68e"
  },
  {
   "metadata": {},
   "cell_type": "code",
   "outputs": [],
   "execution_count": null,
   "source": "!pip install pymysql",
   "id": "2411a33bd13bd154"
  },
  {
   "metadata": {
    "ExecuteTime": {
     "end_time": "2025-10-30T04:34:05.912458Z",
     "start_time": "2025-10-30T04:34:05.835898Z"
    }
   },
   "cell_type": "code",
   "source": [
    "# pip install -U langchain langchain-community langchain-openai\n",
    "from langchain_openai import ChatOpenAI\n",
    "from langchain.chains import create_sql_query_chain\n",
    "from langchain_community.utilities import SQLDatabase\n",
    "\n",
    "# 测试连接本地的mysql数据库\n",
    "db_user = \"root\"\n",
    "db_password = \"123456\"\n",
    "db_host = \"localhost\" #或 127.0.0.1\n",
    "db_port = \"3306\"\n",
    "db_database = \"db_diancan\"\n",
    "# mysql+pymysql://用户名:密码@ip地址:端口号/数据库名\n",
    "db = SQLDatabase.from_uri(f\"mysql+pymysql://{db_user}:{db_password}@{db_host}:{db_port}/{db_database}\")\n",
    "\n",
    "print(\"操作的是哪种数据库：\",db.dialect)\n",
    "print(\"获取数据库中的表：\",db.get_usable_table_names())\n",
    "\n",
    "#执行查询操作\n",
    "res = db.run(\"SELECT COUNT(*) FROM t_order\")\n",
    "print(res)"
   ],
   "id": "fed4ce3b241a3bf6",
   "outputs": [
    {
     "name": "stdout",
     "output_type": "stream",
     "text": [
      "操作的是哪种数据库： mysql\n",
      "获取数据库中的表： ['t_admin', 't_category', 't_dish', 't_order', 't_order_detail', 't_table', 't_unit']\n",
      "[(40,)]\n"
     ]
    }
   ],
   "execution_count": 2
  },
  {
   "metadata": {},
   "cell_type": "markdown",
   "source": "举例2：chain的使用",
   "id": "cf8c8a65def2986f"
  },
  {
   "metadata": {
    "ExecuteTime": {
     "end_time": "2025-10-30T04:45:48.391426Z",
     "start_time": "2025-10-30T04:45:44.768027Z"
    }
   },
   "cell_type": "code",
   "source": [
    "# pip install -U langchain langchain-community langchain-openai\n",
    "from langchain_openai import ChatOpenAI\n",
    "from langchain.chains import create_sql_query_chain\n",
    "from langchain_community.utilities import SQLDatabase\n",
    "\n",
    "#1、获取mysql数据库的连接\n",
    "# 测试连接本地的mysql数据库\n",
    "db_user = \"root\"\n",
    "db_password = \"123456\"\n",
    "db_host = \"localhost\" #或 127.0.0.1\n",
    "db_port = \"3306\"\n",
    "db_database = \"db_diancan\"\n",
    "# mysql+pymysql://用户名:密码@ip地址:端口号/数据库名\n",
    "db = SQLDatabase.from_uri(f\"mysql+pymysql://{db_user}:{db_password}@{db_host}:{db_port}/{db_database}\")\n",
    "\n",
    "# 2、获取大语言模型\n",
    "import os\n",
    "import dotenv\n",
    "from langchain_openai import ChatOpenAI\n",
    "\n",
    "dotenv.load_dotenv()\n",
    "\n",
    "os.environ['OPENAI_API_KEY'] = os.getenv(\"OPENAI_API_KEY1\")\n",
    "os.environ['OPENAI_BASE_URL'] = os.getenv(\"OPENAI_BASE_URL\")\n",
    "chat_model = ChatOpenAI(model=\"gpt-4o-mini\")\n",
    "\n",
    "# 3、创建create_sql_query_chain的实例\n",
    "chain = create_sql_query_chain(chat_model, db)\n",
    "response = chain.invoke({\"question\": \"数据表t_admin中一共有多少个管理员？\",\n",
    "                         \"table_names_to_use\":[\"t_admin\"]})\n",
    "print(response)\n",
    "\n",
    "# 3、创建create_sql_query_chain的实例\n",
    "chain = create_sql_query_chain(chat_model, db)\n",
    "response = chain.invoke({\"question\": \"一共有多少个管理员？\",\n",
    "                         })\n",
    "print(response)\n",
    "\n",
    "\n",
    "response = chain.invoke({\"question\": \"数据表t_order中订单金额最高的是那个\",\n",
    "                         \"table_names_to_use\":[\"t_order\"]})\n",
    "print(response)"
   ],
   "id": "484e8743e6497a50",
   "outputs": [
    {
     "name": "stdout",
     "output_type": "stream",
     "text": [
      "SQLQuery: SELECT COUNT(`id`) AS admin_count FROM t_admin;\n",
      "```sql\n",
      "SELECT COUNT(`id`) AS total_admins FROM t_admin;\n",
      "```\n",
      "SQLQuery: SELECT `order_no`, `sett_amount` FROM `t_order` ORDER BY `sett_amount` DESC LIMIT 1;\n"
     ]
    }
   ],
   "execution_count": 4
  },
  {
   "metadata": {},
   "cell_type": "markdown",
   "source": "# 2、create_stuff_documents_chain的使用",
   "id": "e35ead3b5aae2137"
  },
  {
   "metadata": {
    "ExecuteTime": {
     "end_time": "2025-10-30T04:50:04.747417Z",
     "start_time": "2025-10-30T04:50:03.136469Z"
    }
   },
   "cell_type": "code",
   "source": [
    "from langchain.chains.combine_documents import create_stuff_documents_chain\n",
    "from langchain_core.prompts import PromptTemplate\n",
    "from langchain_openai import ChatOpenAI\n",
    "from langchain_core.documents import Document\n",
    "\n",
    "# 定义提示词模板\n",
    "prompt = PromptTemplate.from_template(\"\"\"\n",
    "基于文档{docs}中说的情况，香蕉是什么颜色的？\n",
    "\"\"\")\n",
    "\n",
    "# 创建链\n",
    "llm = ChatOpenAI(model=\"gpt-4o-mini\")\n",
    "chain = create_stuff_documents_chain(llm, prompt, document_variable_name=\"docs\")\n",
    "\n",
    "# 文档输入\n",
    "docs123 = [\n",
    "    Document(\n",
    "        page_content=\"苹果，学名Malus pumila Mill.，别称西洋苹果、柰，属于蔷薇科苹果属的植物。苹果是全球最广泛种植和销售的水果之一，具有悠久的栽培历史和广泛的分布范围。苹果的原始种群主要起源于中亚的天山山脉附近，尤其是现代哈萨克斯坦的阿拉木图地区，提供了所有现代苹果品种的基因库。苹果通过早期的贸易路线，如丝绸之路，从中亚向外扩散到全球各地。\"\n",
    "    ),\n",
    "    Document(\n",
    "        page_content=\"香蕉是白色的水果，主要产自热带地区。\"\n",
    "\n",
    "    ),\n",
    "    Document(\n",
    "        page_content=\"蓝莓是蓝色的浆果，含有抗氧化物质。\"\n",
    "\n",
    "    )\n",
    "]\n",
    "# 执行摘要\n",
    "chain.invoke({\"docs\": docs123})"
   ],
   "id": "3987a26f3dbc406f",
   "outputs": [
    {
     "data": {
      "text/plain": [
       "'根据你给出的信息，香蕉是白色的水果。不过，实际上，成熟的香蕉通常是黄色的。在一些情况下，它们也可能呈现绿色或褐色。因此，如果只根据你描述的内容，香蕉被称为白色的水果。'"
      ]
     },
     "execution_count": 5,
     "metadata": {},
     "output_type": "execute_result"
    }
   ],
   "execution_count": 5
  }
 ],
 "metadata": {
  "kernelspec": {
   "display_name": "Python 3",
   "language": "python",
   "name": "python3"
  },
  "language_info": {
   "codemirror_mode": {
    "name": "ipython",
    "version": 2
   },
   "file_extension": ".py",
   "mimetype": "text/x-python",
   "name": "python",
   "nbconvert_exporter": "python",
   "pygments_lexer": "ipython2",
   "version": "2.7.6"
  }
 },
 "nbformat": 4,
 "nbformat_minor": 5
}
