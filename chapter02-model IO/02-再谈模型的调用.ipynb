{
 "cells": [
  {
   "metadata": {},
   "cell_type": "markdown",
   "source": [
    "# 1、关于对话模型中消息（message）的使用\n",
    "\n",
    "标准的对话模型的调用过程：\n",
    "\n",
    "invoke()的输入可以是多种类型，典型的类型有：① 字符串类型 ② 消息列表\n",
    "\n",
    "invoke()的输出类型：BaseMessage的子类：AIMessage"
   ],
   "id": "bd49c9a8b26464b2"
  },
  {
   "metadata": {
    "ExecuteTime": {
     "end_time": "2025-10-29T13:28:12.455754Z",
     "start_time": "2025-10-29T13:28:01.164441Z"
    }
   },
   "cell_type": "code",
   "source": [
    "from langchain_openai import ChatOpenAI\n",
    "import os\n",
    "import dotenv\n",
    "\n",
    "# 前提：加载配置文件\n",
    "dotenv.load_dotenv()\n",
    "\n",
    "os.environ[\"OPENAI_API_KEY\"] = os.getenv(\"OPENAI_API_KEY1\")\n",
    "os.environ[\"OPENAI_BASE_URL\"] = os.getenv(\"OPENAI_BASE_URL\")\n",
    "\n",
    "# 1、获取对话模型\n",
    "chat_model = ChatOpenAI(\n",
    "    # api_key=,\n",
    "    # base_url=,\n",
    "    model_name=\"gpt-4o-mini\",\n",
    ")\n",
    "\n",
    "# 2、调用对话模型\n",
    "response = chat_model.invoke(\"帮我解释一下什么是langchain?\")\n",
    "\n",
    "# 3、处理响应数据\n",
    "# print(response)\n",
    "print(response.content)\n",
    "print(type(response))  #<class 'langchain_core.messages.ai.AIMessage'>"
   ],
   "id": "cd67cf80cf802e39",
   "outputs": [
    {
     "name": "stdout",
     "output_type": "stream",
     "text": [
      "LangChain 是一个用于构建基于自然语言处理（NLP）应用的框架，特别是与大型语言模型（如 OpenAI 的 GPT 系列模型）交互的应用。其设计目的是通过简化开发过程，使得开发者能够更容易地创建复杂的对话系统、数据分析工具和其他需要理解自然语言的程序。\n",
      "\n",
      "LangChain 的几个主要特点包括：\n",
      "\n",
      "1. **组件化结构**：LangChain 提供了一系列可复用的组件，开发者可以根据需求灵活组合这些组件来构建自己的应用。例如，解析用户输入、生成文本、与外部数据源交互等功能都有相应的模块。\n",
      "\n",
      "2. **数据连接**：LangChain 支持与多种数据源集成，包括数据库、API 和文件系统，使得应用能够处理和分析更多类型的数据。\n",
      "\n",
      "3. **支持多种模型**：虽然 LangChain 主要与大型语言模型合作，但它也可以与其他类型的机器学习模型结合使用，增强应用的功能。\n",
      "\n",
      "4. **上下文管理**：在对话系统中，管理上下文信息是非常重要的，LangChain 提供了工具来帮助开发者保持对话状态，从而提升用户体验。\n",
      "\n",
      "总的来说，LangChain 是一个强大的工具，旨在降低构建基于语言的应用的复杂性，并为开发者提供丰富的功能和灵活性。\n",
      "<class 'langchain_core.messages.ai.AIMessage'>\n"
     ]
    }
   ],
   "execution_count": 2
  },
  {
   "metadata": {},
   "cell_type": "markdown",
   "source": [
    "关于消息：\n",
    "\n",
    "有典型的三类消息：SystemMessage \\ HumanMessage \\ AIMessage\n",
    "\n",
    "举例1：\n"
   ],
   "id": "52e5556e285b743c"
  },
  {
   "metadata": {
    "ExecuteTime": {
     "end_time": "2025-08-23T02:15:43.901402Z",
     "start_time": "2025-08-23T02:15:43.891917Z"
    }
   },
   "cell_type": "code",
   "source": [
    "from langchain_core.messages import SystemMessage, HumanMessage\n",
    "\n",
    "system_message = SystemMessage(content=\"你是一个英语教学方向的专家\")\n",
    "human_message = HumanMessage(content=\"帮我制定一个英语六级学习的计划\")\n",
    "\n",
    "messages = [system_message, human_message]\n",
    "\n",
    "print(messages)"
   ],
   "id": "a3b7df73e6bcb3cb",
   "outputs": [
    {
     "name": "stdout",
     "output_type": "stream",
     "text": [
      "[SystemMessage(content='你是一个英语教学方向的专家', additional_kwargs={}, response_metadata={}), HumanMessage(content='帮我制定一个英语六级学习的计划', additional_kwargs={}, response_metadata={})]\n"
     ]
    }
   ],
   "execution_count": 3
  },
  {
   "metadata": {},
   "cell_type": "markdown",
   "source": "使用大模型，调用消息列表",
   "id": "85d8243d1bd0e326"
  },
  {
   "metadata": {
    "ExecuteTime": {
     "end_time": "2025-08-23T02:17:34.328627Z",
     "start_time": "2025-08-23T02:17:25.342Z"
    }
   },
   "cell_type": "code",
   "source": [
    "response = chat_model.invoke(messages)\n",
    "print(type(response))\n",
    "print(response.content)"
   ],
   "id": "fbf1fb8097053003",
   "outputs": [
    {
     "name": "stdout",
     "output_type": "stream",
     "text": [
      "<class 'langchain_core.messages.ai.AIMessage'>\n",
      "以下是一个为期三个月的英语六级学习计划，适合有一定基础的学生。该计划涵盖听力、阅读、写作和翻译等各个方面，建议每天坚持学习，灵活调整进度。\n",
      "\n",
      "### 第一个月：基础强化\n",
      "\n",
      "#### Week 1-2: 听力与词汇\n",
      "- **听力**: \n",
      "  - 每天听30分钟英语六级真题听力，集中在听辨和笔记。\n",
      "  - 选择适合的听力材料（如VOA、BBC）进行跟读练习。\n",
      "- **词汇**: \n",
      "  - 每天学习20个六级核心词汇，利用记忆法（如联想记忆）加深印象。\n",
      "  - 每周复习一遍所有词汇。\n",
      "\n",
      "#### Week 3-4: 阅读与语法\n",
      "- **阅读**:\n",
      "  - 每天阅读1篇六级真题阅读理解，分析文章结构和主要观点。\n",
      "  - 进行细节题、推理题的练习，培养答题技巧。\n",
      "- **语法**:\n",
      "  - 每周学习2-3个语法点，结合练习册进行练习。\n",
      "  - 进行重点句型的写作练习，注意语法的使用。\n",
      "\n",
      "### 第二个月：技能提升\n",
      "\n",
      "#### Week 5-6: 写作与翻译\n",
      "- **写作**:\n",
      "  - 学习六级作文的常用结构（如总分总），每周写2篇作文。\n",
      "  - 阅读优秀范文，分析其结构和用词。\n",
      "- **翻译**:\n",
      "  - 每周进行英语翻译练习，包括段落和句子。\n",
      "  - 学习常用句型和翻译技巧（如直译与意译）。\n",
      "\n",
      "#### Week 7-8: 模拟测试\n",
      "- **综合练习**:\n",
      "  - 每周进行一次全真模拟测试，时间和环境尽量接近正式考试。\n",
      "  - 分析测试结果，找出薄弱环节，并针对性练习。\n",
      "\n",
      "### 第三个月：实战演练\n",
      "\n",
      "#### Week 9-10: 深度复习\n",
      "- **查缺补漏**:\n",
      "  - 针对前两个月测试中发现的薄弱环节进行集中复习。\n",
      "  - 加强记忆和应用核心词汇和语法点，根据学习需要调整内容。\n",
      "\n",
      "#### Week 11-12: 考前冲刺\n",
      "- **模拟考试**:\n",
      "  - 每周进行1-2次全真模拟考试，时间控制在正式考试的时间内。\n",
      "  - 进行考后复盘，分析错题，注意总结经验教训。\n",
      "  \n",
      "- **心态调整**:\n",
      "  - 保持良好的作息，合理安排学习和休息时间，避免临考前的焦虑。\n",
      "  - 进行一些放松活动，提高心理素质。\n",
      "\n",
      "### 其他建议\n",
      "1. **学习资料**: 可以选择使用六级专用教材、网课及APP（如扇贝单词、知米背单词等）。\n",
      "2. **学习小组**: 如果条件允许，可以寻找学习伙伴，相互督促和帮助。\n",
      "3. **周末复习**: 每周末留出时间进行总结和复习。\n",
      "\n",
      "通过这个计划，希望能帮助你在英语六级考试中取得好成绩！坚持努力，多加练习！\n"
     ]
    }
   ],
   "execution_count": 4
  },
  {
   "metadata": {},
   "cell_type": "markdown",
   "source": "举例2：",
   "id": "47199e4400132a3c"
  },
  {
   "metadata": {
    "ExecuteTime": {
     "end_time": "2025-08-23T02:18:53.603499Z",
     "start_time": "2025-08-23T02:18:53.588398Z"
    }
   },
   "cell_type": "code",
   "source": [
    "from langchain_core.messages import SystemMessage, HumanMessage\n",
    "\n",
    "system_message = SystemMessage(\n",
    "    content=\"你是一个英语教学方向的专家\",\n",
    "    additional_kwargs={\"tool\":\"invoke_func1\"}\n",
    ")\n",
    "human_message = HumanMessage(content=\"帮我制定一个英语六级学习的计划\")\n",
    "\n",
    "messages = [system_message, human_message]\n",
    "\n",
    "print(messages)"
   ],
   "id": "af9628c132bdc1de",
   "outputs": [
    {
     "name": "stdout",
     "output_type": "stream",
     "text": [
      "[SystemMessage(content='你是一个英语教学方向的专家', additional_kwargs={'tool': 'invoke_func1'}, response_metadata={}), HumanMessage(content='帮我制定一个英语六级学习的计划', additional_kwargs={}, response_metadata={})]\n"
     ]
    }
   ],
   "execution_count": 6
  },
  {
   "metadata": {},
   "cell_type": "markdown",
   "source": "举例3:ChatMessage平时我们使用的不多，了解一下即可",
   "id": "a7bb4086b4472cd5"
  },
  {
   "metadata": {
    "ExecuteTime": {
     "end_time": "2025-08-23T02:20:20.536694Z",
     "start_time": "2025-08-23T02:20:20.524497Z"
    }
   },
   "cell_type": "code",
   "source": [
    "from langchain_core.messages import (\n",
    "    AIMessage,\n",
    "    HumanMessage,\n",
    "    SystemMessage,\n",
    "    ChatMessage\n",
    ")\n",
    "\n",
    "# 创建不同类型的消息\n",
    "system_message = SystemMessage(content=\"你是一个专业的数据科学家\")\n",
    "human_message = HumanMessage(content=\"解释一下随机森林算法\")\n",
    "ai_message = AIMessage(content=\"随机森林是一种集成学习方法...\")\n",
    "custom_message = ChatMessage(role=\"analyst\", content=\"补充一点关于超参数调优的信息\")\n",
    "\n",
    "print(system_message.content)\n",
    "print(human_message.content)\n",
    "print(ai_message.content)\n",
    "print(custom_message.content)"
   ],
   "id": "506ce66dc7e0a870",
   "outputs": [
    {
     "name": "stdout",
     "output_type": "stream",
     "text": [
      "你是一个专业的数据科学家\n",
      "解释一下随机森林算法\n",
      "随机森林是一种集成学习方法...\n",
      "补充一点关于超参数调优的信息\n"
     ]
    }
   ],
   "execution_count": 7
  },
  {
   "metadata": {},
   "cell_type": "markdown",
   "source": [
    "# 2、关于多轮对话与上下文记忆\n",
    "\n",
    "前提："
   ],
   "id": "8ef5f0c6e024b539"
  },
  {
   "metadata": {
    "ExecuteTime": {
     "end_time": "2025-08-23T02:44:47.948683Z",
     "start_time": "2025-08-23T02:44:47.904297Z"
    }
   },
   "cell_type": "code",
   "source": [
    "import os\n",
    "import dotenv\n",
    "from langchain_openai import ChatOpenAI\n",
    "\n",
    "dotenv.load_dotenv()\n",
    "\n",
    "os.environ['OPENAI_API_KEY'] = os.getenv(\"OPENAI_API_KEY1\")\n",
    "os.environ['OPENAI_BASE_URL'] = os.getenv(\"OPENAI_BASE_URL\")\n",
    "\n",
    "chat_model = ChatOpenAI(\n",
    "\tmodel=\"gpt-4o-mini\"\n",
    ")"
   ],
   "id": "c7232d20886db056",
   "outputs": [],
   "execution_count": 8
  },
  {
   "metadata": {},
   "cell_type": "markdown",
   "source": [
    "测试1：大模型本身是没有上下文记忆能力的\n",
    "\n"
   ],
   "id": "32caba81f5e4f26a"
  },
  {
   "metadata": {
    "ExecuteTime": {
     "end_time": "2025-08-23T02:45:37.452512Z",
     "start_time": "2025-08-23T02:45:34.770207Z"
    }
   },
   "cell_type": "code",
   "source": [
    "from langchain_core.messages import SystemMessage, HumanMessage\n",
    "\n",
    "sys_message = SystemMessage(\n",
    "    content=\"我是一个人工智能的助手，我的名字叫小智\",\n",
    ")\n",
    "human_message = HumanMessage(content=\"猫王是一只猫吗？\")\n",
    "\n",
    "messages = [sys_message, human_message]\n",
    "\n",
    "#调用大模型，传入messages\n",
    "response = chat_model.invoke(messages)\n",
    "# print(response.content)\n",
    "\n",
    "\n",
    "response1 = chat_model.invoke(\"你叫什么名字？\")\n",
    "print(response1.content)"
   ],
   "id": "d4df75b874a1c267",
   "outputs": [
    {
     "name": "stdout",
     "output_type": "stream",
     "text": [
      "我是一个人工智能助手，没有具体的名字，但你可以叫我“助手”或“AI”。有什么我可以帮助你的吗？\n"
     ]
    }
   ],
   "execution_count": 9
  },
  {
   "metadata": {},
   "cell_type": "markdown",
   "source": "测试2：",
   "id": "3064aed9eeb6de39"
  },
  {
   "metadata": {
    "ExecuteTime": {
     "end_time": "2025-08-23T02:46:48.112770Z",
     "start_time": "2025-08-23T02:46:46.916202Z"
    }
   },
   "cell_type": "code",
   "source": [
    "from langchain_core.messages import SystemMessage, HumanMessage\n",
    "\n",
    "sys_message = SystemMessage(\n",
    "    content=\"我是一个人工智能的助手，我的名字叫小智\",\n",
    ")\n",
    "human_message = HumanMessage(content=\"猫王是一只猫吗？\")\n",
    "human_message1 = HumanMessage(content=\"你叫什么名字？\")\n",
    "\n",
    "messages = [sys_message, human_message,human_message1]\n",
    "\n",
    "#调用大模型，传入messages\n",
    "response = chat_model.invoke(messages)\n",
    "print(response.content)\n"
   ],
   "id": "ddb5017992a3bd9a",
   "outputs": [
    {
     "name": "stdout",
     "output_type": "stream",
     "text": [
      "我叫小智。请问有什么可以帮助你的？\n"
     ]
    }
   ],
   "execution_count": 10
  },
  {
   "metadata": {},
   "cell_type": "markdown",
   "source": "测试3：",
   "id": "bcf09de2bfc5f52a"
  },
  {
   "metadata": {
    "ExecuteTime": {
     "end_time": "2025-08-23T02:48:03.507508Z",
     "start_time": "2025-08-23T02:48:02.080818Z"
    }
   },
   "cell_type": "code",
   "source": [
    "from langchain_core.messages import SystemMessage, HumanMessage\n",
    "\n",
    "sys_message = SystemMessage(\n",
    "    content=\"我是一个人工智能的助手，我的名字叫小智\",\n",
    ")\n",
    "human_message = HumanMessage(content=\"猫王是一只猫吗？\")\n",
    "\n",
    "sys_message1 = SystemMessage(\n",
    "    content=\"我可以做很多事情，有需要就找我吧\",\n",
    ")\n",
    "\n",
    "human_message1 = HumanMessage(content=\"你叫什么名字？\")\n",
    "\n",
    "messages = [sys_message, human_message,sys_message1,human_message1]\n",
    "\n",
    "#调用大模型，传入messages\n",
    "response = chat_model.invoke(messages)\n",
    "print(response.content)\n"
   ],
   "id": "ce9c5f8b2ce1fc4a",
   "outputs": [
    {
     "name": "stdout",
     "output_type": "stream",
     "text": [
      "我叫小智，您可以叫我助手。有需要帮助的地方吗？\n"
     ]
    }
   ],
   "execution_count": 11
  },
  {
   "metadata": {},
   "cell_type": "markdown",
   "source": "测试4：",
   "id": "69dfffb17b66d2ec"
  },
  {
   "metadata": {
    "ExecuteTime": {
     "end_time": "2025-10-29T13:28:40.404508Z",
     "start_time": "2025-10-29T13:28:35.415319Z"
    }
   },
   "cell_type": "code",
   "source": [
    "from langchain_core.messages import SystemMessage, HumanMessage\n",
    "\n",
    "# 第1组\n",
    "sys_message = SystemMessage(\n",
    "    content=\"我是一个人工智能的助手，我的名字叫小智\",\n",
    ")\n",
    "human_message = HumanMessage(content=\"猫王是一只猫吗？\")\n",
    "\n",
    "messages = [sys_message, human_message]\n",
    "\n",
    "# 第2组\n",
    "sys_message1 = SystemMessage(\n",
    "    content=\"我可以做很多事情，有需要就找我吧\",\n",
    ")\n",
    "\n",
    "human_message1 = HumanMessage(content=\"你叫什么名字？\")\n",
    "\n",
    "messages1 = [sys_message1,human_message1]\n",
    "\n",
    "#调用大模型，传入messages\n",
    "response = chat_model.invoke(messages)\n",
    "print(response.content)\n",
    "\n",
    "response = chat_model.invoke(messages1)\n",
    "print(response.content)"
   ],
   "id": "6798bfdc63cded86",
   "outputs": [
    {
     "name": "stdout",
     "output_type": "stream",
     "text": [
      "“猫王”通常指的是著名的美国歌手埃尔维斯·普雷斯利（Elvis Presley），由于他的名字中的“猫”和王者的称号，常被戏称为“猫王”。所以，从字面上讲，猫王并不是一只猫，而是一个人。不过，埃尔维斯本人在文化中常常被与猫的形象结合，因此有时人们会用“猫王”来指代他。\n",
      "我是一个人工智能助手，没有具体的名字。你可以叫我“助手”或随便取一个名字。有什么我可以帮你的吗？\n"
     ]
    }
   ],
   "execution_count": 3
  },
  {
   "metadata": {},
   "cell_type": "markdown",
   "source": "测试5：",
   "id": "bf3332df3f3b3ff2"
  },
  {
   "metadata": {
    "ExecuteTime": {
     "end_time": "2025-08-23T02:49:44.772013Z",
     "start_time": "2025-08-23T02:49:43.519864Z"
    }
   },
   "cell_type": "code",
   "source": [
    "from langchain_core.messages import SystemMessage, HumanMessage, AIMessage\n",
    "\n",
    "messages = [\n",
    "    SystemMessage(content=\"我是一个人工智能助手，我的名字叫小智\"),\n",
    "    HumanMessage(content=\"人工智能英文怎么说？\"),\n",
    "    AIMessage(content=\"AI\"),\n",
    "    HumanMessage(content=\"你叫什么名字\"),\n",
    "]\n",
    "\n",
    "messages1 = [\n",
    "    SystemMessage(content=\"我是一个人工智能助手，我的名字叫小智\"),\n",
    "    HumanMessage(content=\"很高兴认识你\"),\n",
    "    AIMessage(content=\"我也很高兴认识你\"),\n",
    "    HumanMessage(content=\"你叫什么名字\"),\n",
    "]\n",
    "\n",
    "messages2 = [\n",
    "    SystemMessage(content=\"我是一个人工智能助手，我的名字叫小智\"),\n",
    "    HumanMessage(content=\"人工智能英文怎么说？\"),\n",
    "    AIMessage(content=\"AI\"),\n",
    "    HumanMessage(content=\"你叫什么名字\"),\n",
    "]\n",
    "\n",
    "chat_model.invoke(messages2)"
   ],
   "id": "78ba75bfa7ce35f8",
   "outputs": [
    {
     "data": {
      "text/plain": [
       "AIMessage(content='我叫小智。有什么我可以帮助你的吗？', additional_kwargs={'refusal': None}, response_metadata={'token_usage': {'completion_tokens': 13, 'prompt_tokens': 40, 'total_tokens': 53, 'completion_tokens_details': {'accepted_prediction_tokens': 0, 'audio_tokens': 0, 'reasoning_tokens': 0, 'rejected_prediction_tokens': 0}, 'prompt_tokens_details': {'audio_tokens': 0, 'cached_tokens': 0}}, 'model_name': 'gpt-4o-mini-2024-07-18', 'system_fingerprint': 'fp_efad92c60b', 'id': 'chatcmpl-C7Yc4CexF0a9rwfGrTHmp1OVT9xI3', 'service_tier': None, 'finish_reason': 'stop', 'logprobs': None}, id='run--d70d45e2-1c6f-4bb3-bedd-d3efba980561-0', usage_metadata={'input_tokens': 40, 'output_tokens': 13, 'total_tokens': 53, 'input_token_details': {'audio': 0, 'cache_read': 0}, 'output_token_details': {'audio': 0, 'reasoning': 0}})"
      ]
     },
     "execution_count": 13,
     "metadata": {},
     "output_type": "execute_result"
    }
   ],
   "execution_count": 13
  },
  {
   "metadata": {},
   "cell_type": "markdown",
   "source": [
    "# 3、关于模型调用的方法的说明\n",
    "\n",
    "invoke() / stream()\n",
    "\n",
    "batch():批量的调用\n",
    "\n",
    "ainvoke() / astream() / abatch():异步方法的调用\n",
    "\n",
    "举例1：体会invoke()阻塞式的调用"
   ],
   "id": "9a1ef3122e71f6f9"
  },
  {
   "metadata": {
    "ExecuteTime": {
     "end_time": "2025-08-23T03:28:54.219622Z",
     "start_time": "2025-08-23T03:28:52.757811Z"
    }
   },
   "cell_type": "code",
   "source": [
    "import os\n",
    "import dotenv\n",
    "from langchain_core.messages import HumanMessage\n",
    "from langchain_openai import ChatOpenAI\n",
    "\n",
    "dotenv.load_dotenv()\n",
    "\n",
    "os.environ['OPENAI_API_KEY'] = os.getenv(\"OPENAI_API_KEY1\")\n",
    "os.environ['OPENAI_BASE_URL'] = os.getenv(\"OPENAI_BASE_URL\")\n",
    "\n",
    "#初始化大模型\n",
    "chat_model = ChatOpenAI(model=\"gpt-4o-mini\")\n",
    "\n",
    "# 创建消息\n",
    "messages = [HumanMessage(content=\"你好，请介绍一下自己\")]\n",
    "\n",
    "# 非流式调用LLM获取响应\n",
    "response = chat_model.invoke(messages)\n",
    "\n",
    "# 打印响应内容\n",
    "print(response)"
   ],
   "id": "c54fe05615e41183",
   "outputs": [
    {
     "name": "stdout",
     "output_type": "stream",
     "text": [
      "content='你好！我是一个人工智能助手，旨在提供信息和解答问题。我可以帮助你获取知识、解决疑问、提供建议等。如果你有任何问题或者需要讨论的主题，随时告诉我！' additional_kwargs={'refusal': None} response_metadata={'token_usage': {'completion_tokens': 47, 'prompt_tokens': 12, 'total_tokens': 59, 'completion_tokens_details': {'accepted_prediction_tokens': 0, 'audio_tokens': 0, 'reasoning_tokens': 0, 'rejected_prediction_tokens': 0}, 'prompt_tokens_details': {'audio_tokens': 0, 'cached_tokens': 0}}, 'model_name': 'gpt-4o-mini-2024-07-18', 'system_fingerprint': 'fp_efad92c60b', 'id': 'chatcmpl-C7ZDy9mkaVOH2rMyT0JLgum8ZPlQl', 'service_tier': None, 'finish_reason': 'stop', 'logprobs': None} id='run--d31ca017-0571-4506-8fc1-3a3eb762b4ce-0' usage_metadata={'input_tokens': 12, 'output_tokens': 47, 'total_tokens': 59, 'input_token_details': {'audio': 0, 'cache_read': 0}, 'output_token_details': {'audio': 0, 'reasoning': 0}}\n"
     ]
    }
   ],
   "execution_count": 14
  },
  {
   "metadata": {},
   "cell_type": "markdown",
   "source": "举例2：流式的演示",
   "id": "52dc83d52fe22d11"
  },
  {
   "metadata": {
    "ExecuteTime": {
     "end_time": "2025-10-29T13:34:28.549281Z",
     "start_time": "2025-10-29T13:34:26.060868Z"
    }
   },
   "cell_type": "code",
   "source": [
    "import os\n",
    "import dotenv\n",
    "from langchain_core.messages import HumanMessage\n",
    "from langchain_openai import ChatOpenAI\n",
    "\n",
    "dotenv.load_dotenv()\n",
    "\n",
    "os.environ['OPENAI_API_KEY'] = os.getenv(\"OPENAI_API_KEY\")\n",
    "os.environ['OPENAI_BASE_URL'] = os.getenv(\"OPENAI_BASE_URL\")\n",
    "\n",
    "# 初始化大模型\n",
    "chat_model = ChatOpenAI(model=\"gpt-4o-mini\",\n",
    "                        streaming=True  # 启用流式输出\n",
    "                        )\n",
    "\n",
    "# 创建消息\n",
    "messages = [HumanMessage(content=\"你好，请介绍一下自己\")]\n",
    "\n",
    "# 流式调用LLM获取响应\n",
    "print(\"开始流式输出：\")\n",
    "for chunk in chat_model.stream(messages):\n",
    "    # 逐个打印内容块\n",
    "    print(chunk.content, end=\"\", flush=True) # 刷新缓冲区 (无换行符，缓冲区未刷新，内容可能不会立即显示)\n",
    "\n",
    "print(\"\\n流式输出结束\")"
   ],
   "id": "ec28fa27d202a149",
   "outputs": [
    {
     "name": "stdout",
     "output_type": "stream",
     "text": [
      "开始流式输出：\n",
      "你好！我是一款人工智能助手，旨在为你提供信息和帮助。无论你有关于科学、技术、历史、文化、健康还是其他任何主题的问题，我都会尽力为你提供准确和有用的答案。如果你有任何具体的问题或想了解的内容，请随时告诉我！\n",
      "流式输出结束\n"
     ]
    }
   ],
   "execution_count": 4
  },
  {
   "metadata": {},
   "cell_type": "markdown",
   "source": "举例3：使用batch，测试批量调用",
   "id": "a4132cbc41dc9f1"
  },
  {
   "metadata": {
    "ExecuteTime": {
     "end_time": "2025-10-29T13:40:23.504458Z",
     "start_time": "2025-10-29T13:40:14.215447Z"
    }
   },
   "cell_type": "code",
   "source": [
    "import os\n",
    "import dotenv\n",
    "from langchain_core.messages import HumanMessage, SystemMessage\n",
    "from langchain_openai import ChatOpenAI\n",
    "\n",
    "dotenv.load_dotenv()\n",
    "\n",
    "os.environ['OPENAI_API_KEY'] = os.getenv(\"OPENAI_API_KEY1\")\n",
    "os.environ['OPENAI_BASE_URL'] = os.getenv(\"OPENAI_BASE_URL\")\n",
    "\n",
    "# 初始化大模型\n",
    "chat_model = ChatOpenAI(model=\"gpt-4o-mini\")\n",
    "\n",
    "messages1 = [SystemMessage(content=\"你是一位乐于助人的智能小助手\"),\n",
    "             HumanMessage(content=\"请帮我介绍一下什么是机器学习\"), ]\n",
    "\n",
    "messages2 = [SystemMessage(content=\"你是一位乐于助人的智能小助手\"),\n",
    "             HumanMessage(content=\"请帮我介绍一下什么是AIGC\"), ]\n",
    "\n",
    "messages3 = [SystemMessage(content=\"你是一位乐于助人的智能小助手\"),\n",
    "             HumanMessage(content=\"请帮我介绍一下什么是大模型技术\"), ]\n",
    "\n",
    "messages = [messages1, messages2, messages3]\n",
    "\n",
    "# 调用batch\n",
    "response = chat_model.batch(messages)\n",
    "\n",
    "print(response)\n"
   ],
   "id": "f53dcdd20d38a9f",
   "outputs": [
    {
     "name": "stdout",
     "output_type": "stream",
     "text": [
      "[AIMessage(content='机器学习是一种人工智能（AI）的分支，它使计算机系统能够通过经验自动改进其性能，而无需明确编程。机器学习的核心思想是，系统可以利用数据进行自我学习，识别模式并进行预测。\\n\\n机器学习通常分为三种主要类型：\\n\\n1. **监督学习**：在这种类型中，模型通过使用标注好的数据进行训练，也就是说，每个训练样本都包含输入和期望的输出。模型从这些数据中学习，以便能够对新数据进行预测。常见的应用包括图像分类、语音识别和预测性分析。\\n\\n2. **无监督学习**：无监督学习处理的输入数据没有标注，模型的目标是从数据中识别结构或模式。常见的应用包括聚类（例如，将顾客分组）和降维（例如，数据可视化）。\\n\\n3. **半监督学习**：结合了监督学习和无监督学习的特点，使用少量标注数据和大量未标注数据进行训练。这在获取标注数据成本较高的情况下尤为有用。\\n\\n机器学习的应用非常广泛，包括自然语言处理、推荐系统、图像识别、金融分析、医疗诊断等。随着数据量的增加和计算能力的提高，机器学习已经成为许多领域的重要技术基础。', additional_kwargs={'refusal': None}, response_metadata={'token_usage': {'completion_tokens': 290, 'prompt_tokens': 30, 'total_tokens': 320, 'completion_tokens_details': {'accepted_prediction_tokens': 0, 'audio_tokens': 0, 'reasoning_tokens': 0, 'rejected_prediction_tokens': 0}, 'prompt_tokens_details': {'audio_tokens': 0, 'cached_tokens': 0}}, 'model_name': 'gpt-4o-mini-2024-07-18', 'system_fingerprint': 'fp_560af6e559', 'id': 'chatcmpl-CW0hP8KSTSN7iC7a517uWGB7eAU9G', 'service_tier': 'default', 'finish_reason': 'stop', 'logprobs': None}, id='run--130f112b-ab48-4b04-b37c-c2e17c7b2861-0', usage_metadata={'input_tokens': 30, 'output_tokens': 290, 'total_tokens': 320, 'input_token_details': {'audio': 0, 'cache_read': 0}, 'output_token_details': {'audio': 0, 'reasoning': 0}}), AIMessage(content='AIGC（Artificial Intelligence Generated Content，人工智能生成内容）是指由人工智能技术生成的各种类型的内容，包括文本、图像、音频、视频等。近年来，随着自然语言处理、计算机视觉和深度学习等技术的快速发展，AIGC在多个领域得到了广泛应用。\\n\\n### AIGC的主要应用领域包括：\\n\\n1. **文本生成**：通过自然语言处理技术生成文章、新闻、故事、评论等文本内容。常见的应用有对话系统、自动写作工具等。\\n\\n2. **图像生成**：利用生成对抗网络（GAN）等技术创建虚拟图像、艺术作品，或者进行图像风格转化。例如，可以生成新的风景画或将照片转化为特定艺术风格的作品。\\n\\n3. **音频生成**：生成音乐、声音效果或合成语音。例如，AI可以创作新的音乐曲目或模拟特定人物的声音。\\n\\n4. **视频生成**：利用AI技术生成短视频、动画，或进行视频编辑与特效处理。\\n\\n### AIGC的优势和挑战：\\n\\n- **优势**：\\n  - **效率高**：可以快速生成大量内容，节省人工创作的时间。\\n  - **个性化**：能够根据用户需求生成定制化的内容。\\n  - **创意支持**：为创作者提供灵感或初始素材。\\n\\n- **挑战**：\\n  - **质量控制**：生成内容的质量和准确性可能参差不齐，需要人类审核和编辑。\\n  - **伦理问题**：可能涉及版权、原创性和虚假信息等问题。\\n  - **内容过度依赖**：过于依赖AI生成内容可能影响人类创作者的创造力和独立思考能力。\\n\\n总的来说，AIGC代表了人工智能在内容创作和生成领域的强大潜力，未来可能会在各个行业中发挥越来越重要的作用。', additional_kwargs={'refusal': None}, response_metadata={'token_usage': {'completion_tokens': 431, 'prompt_tokens': 31, 'total_tokens': 462, 'completion_tokens_details': {'accepted_prediction_tokens': 0, 'audio_tokens': 0, 'reasoning_tokens': 0, 'rejected_prediction_tokens': 0}, 'prompt_tokens_details': {'audio_tokens': 0, 'cached_tokens': 0}}, 'model_name': 'gpt-4o-mini-2024-07-18', 'system_fingerprint': 'fp_560af6e559', 'id': 'chatcmpl-CW0hPaP4bu2gilcm62y0acS26utOP', 'service_tier': 'default', 'finish_reason': 'stop', 'logprobs': None}, id='run--3404ac62-7ade-4eb9-b962-36a4e4dd61d1-0', usage_metadata={'input_tokens': 31, 'output_tokens': 431, 'total_tokens': 462, 'input_token_details': {'audio': 0, 'cache_read': 0}, 'output_token_details': {'audio': 0, 'reasoning': 0}}), AIMessage(content='大模型技术是指使用大规模神经网络模型进行自然语言处理、计算机视觉等各种任务的技术。这些模型通常具有数十亿甚至上百亿个参数，能够处理和生成高度复杂的数据。\\n\\n### 主要特点：\\n\\n1. **规模庞大**：大模型的参数数量极其庞大，这使得它们能够学习更多样化和复杂的特征，从而在很多任务上表现出色。\\n\\n2. **预训练与微调**：大模型通常首先会在海量数据上进行预训练，以学习通用的语言或视觉特征。随后，可以通过少量特定任务的数据进行微调，使模型更好地适应特定应用。\\n\\n3. **迁移学习**：大模型能够在一个任务中获得的知识迁移到其他相关任务上，从而加快学习速度，提升性能。\\n\\n4. **多模态能力**：许多大模型具有处理多种数据类型的能力，如文本、图像和音频，这使得它们在跨领域应用中显示出强大的潜力。\\n\\n### 应用场景：\\n\\n- **自然语言处理**：如文本生成、机器翻译、情感分析和对话系统等。\\n- **计算机视觉**：如图像分类、目标检测和图像生成等。\\n- **模态转换**：如图像描述生成和视频内容理解等任务。\\n\\n### 发展背景：\\n\\n大模型技术随着计算能力的发展（尤其是GPU和TPU等硬件的进步）和大数据的可获取性而迅速发展。近年来，基于Transformer架构的模型（如GPT、BERT、DALL-E等）极大推动了该领域的进步。\\n\\n### 持续挑战：\\n\\n尽管大模型技术具有很大的潜力，但也面临一些挑战，比如模型训练所需的资源成本高、模型的可解释性较差，以及在预训练过程中可能引入的偏见等问题。\\n\\n总体而言，大模型技术正在推动人工智能的发展，改变了许多领域的工作方式和思维方式。', additional_kwargs={'refusal': None}, response_metadata={'token_usage': {'completion_tokens': 450, 'prompt_tokens': 31, 'total_tokens': 481, 'completion_tokens_details': {'accepted_prediction_tokens': 0, 'audio_tokens': 0, 'reasoning_tokens': 0, 'rejected_prediction_tokens': 0}, 'prompt_tokens_details': {'audio_tokens': 0, 'cached_tokens': 0}}, 'model_name': 'gpt-4o-mini-2024-07-18', 'system_fingerprint': 'fp_560af6e559', 'id': 'chatcmpl-CW0hPorYEAZGyQTezlCFRqpQacy1F', 'service_tier': 'default', 'finish_reason': 'stop', 'logprobs': None}, id='run--6d53d76b-3b32-404e-ad57-4848e68a7028-0', usage_metadata={'input_tokens': 31, 'output_tokens': 450, 'total_tokens': 481, 'input_token_details': {'audio': 0, 'cache_read': 0}, 'output_token_details': {'audio': 0, 'reasoning': 0}})]\n"
     ]
    }
   ],
   "execution_count": 5
  },
  {
   "metadata": {},
   "cell_type": "markdown",
   "source": [
    "举例4：关于同步和异步方法的调用\n",
    "\n",
    "体会1："
   ],
   "id": "2c6040aef2b61bd8"
  },
  {
   "metadata": {
    "ExecuteTime": {
     "end_time": "2025-08-23T03:52:26.994579Z",
     "start_time": "2025-08-23T03:52:16.943008Z"
    }
   },
   "cell_type": "code",
   "source": [
    "import time\n",
    "\n",
    "def call_model():\n",
    "    # 模拟同步API调用\n",
    "    print(\"开始调用模型...\")\n",
    "    time.sleep(5)  # 模拟调用等待,单位：秒\n",
    "    print(\"模型调用完成。\")\n",
    "\n",
    "def perform_other_tasks():\n",
    "    # 模拟执行其他任务\n",
    "    for i in range(5):\n",
    "        print(f\"执行其他任务 {i + 1}\")\n",
    "        time.sleep(1)  # 单位：秒\n",
    "\n",
    "def main():\n",
    "    start_time = time.time()\n",
    "    call_model()\n",
    "    perform_other_tasks()\n",
    "    end_time = time.time()\n",
    "    total_time = end_time - start_time\n",
    "    return f\"总共耗时：{total_time}秒\"\n",
    "\n",
    "# 运行同步任务并打印完成时间\n",
    "main_time = main()\n",
    "print(main_time)"
   ],
   "id": "f964e08175fd8e17",
   "outputs": [
    {
     "name": "stdout",
     "output_type": "stream",
     "text": [
      "开始调用模型...\n",
      "模型调用完成。\n",
      "执行其他任务 1\n",
      "执行其他任务 2\n",
      "执行其他任务 3\n",
      "执行其他任务 4\n",
      "执行其他任务 5\n",
      "总共耗时：10.033676385879517秒\n"
     ]
    }
   ],
   "execution_count": 18
  },
  {
   "metadata": {},
   "cell_type": "markdown",
   "source": "体会2：",
   "id": "849911b241ddb07a"
  },
  {
   "metadata": {
    "ExecuteTime": {
     "end_time": "2025-08-23T03:55:33.637480Z",
     "start_time": "2025-08-23T03:55:28.610119Z"
    }
   },
   "cell_type": "code",
   "source": [
    "import asyncio\n",
    "import time\n",
    "\n",
    "async def async_call(llm):\n",
    "    await asyncio.sleep(5)  # 模拟异步操作\n",
    "    print(\"异步调用完成\")\n",
    "\n",
    "async def perform_other_tasks():\n",
    "    await asyncio.sleep(5)  # 模拟异步操作\n",
    "    print(\"其他任务完成\")\n",
    "\n",
    "async def run_async_tasks():\n",
    "    start_time = time.time()\n",
    "    await asyncio.gather(\n",
    "        async_call(None),  # 示例调用，使用None模拟LLM对象\n",
    "        perform_other_tasks()\n",
    "    )\n",
    "    end_time = time.time()\n",
    "    return f\"总共耗时：{end_time - start_time}秒\"\n",
    "\n",
    "# # 正确运行异步任务的方式\n",
    "# if __name__ == \"__main__\":\n",
    "#     # 使用 asyncio.run() 来启动异步程序\n",
    "#     result = asyncio.run(run_async_tasks())\n",
    "#     print(result)\n",
    "\n",
    "\n",
    "# 在 Jupyter 单元格中直接调用\n",
    "result = await run_async_tasks()\n",
    "print(result)"
   ],
   "id": "18e9e611f22af499",
   "outputs": [
    {
     "name": "stdout",
     "output_type": "stream",
     "text": [
      "异步调用完成\n",
      "其他任务完成\n",
      "总共耗时：5.0116283893585205秒\n"
     ]
    }
   ],
   "execution_count": 19
  },
  {
   "metadata": {},
   "cell_type": "markdown",
   "source": "![image.png](QQ20251029-214618.jpg)",
   "id": "3c4455e04ff9d718",
   "attachments": {
    "49d7c16d-1bbb-4ab2-940a-875c213e46ed.png": {
     "image/png": "[encoded data removed]"
    }
   }
  }
 ],
 "metadata": {
  "kernelspec": {
   "display_name": "Python 3",
   "language": "python",
   "name": "python3"
  },
  "language_info": {
   "codemirror_mode": {
    "name": "ipython",
    "version": 2
   },
   "file_extension": ".py",
   "mimetype": "text/x-python",
   "name": "python",
   "nbconvert_exporter": "python",
   "pygments_lexer": "ipython2",
   "version": "2.7.6"
  }
 },
 "nbformat": 4,
 "nbformat_minor": 5
}
