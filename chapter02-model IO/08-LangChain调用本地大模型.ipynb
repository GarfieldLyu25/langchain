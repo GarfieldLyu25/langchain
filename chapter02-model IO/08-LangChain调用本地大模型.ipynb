{
 "cells": [
  {
   "metadata": {},
   "cell_type": "markdown",
   "source": [
    "# LangChain调用本地大模型\n",
    "\n",
    "第1步：下载并安装Ollama\n",
    "\n",
    "第2步：在Ollama下部署大模型：deepseek-r1:7b\n",
    "\n",
    "第3步：在LangChain中调用Ollama下的大模型\n",
    "\n"
   ],
   "id": "306c78397097623c"
  },
  {
   "metadata": {
    "ExecuteTime": {
     "end_time": "2025-10-29T15:06:03.274459Z",
     "start_time": "2025-10-29T15:05:50.762684Z"
    }
   },
   "cell_type": "code",
   "source": [
    "from langchain_core.messages import HumanMessage\n",
    "from langchain_community.chat_models import ChatOllama\n",
    "# from langchain_ollama import ChatOllama\n",
    "\n",
    "# ChatOpenAI()\n",
    "\n",
    "#此时调用的是本地的大模型。省略base_url、api-key\n",
    "llm = ChatOllama(\n",
    "    model = \"deepseek-r1:1.5b\"  # 我用的1.5b\n",
    ")\n",
    "\n",
    "messages = [\n",
    "    HumanMessage(content=\"你好，请介绍一下你自己！\")\n",
    "]\n",
    "\n",
    "response = llm.invoke(messages)\n",
    "print(response.content)"
   ],
   "id": "6936c51b06276f65",
   "outputs": [
    {
     "name": "stderr",
     "output_type": "stream",
     "text": [
      "C:\\fan\\tmp\\ipykernel_9520\\2482711472.py:8: LangChainDeprecationWarning: The class `ChatOllama` was deprecated in LangChain 0.3.1 and will be removed in 1.0.0. An updated version of the class exists in the :class:`~langchain-ollama package and should be used instead. To use it run `pip install -U :class:`~langchain-ollama` and import as `from :class:`~langchain_ollama import ChatOllama``.\n",
      "  llm = ChatOllama(\n"
     ]
    },
    {
     "name": "stdout",
     "output_type": "stream",
     "text": [
      "<think>\n",
      "\n",
      "</think>\n",
      "\n",
      "您好！我是由中国的深度求索（DeepSeek）公司开发的智能助手DeepSeek-R1。我擅长通过思考来帮您解答复杂的数学，代码和逻辑推理等理工类问题。\n"
     ]
    }
   ],
   "execution_count": 1
  }
 ],
 "metadata": {
  "kernelspec": {
   "display_name": "Python 3",
   "language": "python",
   "name": "python3"
  },
  "language_info": {
   "codemirror_mode": {
    "name": "ipython",
    "version": 2
   },
   "file_extension": ".py",
   "mimetype": "text/x-python",
   "name": "python",
   "nbconvert_exporter": "python",
   "pygments_lexer": "ipython2",
   "version": "2.7.6"
  }
 },
 "nbformat": 4,
 "nbformat_minor": 5
}
