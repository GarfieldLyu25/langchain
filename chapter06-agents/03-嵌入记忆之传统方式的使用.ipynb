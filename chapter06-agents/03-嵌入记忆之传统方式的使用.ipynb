{
 "cells": [
  {
   "metadata": {},
   "cell_type": "markdown",
   "source": [
    "需求：\n",
    "\n",
    "北京明天的天气怎么样？上海呢？ （通过两次对话实现）\n",
    "\n",
    "以ReAct模式为例进行实现：\n",
    "\n"
   ],
   "id": "9d77c562a6938633"
  },
  {
   "metadata": {
    "ExecuteTime": {
     "end_time": "2025-10-30T08:52:50.275739Z",
     "start_time": "2025-10-30T08:52:44.383869Z"
    }
   },
   "cell_type": "code",
   "source": [
    "from langchain.memory import ConversationBufferMemory\n",
    "from langchain_openai import ChatOpenAI\n",
    "from langchain.agents import initialize_agent, AgentType\n",
    "from langchain.tools import Tool\n",
    "import os\n",
    "import dotenv\n",
    "from langchain_openai import ChatOpenAI\n",
    "from langchain_community.tools.tavily_search import TavilySearchResults\n",
    "dotenv.load_dotenv()\n",
    "\n",
    "# 读取配置文件的信息\n",
    "os.environ['TAVILY_API_KEY'] = os.getenv(\"TAVILY_API_KEY\")\n",
    "\n",
    "\n",
    "# 获取Tavily搜索工具的实例\n",
    "search = TavilySearchResults(max_results=2)\n",
    "\n",
    "# 获取一个搜索的工具\n",
    "search_tool = Tool(\n",
    "    func=search.run,\n",
    "    name=\"Search\",\n",
    "    description=\"用于检索互联网上的信息\",\n",
    ")\n",
    "\n",
    "\n",
    "# 获取大语言模型\n",
    "os.environ['OPENAI_API_KEY'] = os.getenv(\"OPENAI_API_KEY1\")\n",
    "os.environ['OPENAI_BASE_URL'] = os.getenv(\"OPENAI_BASE_URL\")\n",
    "llm = ChatOpenAI(\n",
    "    model=\"gpt-4o-mini\",\n",
    "    temperature=0,\n",
    ")\n",
    "\n",
    "# 获取一个记忆的实例：ConversationBufferMemory\n",
    "memory = ConversationBufferMemory(\n",
    "    return_messages=True,\n",
    "    memory_key=\"chat_history\"  #此时必须设置memory_key,且值为chat_history。因为提示词模板中使用的是chat_history。二者必须一致！\n",
    ")\n",
    "\n",
    "# 获取Agent的实例\n",
    "agent = AgentType.CONVERSATIONAL_REACT_DESCRIPTION\n",
    "\n",
    "# 获取AgentExecutor的实例\n",
    "agent_executor = initialize_agent(\n",
    "    tools = [search_tool],\n",
    "    llm = llm,\n",
    "    agent = agent,\n",
    "    verbose = True, # 显示详细的日志信息\n",
    "    memory = memory,\n",
    ")\n",
    "\n",
    "\n",
    "# 通过AgentExecutor 调用invoke(),并得到响应\n",
    "result = agent_executor.invoke(\"查询lol全球总决赛谁打谁今天是2025.10.30\")\n",
    "\n",
    "\n",
    "# 处理响应数据\n",
    "print(result)"
   ],
   "id": "662bf7aefc37a941",
   "outputs": [
    {
     "name": "stdout",
     "output_type": "stream",
     "text": [
      "\n",
      "\n",
      "\u001B[1m> Entering new AgentExecutor chain...\u001B[0m\n",
      "\u001B[32;1m\u001B[1;3m```\n",
      "Thought: Do I need to use a tool? Yes\n",
      "Action: Search\n",
      "Action Input: \"LOL 全球总决赛 2025.10.30 对阵\"\n",
      "```\u001B[0m\n",
      "Observation: \u001B[36;1m\u001B[1;3m[{'title': '2025全球总决赛入围赛及瑞士轮赛程公布！ - 英雄联盟', 'url': 'https://lol.qq.com/news/detail.shtml?&docid=10496120635862816173', 'content': '2025全球总决赛入围赛及瑞士轮赛程公布！\\n\\n2025英雄联盟全球总决赛将于北京时间10月14日正式开赛，入围赛LPL和LCK的四号种子将进行一场Bo5对决，胜者将晋级瑞士轮阶段。\\n\\n四海聚此役，争者留其名！ 来自全球各大赛区的顶尖强队已集结完毕：\\n\\nLPL赛区：BLG、AL、TES、IG\\n\\nLCK赛区：GEN、HLE、KT、T1\\n\\nLCP赛区：CFO、TSW、PSG\\n\\nLTA赛区：FLY、VKS、100T\\n\\nLEC赛区：G2、MKOI、FNC\\n\\n群雄汇聚中国，巅峰对决，敬请期待！\\n\\n入围赛阶段：10月14日；瑞士轮阶段：10月15日-10月19日、10月22日-10月25日；淘汰赛阶段：10月28日-11月2日；冠亚军决赛：11月9日。 让我们共同期待，谁将问鼎巅峰！\\n\\nImage 9\\n\\nImage 10\\n\\n0)\\n\\nImage 11\\n\\n英雄联盟赛事官方\\n8621.1万次 总阅读量\\n\\n38.3万粉丝\\n\\n关注\\n\\nTA的文章\\n\\n   Image 12 2025全球总决赛淘汰赛1/4决赛第二日TOP5\\n\\n427阅读 \\n   Image 13 拜仁慕尼黑为LPL加油助威！', 'score': 0.7211353}, {'title': '英雄聯盟2025賽季世界大賽 - 維基百科', 'url': 'https://zh.wikipedia.org/wiki/%E8%8B%B1%E9%9B%84%E8%81%94%E7%9B%9F2025%E8%B5%9B%E5%AD%A3%E5%85%A8%E7%90%83%E6%80%BB%E5%86%B3%E8%B5%9B', 'content': '比赛时间：2025年10月28日至11月9日（UTC+8）\\n 比赛场馆： 上海梅赛德斯-奔驰文化中心（四分之一决赛及半决赛）、 成都东安湖体育公园多功能体育馆（总决赛）\\n 淘汰赛共分为四分之一决赛，半决赛与总决赛三个阶段\\n 8支队伍根据抽签产生四分之一决赛对手；来自瑞士轮阶段同一分組晋级的队伍不能成为四分之一决赛对手；隊伍積分3-0晉級的隊伍將不會分在同一半區，即启用半区规避原则\\n 每阶段比赛均为Bo5比赛，胜者晋级下一阶段，直至總决赛\\n\\n### 赛程\\n\\n[编辑] [...] 比赛时间：2025年10月15日至10月25日（UTC+8）\\n 比赛场馆： 北京智慧电竞赛事中心\\n 由16支队伍进行五轮瑞士轮比赛\\n  + 其中14支队伍为直接晋级\\n  + 剩余2支队伍由入围赛晋级\\n 瑞士轮首轮比赛通过抽签决定对阵队伍以Bo1的形式比赛，此后每一轮相同战绩的队伍互相对决\\n  + 在第一轮比赛，来自相同赛区的两支队伍将不会成为对决队伍，即赛区规避原则\\n  + 除第一轮比赛外，每轮中各参赛队伍的对决队伍将不会为与其在瑞士轮阶段已经进行过对决的队伍\\n 取得3胜的队伍晋级，取得3败的队伍淘汰\\n 除决定队伍晋级或淘汰的比赛以Bo3进行，其余比赛均为Bo1\\n\\n### 赛程\\n\\n[编辑] [...] | 场次 | 蓝色方 | 结果 | | 红色方 |\\n ---  --- \\n| 1 |  |  |  |  |\\n| 2 |  |  |  |  |\\n| 3 |  |  |  |  |\\n| 4 |  |  |  |  |\\n| 5 |  |  |  |  |\\n\\n### 总决赛\\n\\n[编辑]\\n\\n|  |\\n\\n| 英雄联盟2025赛季全球总决赛 |\\n|  |\\n| 总决赛——2025年11月9日 |\\n| 距今还有79天 |\\n| 以当地时间计算 |\\n| 如发现倒数时间不准确，请点击此处刷新 |\\n\\n 比赛时间：2025年11月9日（UTC+8）\\n 比赛场馆： 成都东安湖体育公园多功能体育馆\\n FMVP：TBD\\n\\n| 队伍 | 简称 | 胜场数 |\\n --- \\n| TBD | TBD |  |\\n| TBD | TBD |  |\\n\\n| 场次 | 蓝色方 | 结果 | | 红色方 |\\n ---  --- \\n| 1 |  |  |  |  |\\n| 2 |  |  |  |  |\\n| 3 |  |  |  |  |\\n| 4 |  |  |  |  |\\n| 5 |  |  |  |  |\\n\\n## 參考\\n\\n[编辑]', 'score': 0.7197191}]\u001B[0m\n",
      "Thought:\u001B[32;1m\u001B[1;3m```\n",
      "Thought: Do I need to use a tool? No\n",
      "AI: 今天是2025年10月30日，英雄联盟全球总决赛的淘汰赛阶段正在进行中。根据赛程，四分之一决赛的比赛时间是从10月28日到11月2日。具体的对阵信息可能会在比赛前公布，您可以关注相关的赛事官方渠道以获取最新的对阵情况。\n",
      "```\u001B[0m\n",
      "\n",
      "\u001B[1m> Finished chain.\u001B[0m\n",
      "{'input': '查询lol全球总决赛谁打谁今天是2025.10.30', 'chat_history': [HumanMessage(content='查询lol全球总决赛谁打谁今天是2025.10.30', additional_kwargs={}, response_metadata={}), AIMessage(content='今天是2025年10月30日，英雄联盟全球总决赛的淘汰赛阶段正在进行中。根据赛程，四分之一决赛的比赛时间是从10月28日到11月2日。具体的对阵信息可能会在比赛前公布，您可以关注相关的赛事官方渠道以获取最新的对阵情况。\\n```', additional_kwargs={}, response_metadata={})], 'output': '今天是2025年10月30日，英雄联盟全球总决赛的淘汰赛阶段正在进行中。根据赛程，四分之一决赛的比赛时间是从10月28日到11月2日。具体的对阵信息可能会在比赛前公布，您可以关注相关的赛事官方渠道以获取最新的对阵情况。\\n```'}\n"
     ]
    }
   ],
   "execution_count": 5
  },
  {
   "metadata": {
    "ExecuteTime": {
     "end_time": "2025-10-30T08:50:38.424374Z",
     "start_time": "2025-10-30T08:50:36.884150Z"
    }
   },
   "cell_type": "code",
   "source": [
    "result = agent_executor.invoke(\"明天呢？\")\n",
    "# 处理响应数据\n",
    "print(result)"
   ],
   "id": "9b440a5cb0a9d1c4",
   "outputs": [
    {
     "name": "stdout",
     "output_type": "stream",
     "text": [
      "\n",
      "\n",
      "\u001B[1m> Entering new AgentExecutor chain...\u001B[0m\n",
      "\u001B[32;1m\u001B[1;3m```\n",
      "Thought: Do I need to use a tool? No\n",
      "AI: 2025年10月30日的对阵情况尚未公布，因为比赛的具体安排通常在赛事临近时才会确定。请关注官方渠道以获取最新信息。明天的比赛安排可能会在比赛前夕公布。\n",
      "```\u001B[0m\n",
      "\n",
      "\u001B[1m> Finished chain.\u001B[0m\n",
      "{'input': '明天呢？', 'chat_history': [HumanMessage(content='查询2025.10.30 lol全球总决赛谁打谁', additional_kwargs={}, response_metadata={}), AIMessage(content='2025年《英雄联盟》全球总决赛将于2025年10月14日至11月9日举行。总决赛定于2025年11月9日进行，比赛场馆为成都东安湖体育公园多功能体育馆。关于2025年10月30日的具体对阵情况，目前尚未公布，因为四分之一决赛的对阵将根据抽签结果确定。', additional_kwargs={}, response_metadata={}), HumanMessage(content='明天呢？', additional_kwargs={}, response_metadata={}), AIMessage(content='2025年10月30日的对阵情况尚未公布，因为比赛的具体安排通常在赛事临近时才会确定。请关注官方渠道以获取最新信息。明天的比赛安排可能会在比赛前夕公布。\\n```', additional_kwargs={}, response_metadata={})], 'output': '2025年10月30日的对阵情况尚未公布，因为比赛的具体安排通常在赛事临近时才会确定。请关注官方渠道以获取最新信息。明天的比赛安排可能会在比赛前夕公布。\\n```'}\n"
     ]
    }
   ],
   "execution_count": 3
  }
 ],
 "metadata": {
  "kernelspec": {
   "display_name": "Python 3",
   "language": "python",
   "name": "python3"
  },
  "language_info": {
   "codemirror_mode": {
    "name": "ipython",
    "version": 2
   },
   "file_extension": ".py",
   "mimetype": "text/x-python",
   "name": "python",
   "nbconvert_exporter": "python",
   "pygments_lexer": "ipython2",
   "version": "2.7.6"
  }
 },
 "nbformat": 4,
 "nbformat_minor": 5
}
