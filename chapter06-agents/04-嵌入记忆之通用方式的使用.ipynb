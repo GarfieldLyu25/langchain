{
 "cells": [
  {
   "metadata": {},
   "cell_type": "markdown",
   "source": "# 1、使用FUNCTION_CALL模式",
   "id": "a214a4001a80e62a"
  },
  {
   "metadata": {
    "ExecuteTime": {
     "end_time": "2025-10-30T09:12:37.682835Z",
     "start_time": "2025-10-30T09:12:31.273824Z"
    }
   },
   "cell_type": "code",
   "source": [
    "from langchain.memory import ConversationBufferMemory\n",
    "from langchain_core.prompts import ChatPromptTemplate, PromptTemplate\n",
    "# 获取Tavily搜索的实例\n",
    "from langchain_openai import ChatOpenAI\n",
    "from langchain.agents import initialize_agent, AgentType, create_tool_calling_agent, AgentExecutor\n",
    "from langchain.tools import Tool\n",
    "import os\n",
    "import dotenv\n",
    "from langchain_openai import ChatOpenAI\n",
    "from langchain_community.tools.tavily_search import TavilySearchResults\n",
    "dotenv.load_dotenv()\n",
    "\n",
    "# 读取配置文件的信息\n",
    "os.environ['TAVILY_API_KEY'] = os.getenv('TAVILY_API_KEY')\n",
    "\n",
    "# 获取Tavily搜索工具的实例\n",
    "search = TavilySearchResults(max_results=1)\n",
    "\n",
    "# 获取一个搜索的工具\n",
    "# 使用Tool\n",
    "search_tool = Tool(\n",
    "    func=search.run,\n",
    "    name=\"Search\",\n",
    "    description=\"用于检索互联网上的信息\",\n",
    ")\n",
    "\n",
    "\n",
    "# 获取大语言模型\n",
    "os.environ['OPENAI_API_KEY'] = os.getenv(\"OPENAI_API_KEY1\")\n",
    "os.environ['OPENAI_BASE_URL'] = os.getenv(\"OPENAI_BASE_URL\")\n",
    "llm = ChatOpenAI(\n",
    "    model=\"gpt-4o-mini\",\n",
    "    temperature=0,\n",
    ")\n",
    "\n",
    "\n",
    "# 提供提示词模板（以ChatPromptTemplate为例）\n",
    "# prompt_template = ChatPromptTemplate.from_messages([\n",
    "#     (\"system\",\"你是一个乐于助人的ai助手，根据用户的提问，必要时调用Search工具，使用互联网检索数据\"),\n",
    "#     (\"system\",\"{agent_scratchpad}\"),\n",
    "#     (\"system\",\"{chat_history}\"),  #添加一个chat_history的变量，用于记录上下文的记忆\n",
    "#     (\"human\",\"{input}\"),\n",
    "#     # (\"placeholder\",\"{agent_scratchpad}\")\n",
    "# ])\n",
    "\n",
    "prompt_template = ChatPromptTemplate.from_messages([\n",
    "    (\"system\",\"你是一个乐于助人的ai助手，根据用户的提问，必要时调用Search工具，使用互联网检索数据\"),\n",
    "    (\"system\",\"{chat_history}\"),\n",
    "    (\"human\",\"{input}\"),\n",
    "    (\"system\",\"{agent_scratchpad}\")  #重大bug\n",
    "])\n",
    "\n",
    "# 提供记忆的实例：ConversationBufferMemory\n",
    "memory = ConversationBufferMemory(\n",
    "    return_messages=True,\n",
    "    memory_key=\"chat_history\", #此值需要与提示词模板中的记录记忆的变量同名\n",
    ")\n",
    "\n",
    "# 获取Agent的实例：create_tool_calling_agent()\n",
    "agent = create_tool_calling_agent(\n",
    "    llm=llm,\n",
    "    prompt=prompt_template,\n",
    "    tools=[search_tool]\n",
    ")\n",
    "\n",
    "# 获取AgentExecutor的实例\n",
    "agent_executor = AgentExecutor(\n",
    "    agent=agent,\n",
    "    tools=[search_tool],\n",
    "    verbose=True,\n",
    "    memory=memory,\n",
    ")\n",
    "\n",
    "\n",
    "# 通过AgentExecutor的实例调用invoke(),得到响应\n",
    "result = agent_executor.invoke({\"input\":\"查询2025.10.30 lol全球总决赛谁打谁\"})\n",
    "\n",
    "# 处理响应\n",
    "print(result)\n"
   ],
   "id": "1a4bb2e6922c0870",
   "outputs": [
    {
     "name": "stdout",
     "output_type": "stream",
     "text": [
      "\n",
      "\n",
      "\u001B[1m> Entering new AgentExecutor chain...\u001B[0m\n",
      "\u001B[32;1m\u001B[1;3m\n",
      "Invoking: `Search` with `2025 League of Legends World Championship match schedule October 30`\n",
      "\n",
      "\n",
      "\u001B[0m\u001B[36;1m\u001B[1;3m[{'title': '2025 World Championship - Match Schedule - Liquipedia', 'url': 'https://liquipedia.net/leagueoflegends/World_Championship/2025/Match_Schedule', 'content': \"| 2025-10-30 07:00:00 October 30, 2025 - 15:00 CST | Quarterfinals | G2Image 118: G2 EsportsImage 119: G2 Esports | vs (Bo5) | Image 120: Top EsportsTES | View match details |\\n| 2025-10-31 07:00:00 October 31, 2025 - 15:00 CST | Quarterfinals | ALImage 121: Anyone's LegendImage 122: Anyone's Legend | vs (Bo5) | Image 123: T1T1 | View match details |\\n| 2025-11-01 07:00:00 November 1, 2025 - 15:00 CST | Semifinals | TBD | vs (Bo5) | TBD | View match details |\", 'score': 0.93762916}]\u001B[0m\u001B[32;1m\u001B[1;3m在2025年10月30日的《英雄联盟》全球总决赛中，将进行四分之一决赛，比赛对阵为：\n",
      "\n",
      "- G2 Esports vs. Top Esports\n",
      "\n",
      "比赛将于15:00 CST（中国标准时间）开始，采用五局三胜制（Bo5）。\n",
      "\n",
      "你可以查看更详细的赛程信息 [这里](https://liquipedia.net/leagueoflegends/World_Championship/2025/Match_Schedule)。\u001B[0m\n",
      "\n",
      "\u001B[1m> Finished chain.\u001B[0m\n",
      "{'input': '查询2025.10.30 lol全球总决赛谁打谁', 'chat_history': [HumanMessage(content='查询2025.10.30 lol全球总决赛谁打谁', additional_kwargs={}, response_metadata={}), AIMessage(content='在2025年10月30日的《英雄联盟》全球总决赛中，将进行四分之一决赛，比赛对阵为：\\n\\n- G2 Esports vs. Top Esports\\n\\n比赛将于15:00 CST（中国标准时间）开始，采用五局三胜制（Bo5）。\\n\\n你可以查看更详细的赛程信息 [这里](https://liquipedia.net/leagueoflegends/World_Championship/2025/Match_Schedule)。', additional_kwargs={}, response_metadata={})], 'output': '在2025年10月30日的《英雄联盟》全球总决赛中，将进行四分之一决赛，比赛对阵为：\\n\\n- G2 Esports vs. Top Esports\\n\\n比赛将于15:00 CST（中国标准时间）开始，采用五局三胜制（Bo5）。\\n\\n你可以查看更详细的赛程信息 [这里](https://liquipedia.net/leagueoflegends/World_Championship/2025/Match_Schedule)。'}\n"
     ]
    }
   ],
   "execution_count": 10
  },
  {
   "metadata": {
    "ExecuteTime": {
     "end_time": "2025-10-30T09:12:45.576929Z",
     "start_time": "2025-10-30T09:12:37.692834Z"
    }
   },
   "cell_type": "code",
   "source": [
    "result = agent_executor.invoke({\"input\":\"明天谁打谁呢？\"})\n",
    "# 为啥一直重复查询？\n",
    "print(result)"
   ],
   "id": "f6796ebe6d9ce2c8",
   "outputs": [
    {
     "name": "stdout",
     "output_type": "stream",
     "text": [
      "\n",
      "\n",
      "\u001B[1m> Entering new AgentExecutor chain...\u001B[0m\n",
      "\u001B[32;1m\u001B[1;3m\n",
      "Invoking: `Search` with `2025年10月31日 lol 全球总决赛 赛程 对阵`\n",
      "\n",
      "\n",
      "\u001B[0m\u001B[36;1m\u001B[1;3m[{'title': '英雄聯盟2025賽季世界大賽 - 維基百科', 'url': 'https://zh.wikipedia.org/wiki/%E8%8B%B1%E9%9B%84%E8%81%94%E7%9B%9F2025%E8%B5%9B%E5%AD%A3%E5%85%A8%E7%90%83%E6%80%BB%E5%86%B3%E8%B5%9B', 'content': '比赛时间：2025年10月28日至11月9日（UTC+8）\\n 比赛场馆： 上海梅赛德斯-奔驰文化中心（四分之一决赛及半决赛）、 成都东安湖体育公园多功能体育馆（总决赛）\\n 淘汰赛共分为四分之一决赛，半决赛与总决赛三个阶段\\n 8支队伍根据抽签产生四分之一决赛对手；来自瑞士轮阶段同一分組晋级的队伍不能成为四分之一决赛对手；隊伍積分3-0晉級的隊伍將不會分在同一半區，即启用半区规避原则\\n 每阶段比赛均为Bo5比赛，胜者晋级下一阶段，直至總决赛\\n\\n### 赛程\\n\\n[编辑] [...] | 场次 | 蓝色方 | 结果 | | 红色方 |\\n ---  --- \\n| 1 |  |  |  |  |\\n| 2 |  |  |  |  |\\n| 3 |  |  |  |  |\\n| 4 |  |  |  |  |\\n| 5 |  |  |  |  |\\n\\n### 总决赛\\n\\n[编辑]\\n\\n|  |\\n\\n| 英雄联盟2025赛季全球总决赛 |\\n|  |\\n| 总决赛——2025年11月9日 |\\n| 距今还有79天 |\\n| 以当地时间计算 |\\n| 如发现倒数时间不准确，请点击此处刷新 |\\n\\n 比赛时间：2025年11月9日（UTC+8）\\n 比赛场馆： 成都东安湖体育公园多功能体育馆\\n FMVP：TBD\\n\\n| 队伍 | 简称 | 胜场数 |\\n --- \\n| TBD | TBD |  |\\n| TBD | TBD |  |\\n\\n| 场次 | 蓝色方 | 结果 | | 红色方 |\\n ---  --- \\n| 1 |  |  |  |  |\\n| 2 |  |  |  |  |\\n| 3 |  |  |  |  |\\n| 4 |  |  |  |  |\\n| 5 |  |  |  |  |\\n\\n## 參考\\n\\n[编辑] [...] 英雄聯盟2025賽季世界大賽（英语：2025 League of Legends World Championship，又译作「英雄聯盟S15全球總決賽」、「2025年英雄聯盟全球總決賽」、「2025英雄聯盟世界賽」），是由拳頭遊戲所舉行的第15屆《英雄聯盟》全球總決賽。本屆比赛是第三次于中国大陆举办的全球总决赛，比賽場地設在北京、上海及成都，比賽時間為2025年10月14日至11月9日。参赛队伍共有来自8个赛区的20支队伍。本届全球总决赛延续与英雄联盟季中邀请赛系列赛事的相关性增强措施，来自韩国赛区的2025年英雄联盟季中邀請賽冠軍隊伍Gen.G已直接获得本届全球总决赛席位，且该席位不占用原有赛区席位，同时位列第二的中国大陆赛区亦获得一个额外席位。\\n\\n## 比賽場館\\n\\n[编辑]\\n\\n本屆世界大賽的主辦城市為北京、上海及成都。', 'score': 0.79215926}]\u001B[0m\u001B[32;1m\u001B[1;3m明天，即2025年10月31日的《英雄联盟》全球总决赛的赛程对阵信息尚未完全确定。根据赛程安排，四分之一决赛将于10月28日至11月9日进行，具体的对阵情况可能会在比赛前公布。\n",
      "\n",
      "你可以查看更详细的赛程信息和更新 [这里](https://zh.wikipedia.org/wiki/%E8%8B%B1%E9%9B%84%E8%81%94%E7%9B%9F2025%E8%B5%9B%E5%AD%A3%E5%85%A8%E7%90%83%E6%80%BB%E5%86%B3%E8%B5%9B)。\u001B[0m\n",
      "\n",
      "\u001B[1m> Finished chain.\u001B[0m\n",
      "{'input': '明天谁打谁呢？', 'chat_history': [HumanMessage(content='查询2025.10.30 lol全球总决赛谁打谁', additional_kwargs={}, response_metadata={}), AIMessage(content='在2025年10月30日的《英雄联盟》全球总决赛中，将进行四分之一决赛，比赛对阵为：\\n\\n- G2 Esports vs. Top Esports\\n\\n比赛将于15:00 CST（中国标准时间）开始，采用五局三胜制（Bo5）。\\n\\n你可以查看更详细的赛程信息 [这里](https://liquipedia.net/leagueoflegends/World_Championship/2025/Match_Schedule)。', additional_kwargs={}, response_metadata={}), HumanMessage(content='明天谁打谁呢？', additional_kwargs={}, response_metadata={}), AIMessage(content='明天，即2025年10月31日的《英雄联盟》全球总决赛的赛程对阵信息尚未完全确定。根据赛程安排，四分之一决赛将于10月28日至11月9日进行，具体的对阵情况可能会在比赛前公布。\\n\\n你可以查看更详细的赛程信息和更新 [这里](https://zh.wikipedia.org/wiki/%E8%8B%B1%E9%9B%84%E8%81%94%E7%9B%9F2025%E8%B5%9B%E5%AD%A3%E5%85%A8%E7%90%83%E6%80%BB%E5%86%B3%E8%B5%9B)。', additional_kwargs={}, response_metadata={})], 'output': '明天，即2025年10月31日的《英雄联盟》全球总决赛的赛程对阵信息尚未完全确定。根据赛程安排，四分之一决赛将于10月28日至11月9日进行，具体的对阵情况可能会在比赛前公布。\\n\\n你可以查看更详细的赛程信息和更新 [这里](https://zh.wikipedia.org/wiki/%E8%8B%B1%E9%9B%84%E8%81%94%E7%9B%9F2025%E8%B5%9B%E5%AD%A3%E5%85%A8%E7%90%83%E6%80%BB%E5%86%B3%E8%B5%9B)。'}\n"
     ]
    }
   ],
   "execution_count": 11
  },
  {
   "metadata": {},
   "cell_type": "markdown",
   "source": [
    "# 2、使用ReAct模式\n",
    "\n",
    "举例1：使用网络上现成的提示词模板结构\n"
   ],
   "id": "7e8a4d666943d4d9"
  },
  {
   "metadata": {
    "ExecuteTime": {
     "end_time": "2025-10-30T09:09:55.107125Z",
     "start_time": "2025-10-30T09:09:40.200344Z"
    }
   },
   "cell_type": "code",
   "source": [
    "from langchain import hub\n",
    "from langchain.agents import create_react_agent\n",
    "from langchain_core.prompts import ChatPromptTemplate\n",
    "# 获取Tavily搜索的实例\n",
    "from langchain_openai import ChatOpenAI\n",
    "from langchain.agents import initialize_agent, AgentType, create_tool_calling_agent, AgentExecutor\n",
    "from langchain.tools import Tool\n",
    "import os\n",
    "import dotenv\n",
    "from langchain_openai import ChatOpenAI\n",
    "from langchain_community.tools.tavily_search import TavilySearchResults\n",
    "dotenv.load_dotenv()\n",
    "\n",
    "# 读取配置文件的信息\n",
    "os.environ['TAVILY_API_KEY'] = os.getenv('TAVILY_API_KEY')\n",
    "\n",
    "# 获取Tavily搜索工具的实例\n",
    "search = TavilySearchResults(max_results=3)\n",
    "\n",
    "# 获取一个搜索的工具\n",
    "# 使用Tool\n",
    "search_tool = Tool(\n",
    "    func=search.run,\n",
    "    name=\"Search\",\n",
    "    description=\"用于检索互联网上的信息\",\n",
    ")\n",
    "\n",
    "\n",
    "# 获取大语言模型\n",
    "os.environ['OPENAI_API_KEY'] = os.getenv(\"OPENAI_API_KEY1\")\n",
    "os.environ['OPENAI_BASE_URL'] = os.getenv(\"OPENAI_BASE_URL\")\n",
    "llm = ChatOpenAI(\n",
    "    model=\"gpt-4o-mini\",\n",
    "    temperature=0,\n",
    ")\n",
    "# 使用LangChain Hub中的官方ReAct提示模板\n",
    "prompt_template = hub.pull(\"hwchase17/react-chat\")\n",
    "\n",
    "# 提供记忆的实例\n",
    "memory = ConversationBufferMemory(\n",
    "    return_messages=True,\n",
    "    memory_key=\"chat_history\",\n",
    ")\n",
    "\n",
    "# 获取Agent的实例：create_react_agent()\n",
    "agent = create_react_agent(\n",
    "    llm=llm,\n",
    "    prompt=prompt_template,\n",
    "    tools=[search_tool]\n",
    ")\n",
    "\n",
    "# 获取AgentExecutor的实例\n",
    "agent_executor = AgentExecutor(\n",
    "    agent=agent,\n",
    "    tools=[search_tool],\n",
    "    verbose=True,\n",
    "    memory=memory,\n",
    ")\n",
    "\n",
    "\n",
    "# 通过AgentExecutor的实例调用invoke(),得到响应\n",
    "result = agent_executor.invoke({\"input\":\"查询2025年9月9日北京的天气情况\"})\n",
    "\n",
    "# 处理响应\n",
    "print(result)\n"
   ],
   "id": "a1a8416ad12ee89f",
   "outputs": [
    {
     "name": "stdout",
     "output_type": "stream",
     "text": [
      "\n",
      "\n",
      "\u001B[1m> Entering new AgentExecutor chain...\u001B[0m\n",
      "\u001B[32;1m\u001B[1;3m```\n",
      "Thought: Do I need to use a tool? Yes\n",
      "Action: Search\n",
      "Action Input: \"Beijing weather September 9 2025\"\n",
      "```\u001B[0m\u001B[36;1m\u001B[1;3m[{'title': 'Weather in Beijing in September 2025 - Tripvenue', 'url': 'https://tripvenue.com/weather/china/l1816670/beijing/september', 'content': '| Sunshine duration (h) | 10 | 9.3 | 11.3 | 11.2 | 10.8 | 11.3 | 11 | 2.3 | 0 | 5.4 | 9.6 | 11.2 | 11 | 11.1 | 11 | 10.4 | 9.2 | 10 | 2.6 | 9.3 | 10.4 | 10 | 8.3 | 1 | 4.7 | 6.5 | 7.2 | 8.6 | 9.6 | 10.1 |\\n| Precipitation (mm) | 0 | 3 | 0 | 0 | 1.1 | 0 | 0.2 | 38.2 | 28.5 | 0 | 0 | 0 | 0 | 0 | 0 | 0 | 3.3 | 0 | 0 | 0 | 0 | 0 | 0 | 0.5 | 0 | 0 | 0 | 0 | 0 | 0 | [...] | Precipitation hours | 0 | 5 | 0 | 0 | 5 | 0 | 1 | 14 | 15 | 0 | 0 | 0 | 0 | 0 | 0 | 0 | 4 | 0 | 0 | 0 | 0 | 0 | 0 | 2 | 0 | 0 | 0 | 0 | 0 | 0 |\\n| Wind speed (m/s) | 11.4 | 17.2 | 9.7 | 7.9 | 8.6 | 11.9 | 18 | 14.1 | 13.9 | 9.7 | 15.5 | 9.7 | 13.6 | 16.6 | 16.9 | 10.3 | 16.9 | 15.9 | 17.1 | 10.5 | 15.9 | 22.3 | 9.5 | 7.1 | 9.7 | 13.8 | 17.3 | 14.1 | 19.7 | 16.3 | [...] | Apparent mean temperature | 21.7 | 21.9 | 23.6 | 25.7 | 25.1 | 24.5 | 26 | 24.4 | 22 | 20.8 | 17.7 | 15.5 | 16.6 | 15.2 | 18 | 19.9 | 19.6 | 14.5 | 12.8 | 13.1 | 15.8 | 15.1 | 13.7 | 13.1 | 15.5 | 17.4 | 9.2 | 11.8 | 10.3 | 7.3 |\\n| Minimum temperature | 19.3 | 19.2 | 20.5 | 21.8 | 21.3 | 21.5 | 22.4 | 21.9 | 19.6 | 18.6 | 17.7 | 15.6 | 15.8 | 14.9 | 16.9 | 18.3 | 17.7 | 16.7 | 13.5 | 13.5 | 15.4 | 15.7 | 13.9 | 13.2 | 14.8 | 16 | 11.7 | 12.7 | 12.8 | 9.6 |', 'score': 0.9520821}, {'title': 'Weather in Beijing in September 2025', 'url': 'https://world-weather.info/forecast/china/beijing/september-2025/', 'content': '[](\\n\\nAverage weather in September 2025\\n\\n1 days\\n\\nPrecipitation\\n\\n16 days\\n\\nCloudy\\n\\n13 days\\n\\nSunny\\n\\nDay\\n\\n+82\\n\\n°F\\n\\nNight\\n\\n+65\\n\\n°F\\n\\nCompare with another month\\n\\nExtended weather forecast in Beijing\\n\\nHourlyWeek10-Day14-Day30-DayYear\\n\\nWeather in large and nearby cities\\n\\nTongzhou+50°\\n\\nLinxi+45°\\n\\nCangzhou+52°\\n\\nDingzhou+50°\\n\\nXinji+50°\\n\\nHengshui+50°\\n\\nShijiazhuang+52°\\n\\nQinhuangdao+45°\\n\\nDezhou+55°\\n\\nChengde+43°\\n\\nZhangjiakou+46°\\n\\nTangshan+45°\\n\\nMentougou+50°\\n\\nShunyi+50°\\n\\nLangfang+50°\\n\\nTianjin+48°\\n\\nXuanhua+48° [...] 9 +88° +68° 10.3 mph S 29.6 inHg 54 %05:49 am 06:33 pm\\n   10 +81° +68° 7.2 mph E 29.7 inHg 62 %05:50 am 06:32 pm\\n   11 +88° +72° 11.9 mph S 29.6 inHg 50 %05:51 am 06:30 pm\\n   12 +84° +72° 7.8 mph S 29.6 inHg 54 %05:52 am 06:28 pm\\n   13 +84° +68° 9.8 mph S 29.5 inHg 52 %05:53 am 06:27 pm\\n   14 +88° +66° 11 mph NW 29.6 inHg 28 %05:54 am 06:25 pm\\n   15 +72° +64° 4.9 mph NE 29.6 inHg 70 %05:55 am 06:23 pm\\n   16 +73° +68° 9.6 mph N 29.8 inHg 43 %05:56 am 06:22 pm [...] 1 +88° +68° 6.9 mph S 29.5 inHg 55 %05:42 am 06:46 pm\\n   2 +86° +72° 9.2 mph S 29.6 inHg 64 %05:43 am 06:45 pm\\n   3 +88° +75° 8.9 mph S 29.6 inHg 57 %05:44 am 06:43 pm\\n   4 +88° +73° 7.8 mph S 29.6 inHg 58 %05:45 am 06:41 pm\\n   5 +73° +72° 3.8 mph SW 29.5 inHg 88 %05:46 am 06:40 pm\\n   6 +86° +66° 8.7 mph SW 29.6 inHg 41 %05:46 am 06:38 pm\\n   7 +88° +66° 8.3 mph NW 29.5 inHg 34 %05:47 am 06:37 pm\\n   8 +86° +63° 10.1 mph S 29.6 inHg 37 %05:48 am 06:35 pm', 'score': 0.9408388}, {'title': 'Beijing September 2025 Historical Weather Data (China)', 'url': 'https://weatherspark.com/h/m/131055/2025/9/Historical-Weather-in-September-2025-in-Beijing-China', 'content': '239,179 mi | | 5 |  | 94%  2:26 AM | WSW | 5:30 PM | ESE | 10:34 PM | S | 235,726 mi | | 6 |  | 98%  3:38 AM | WSW | 5:59 PM | ESE | 11:24 PM | S | 232,538 mi | | 7 |  | 100%  4:50 AM | WSW | 6:25 PM | E  - | | 8 |  | 100%  6:03 AM | W | 6:49 PM | E | 12:13 AM | S | 229,882 mi | | 9 |  | 99%  7:17 AM | W | 7:13 PM | E | 1:00 AM | S | 227,962 mi | | 10 |  | 95%  8:32 AM | WNW | 7:39 PM | ENE | 1:49 AM | S | 226,893 mi | | 11 |  | 88%  9:49 AM | WNW | 8:09 PM | ENE | 2:39 AM | S | 226,691 mi | | [...] 12 |  | 79%  11:07 AM | WNW | 8:45 PM | ENE | 3:33 AM | S | 227,277 mi | | 13 |  | 68%  12:24 PM | NW | 9:29 PM | NE | 4:30 AM | S | 228,510 mi | | 14 |  | 50%  1:37 PM | NW | 10:24 PM | NE | 5:30 AM | S | 230,217 mi | | 15 |  | 44%  2:40 PM | NW | 11:27 PM | NE | 6:32 AM | S | 232,228 mi | | 16 |  | 33%  3:32 PM | NW  7:32 AM | S | 234,404 mi | | 17 |  | 23% | 12:37 AM | NE | 4:12 PM | WNW  8:29 AM | S | 236,646 mi | | 18 |  | 14% | 1:49 AM | ENE | 4:45 PM | WNW  9:21 AM | S | 238,899 mi | | [...] 19 |  | 8% | 2:58 AM | ENE | 5:11 PM | WNW  10:09 AM | S | 241,131 mi | | 20 |  | 3% | 4:06 AM | ENE | 5:34 PM | W  10:53 AM | S | 243,321 mi | | 21 |  | 0% | 5:10 AM | E | 5:55 PM | W  11:35 AM | S | 245,433 mi | | 22 |  | 0% | 6:13 AM | E | 6:15 PM | W  12:16 PM | S | 247,411 mi | | 23 |  | 2% | 7:14 AM | E | 6:36 PM | WSW  12:56 PM | S | 249,170 mi | | 24 |  | 5% | 8:16 AM | ESE | 6:58 PM | WSW  1:37 PM | S | 250,604 mi | | 25 |  | 11% | 9:18 AM | ESE | 7:22 PM | WSW  2:20 PM | S | 251,586', 'score': 0.9202254}]\u001B[0m\u001B[32;1m\u001B[1;3mDo I need to use a tool? No  \n",
      "Final Answer: 2025年9月9日北京的天气情况尚未具体预测，但根据历史数据，9月的北京通常气温在19°C到26°C之间，天气多为晴天或多云，降水量较少。具体的天气情况可能会在接近日期时更准确地预测。\u001B[0m\n",
      "\n",
      "\u001B[1m> Finished chain.\u001B[0m\n",
      "{'input': '查询2025年9月9日北京的天气情况', 'chat_history': [HumanMessage(content='查询2025年9月9日北京的天气情况', additional_kwargs={}, response_metadata={}), AIMessage(content='2025年9月9日北京的天气情况尚未具体预测，但根据历史数据，9月的北京通常气温在19°C到26°C之间，天气多为晴天或多云，降水量较少。具体的天气情况可能会在接近日期时更准确地预测。', additional_kwargs={}, response_metadata={})], 'output': '2025年9月9日北京的天气情况尚未具体预测，但根据历史数据，9月的北京通常气温在19°C到26°C之间，天气多为晴天或多云，降水量较少。具体的天气情况可能会在接近日期时更准确地预测。'}\n"
     ]
    }
   ],
   "execution_count": 8
  },
  {
   "metadata": {
    "ExecuteTime": {
     "end_time": "2025-10-30T09:10:09.865907Z",
     "start_time": "2025-10-30T09:10:00.137784Z"
    }
   },
   "cell_type": "code",
   "source": [
    "result = agent_executor.invoke({\"input\":\"珠海的呢？\"})\n",
    "\n",
    "print(result)"
   ],
   "id": "87aa07fe4b42478c",
   "outputs": [
    {
     "name": "stdout",
     "output_type": "stream",
     "text": [
      "\n",
      "\n",
      "\u001B[1m> Entering new AgentExecutor chain...\u001B[0m\n",
      "\u001B[32;1m\u001B[1;3mThought: Do I need to use a tool? Yes  \n",
      "Action: Search  \n",
      "Action Input: \"2025年9月9日珠海的天气情况\"  \u001B[0m\u001B[36;1m\u001B[1;3m[{'title': '【2025珠海天氣】珠海氣溫指南，解鎖最佳旅遊季節、絕美景點與 ...', 'url': 'https://hk.trip.com/blog/zhuhai-weather-tour/', 'content': '中國內地/香港/澳門/台灣 | 5G eSIM｜日費計劃／流量套餐｜24小時計費制｜1至30日｜QR碼\\n\\n## 珠海天氣 | 七日天氣預報\\n\\n為您提供即將前往目的地未來一周內的天氣預報，幫助您更好地規劃日常活動與出行計劃。\\n\\n|  |  |  |  |  |  |  |\\n ---  ---  --- \\n| 9月7日 | 9月8日 | 9月9日 | 9月10日 | 9月11日 | 9月12日 | 9月13日 |\\n| 今日 | 明日 | 星期二 | 星期三 | 星期四 | 星期五 | 星期六 |\\n| 34℃/29℃ | 33℃/26℃ | 30℃/26℃ | 30℃/26℃ | 30℃/27℃ | 32℃/27℃ | 32℃/27℃ |\\n| 天晴 | 驟雨 | 大雨 | 中雨 | 驟雨 | 多雲 | 多雲 |\\n\\n## 珠海天氣 | 景點推介\\n\\n### 珠海長隆海洋王國\\n\\n珠海長隆海洋王國位於珠海長隆國際海洋度假區，是全球較大型的海洋主題樂園之一。園區共分為八大主題區，集各類珍稀海洋動物展館、動感遊樂設施、3大劇場表演於一體，還可享受環球滋味美食和購物樂趣，精彩不容錯過。\\n\\n八大主題區 [...] 埃塞俄比亞\\n埃及\\n摩洛哥\\n南非\\n尼日利亞\\n塞舌爾\\n突尼斯\\n肯尼亞\\n加納\\n津巴布韋\\n坦桑尼亞\\n毛里求斯\\n阿爾及利亞\\n烏干達\\n博茨瓦納\\n\\n旅遊體驗\\n\\n探索自然\\n人文歷史\\n休閒度假\\n家庭出遊\\n戶外運動\\n購物\\n美食\\n酒店\\n自駕遊\\n水上活動\\n優惠\\n飛行體驗\\n綠色出行\\n旅行貼士\\n公眾假期\\n旅遊優惠\\n季節精選\\n旅遊資訊\\n新冠肺炎\\n\\n# 【2025珠海天氣】珠海氣溫指南，解鎖最佳旅遊季節、絕美景點與特色吃喝地\\n\\n# 珠海\\n\\n# 天氣\\n\\nTravellers Magicians\\n\\n2025年9月6日\\n\\n\\uf5b6\\n2,880\\n\\n\\uf5aa\\n0\\n\\n目錄\\n\\n 珠海天氣 | 珠海吃喝玩樂大合集\\n  + 珠海必遊景點合集\\n  + 珠海沉浸式特色體驗\\n  + 珠海尊享禮遇·省心之選\\n 珠海天氣 | 七日天氣預報\\n 珠海天氣 | 景點推介\\n  + 珠海長隆海洋王國\\n  + 珠海長隆度假區\\n  + 長隆飛船樂園\\n  + 港珠澳大橋遊\\n  + 珠海橫琴《長隆秀》\\n  + 澳門環島遊\\n 珠海天氣 | 旅遊攻略\\n\\n展示更多\\n\\uf544 [...] 亞洲\\n\\n約旦\\n日本\\n朝鮮\\n中國\\n新加坡\\n以色列\\n印度\\n菲律賓\\n伊朗\\n泰國\\n印度尼西亞\\n越南\\n巴基斯坦\\n卡塔爾\\n尼泊爾\\n柬埔寨\\n蒙古\\n馬來西亞\\n韓國\\n斯里蘭卡\\n孟加拉國\\n哈薩克斯坦\\n緬甸\\n黎巴嫩\\n阿聯酋\\n老撾\\n阿塞拜疆\\n文萊達魯薩蘭國\\n沙特阿拉伯\\n烏茲別克斯坦\\n馬爾代夫\\n阿曼\\n巴林\\n\\n南極洲\\n\\n歐洲\\n\\n土耳其\\n俄羅斯\\n格魯吉亞\\n克羅地亞\\n德國\\n冰島\\n馬耳他\\n葡萄牙\\n法國\\n意大利\\n比利時\\n西班牙\\n愛爾蘭\\n希臘\\n瑞士\\n亞美尼亞\\n英國\\n挪威\\n烏克蘭\\n丹麥\\n瑞典\\n摩納哥\\n塞爾維亞\\n荷蘭\\n波蘭\\n羅馬尼亞\\n黑山\\n奧地利\\n芬蘭\\n阿爾巴尼亞\\n保加利亞\\n捷克\\n匈牙利\\n拉脱維亞\\n愛沙尼亞\\n立陶宛\\n斯洛文尼亞\\n波黑\\n盧森堡\\n斯洛伐克\\n摩爾多瓦\\n白俄羅斯\\n北馬其頓共和國\\n列支敦士登\\n聖馬力諾\\n克里米亞\\n\\n大洋洲\\n\\n澳洲\\n新西蘭\\n斐濟\\n帛琉\\n法屬波利尼西亞\\n\\n北美洲\\n\\n波多黎各\\n墨西哥\\n加拿大\\n美國\\n巴哈馬\\n古巴\\n多米尼加共和國\\n尼加拉瓜\\n牙買加\\n伯利茲\\n\\n南美洲\\n\\n巴拿馬\\n巴西\\n阿根廷\\n哥倫比亞\\n祕魯\\n厄瓜多爾\\n智利\\n\\n非洲', 'score': 0.7900289}, {'title': '珠海天氣2025 珠海氣溫資訊四季穿搭貼士 - Trip.com', 'url': 'https://hk.trip.com/guide/info/%E7%8F%A0%E6%B5%B7%E6%B0%A3%E6%BA%AB.html', 'content': '珠海天氣2025 珠海氣溫資訊 四季穿搭貼士\\n\\nTrip.com - HK\\n\\n2025年4月2日\\n\\n珠海氣溫 - 珠海漁女\\n\\n歡迎來到珠海！這個位於廣東省的城市因其壯麗的海岸線和豐富的自然景觀而受到遊客們的喜愛🌊。珠海擁有溫暖宜人的氣候，常年陽光普照☀️，令人心情愉悅！\\n\\n這個城市坐落在珠江口，被大海包圍🏖️，擁有許多美麗的海灘和迷人的海景。你可以在海邊散步，感受微風拂面的愜意。此外，珠海還擁有一些迷人的島嶼，如長隆海洋王國和澳門。你可以乘船前往這些地方，盡情享受陽光和海灘的樂趣！\\n\\n珠海天氣\\n\\n珠海的氣候特點是四季分明。春季🌸（3月至5月）氣候溫暖宜人，平均溫度約在18°C至24°C之間，是花卉盛開的季節，你可以欣賞到繽紛多彩的花海景觀。夏季☀️（6月至8月）炎熱潮濕，平均溫度約在28°C至32°C之間。這段時間最適合去海灘戲水，享受陽光和海浪的激情！\\n\\n秋季（9月至11月）氣溫宜人，平均溫度約在20°C至26°C之間，是遊覽珠海景點的絕佳季節。冬季（12月至2月）較為涼爽，平均溫度約在13°C至18°C之間。這段時間你可以穿上輕便的外套，欣賞城市的美麗景色。 [...] 珠海是位於中國廣東省的一個美麗海濱城市，坐落在珠江口東南岸。這座城市擁有優越的地理位置，面向南海，四周環繞著山脈和島嶼，享有豐富的自然資源和迷人的海洋風光。\\n\\n珠海的氣候屬於亞熱帶海洋性氣候，四季分明。全年氣溫較為溫暖，夏季炎熱潮濕，冬季相對涼爽。春天（3月至5月）氣候宜人，平均溫度約在18°C至24°C之間，濕度較高，但降雨量相對較少。夏天（6月至8月）炎熱潮濕，平均溫度約在28°C至32°C之間，濕度高，且有較多的降雨。秋天（9月至11月）氣候宜人，溫度逐漸回升，平均溫度約在24°C至28°C之間，降雨量相對減少。冬天（12月至2月）較為涼爽，平均溫度約在14°C至20°C之間，降雨較少。\\n\\n除了宜人的氣候外，珠海還以其豐富的旅遊特點而聞名。珠海擁有迷人的海灘和海洋風光，如金灣海灘、白蓮洞海灘等，是度假休閒的理想之地。此外，珠海還有許多文化和歷史景點，如澳門威尼斯人、澳門旅遊塔等，讓遊客感受到濃厚的文化氛圍。\\n\\n珠海春天天氣\\n\\n珠海氣溫 - 淇澳島\\n\\n珠海的春天是一個宜人而美麗的季節。從3月到5月，珠海的春天帶來了溫暖舒適的天氣和綻放的花朵。 [...] 在秋天，珠海的平均溫度約在24°C至28°C之間，不再像夏天那樣炎熱，但也不冷。這個季節適合穿著薄長袖衣物、褲子或裙子，既保暖又舒適。隨著秋天的到來，天空的顏色也變得更加湛藍，氣溫適宜，給人一種宜人的感覺。\\n\\n秋天的珠海相對乾燥，平均濕度約在60%至70%之間。這使得秋天的空氣清新，遊客可以盡情呼吸新鮮的空氣。然而，隨著季節轉變，夜晚的溫度會稍微降低，所以在戶外活動時，建議攜帶一件薄外套或毛衣以應對涼爽的氣溫變化。\\n\\n降雨方面，秋天是珠海的雨季之一。平均降雨量約在150毫米至200毫米左右，偶爾會有陣雨出現。攜帶一把小雨傘或雨衣是明智之舉，以應對突然的降雨，同時也可以享受在雨中漫步的浪漫氛圍。秋天的珠海日出時間逐漸推晚，大約在6點30分左右，而日落時間也稍稍提前，約在18點左右。這讓人有更多的時間去欣賞日出和日落的美景，以及享受戶外活動的樂趣。\\n\\n秋天是珠海一年中旅遊的熱門季節之一。遊客可以到公園、山區或湖泊等地，欣賞秋天的美景和落葉的色彩變化。另外，秋季也是享受美食的絕佳時刻，珠海以新鮮的海鮮和各種特色小吃聞名，讓您品味美味的同時感受秋天的味道。\\n\\n珠海冬天天氣', 'score': 0.7621591}, {'title': '珠海市气象局', 'url': 'https://www.kitwong001.com/', 'content': '67%\\n\\n小时累计雨量\\n\\n无降雨\\n\\n预报员讲天气\\n\\n日出日落时间\\n\\n2025 年 10 月 26 日\\n\\n距日落还剩 10 小时 59 分钟\\n\\n日出\\n\\n18:28\\n\\n日正\\n\\n00:10\\n\\n日落\\n\\n05:53\\n\\n微博互动\\n\\n珠澳气象科普活动首次走进内地首所澳人子弟学校\\n\\n工作动态\\n\\n政策法规\\n\\n重要资讯\\n\\n招投标\\n\\n公告公示\\n\\n更多>>\\n\\n珠海市气象局召开内部审计工作会议\\n\\n市气象局开展消防知识培训 “理论+实操”筑牢安全防线\\n\\n周珍丹入选“我是珠海建设者”宣传人选\\n\\n全国气象防灾减灾专家到珠海开展 台风“桦加沙”灾后调研\\n\\n珠海市气象局党员先锋队逆风战“桦加沙”，筑牢气象服务“生命线”\\n\\n市气象局与市民政局联合举办气象科普讲座\\n\\n“合作区气象灾害防御重点单位名录”公布\\n\\n谭浩波一行到珠海调研全运会跨境项目气象保障准备情况\\n\\n2个地址的气象科普馆参观预约电话：  \\n香洲区金星路189号：2226078、2134986  \\n香洲区红旗街34号：2222878\\n\\n 珠海市气象局2024年度  \\n政府网站工作年度报表\\n 珠海市气象局2024年  \\n政府信息公开工作年度报告\\n\\n关闭 < [...] 22\\n\\n24\\n\\n26\\n\\n28\\n\\n30\\n\\n32\\n\\n34\\n\\n36\\n\\n38\\n\\n40\\n\\n(℃)\\n\\n2025 年 10 月 26 日 18 : 45\\n\\n行政图\\n\\n卫星图\\n\\n地形图\\n\\n气象雷达\\n\\n卫星云图\\n\\n天气实景\\n\\n详情 >>\\n\\n香洲测站\\n\\n平沙测站\\n\\n气象雷达站(北)\\n\\n空气质量\\n\\n气象公共服务白皮书\\n\\n气象设备简介\\n\\n珠海预警\\n\\n澳门预警\\n\\n应急与宣传消息\\n\\n目前无消息\\n10 月 26 日 18 : 50 更新\\n\\n短时预报\\n\\n10 月 26 日 07 : 55 更新\\n\\n珠海市\\u2003未来6小时\\n\\n相对湿度\\n55 ~ 85 %\\n\\n风向\\n偏北风\\n\\n陆地风力\\n\\n2~3级\\n\\n海面风力\\n\\n4~5级\\n\\n阵风6~7级\\n\\n22 ~ 26\\n℃\\n\\n大致多云\\n\\n气象指数预报\\n\\n详情 >>\\n\\n10 月 26 日 夜晚到明天 气象指数预报（10 月 26 日 18 : 19 发布）\\n\\n紫外线\\n\\n2 级\\n\\n强度偏低\\n\\n可以涂擦防护霜等。\\n\\n森林火险\\n\\n3 级\\n\\n可燃\\n\\n国家基本气象站实况\\n\\n珠海站\\n\\n斗门站\\n\\n10 月 26 日 18 : 45\\n\\n22.0℃\\n\\n东北偏北风 2 级\\n\\n能见度\\n\\n26 公里\\n\\n相对湿度', 'score': 0.5379402}]\u001B[0m\u001B[32;1m\u001B[1;3mDo I need to use a tool? No  \n",
      "Final Answer: 根据历史数据，珠海在9月的气温通常在20°C到26°C之间，天气多为晴天或多云。具体到2025年9月9日，预计气温在30°C到26°C之间，天气可能会有大雨或中雨。这个时期是游览珠海的好时机，适合享受海滩和户外活动。\u001B[0m\n",
      "\n",
      "\u001B[1m> Finished chain.\u001B[0m\n",
      "{'input': '珠海的呢？', 'chat_history': [HumanMessage(content='查询2025年9月9日北京的天气情况', additional_kwargs={}, response_metadata={}), AIMessage(content='2025年9月9日北京的天气情况尚未具体预测，但根据历史数据，9月的北京通常气温在19°C到26°C之间，天气多为晴天或多云，降水量较少。具体的天气情况可能会在接近日期时更准确地预测。', additional_kwargs={}, response_metadata={}), HumanMessage(content='珠海的呢？', additional_kwargs={}, response_metadata={}), AIMessage(content='根据历史数据，珠海在9月的气温通常在20°C到26°C之间，天气多为晴天或多云。具体到2025年9月9日，预计气温在30°C到26°C之间，天气可能会有大雨或中雨。这个时期是游览珠海的好时机，适合享受海滩和户外活动。', additional_kwargs={}, response_metadata={})], 'output': '根据历史数据，珠海在9月的气温通常在20°C到26°C之间，天气多为晴天或多云。具体到2025年9月9日，预计气温在30°C到26°C之间，天气可能会有大雨或中雨。这个时期是游览珠海的好时机，适合享受海滩和户外活动。'}\n"
     ]
    }
   ],
   "execution_count": 9
  },
  {
   "metadata": {},
   "cell_type": "markdown",
   "source": "举例2：自定义提示词模板",
   "id": "c7c5fdb0b332eac5"
  },
  {
   "metadata": {
    "ExecuteTime": {
     "end_time": "2025-10-30T09:20:05.303455Z",
     "start_time": "2025-10-30T09:19:48.507396Z"
    }
   },
   "cell_type": "code",
   "source": [
    "from langchain import hub\n",
    "from langchain.agents import create_react_agent\n",
    "from langchain_core.prompts import ChatPromptTemplate\n",
    "# 获取Tavily搜索的实例\n",
    "from langchain_openai import ChatOpenAI\n",
    "from langchain.agents import initialize_agent, AgentType, create_tool_calling_agent, AgentExecutor\n",
    "from langchain.tools import Tool\n",
    "import os\n",
    "import dotenv\n",
    "from langchain_openai import ChatOpenAI\n",
    "from langchain_community.tools.tavily_search import TavilySearchResults\n",
    "dotenv.load_dotenv()\n",
    "\n",
    "# 读取配置文件的信息\n",
    "os.environ['TAVILY_API_KEY'] = os.getenv('TAVILY_API_KEY')\n",
    "\n",
    "# 获取Tavily搜索工具的实例\n",
    "search = TavilySearchResults(max_results=3)\n",
    "\n",
    "# 获取一个搜索的工具\n",
    "# 使用Tool\n",
    "search_tool = Tool(\n",
    "    func=search.run,\n",
    "    name=\"Search\",\n",
    "    description=\"用于检索互联网上的信息\",\n",
    ")\n",
    "\n",
    "\n",
    "# 获取大语言模型\n",
    "os.environ['OPENAI_API_KEY'] = os.getenv(\"OPENAI_API_KEY1\")\n",
    "os.environ['OPENAI_BASE_URL'] = os.getenv(\"OPENAI_BASE_URL\")\n",
    "llm = ChatOpenAI(\n",
    "    model=\"claude-haiku-4-5\",  #5美元\n",
    "    temperature=0,\n",
    ")\n",
    "# 自定义提示词模板\n",
    "template = \"\"\"Assistant is a large language model trained by OpenAI.\n",
    "\n",
    "Assistant is designed to be able to assist with a wide range of tasks, from answering simple questions to providing in-depth explanations and discussions on a wide range of topics. As a language model, Assistant is able to generate human-like text based on the input it receives, allowing it to engage in natural-sounding conversations and provide responses that are coherent and relevant to the topic at hand.\n",
    "\n",
    "Assistant is constantly learning and improving, and its capabilities are constantly evolving. It is able to process and understand large amounts of text, and can use this knowledge to provide accurate and informative responses to a wide range of questions. Additionally, Assistant is able to generate its own text based on the input it receives, allowing it to engage in discussions and provide explanations and descriptions on a wide range of topics.\n",
    "\n",
    "Overall, Assistant is a powerful tool that can help with a wide range of tasks and provide valuable insights and information on a wide range of topics. Whether you need help with a specific question or just want to have a conversation about a particular topic, Assistant is here to assist.\n",
    "\n",
    "TOOLS:\n",
    "------\n",
    "\n",
    "Assistant has access to the following tools:\n",
    "\n",
    "{tools}\n",
    "\n",
    "To use a tool, please use the following format:\n",
    "\n",
    "```\n",
    "Thought: Do I need to use a tool? Yes\n",
    "Action: the action to take, should be one of [{tool_names}]\n",
    "Action Input: the input to the action\n",
    "Observation: the result of the action\n",
    "```\n",
    "\n",
    "When you have a response to say to the Human, or if you do not need to use a tool, you MUST use the format:\n",
    "\n",
    "```\n",
    "Thought: Do I need to use a tool? No\n",
    "Final Answer: [your response here]\n",
    "```\n",
    "\n",
    "Begin!\n",
    "\n",
    "Previous conversation history:\n",
    "{chat_history}\n",
    "\n",
    "New input: {input}\n",
    "{agent_scratchpad}\n",
    "\"\"\"\n",
    "prompt_template = PromptTemplate.from_template(\n",
    "    template=template,\n",
    ")\n",
    "\n",
    "# 提供记忆的实例\n",
    "memory = ConversationBufferMemory(\n",
    "    return_messages=True,\n",
    "    memory_key=\"chat_history\",\n",
    ")\n",
    "\n",
    "# 获取Agent的实例：create_react_agent()\n",
    "agent = create_react_agent(\n",
    "    llm=llm,\n",
    "    prompt=prompt_template,\n",
    "    tools=[search_tool]\n",
    ")\n",
    "\n",
    "# 获取AgentExecutor的实例\n",
    "agent_executor = AgentExecutor(\n",
    "    agent=agent,\n",
    "    tools=[search_tool],\n",
    "    verbose=True,\n",
    "    memory=memory,\n",
    "    handle_parsing_errors=True,\n",
    ")\n",
    "\n",
    "\n",
    "# 通过AgentExecutor的实例调用invoke(),得到响应\n",
    "result = agent_executor.invoke({\"input\":\"查询今天lol谁打谁\"})\n",
    "\n",
    "# 处理响应\n",
    "print(result)\n"
   ],
   "id": "49016c6a6ab09955",
   "outputs": [
    {
     "name": "stdout",
     "output_type": "stream",
     "text": [
      "\n",
      "\n",
      "\u001B[1m> Entering new AgentExecutor chain...\u001B[0m\n",
      "\u001B[32;1m\u001B[1;3mThought: Do I need to use a tool? Yes\n",
      "Action: Search\n",
      "Action Input: 今天LOL比赛 谁打谁\n",
      "\u001B[0m\u001B[36;1m\u001B[1;3m[{'title': 'LOL世界賽S15日期、隊伍、賽制、賽程持續更新中！Peanut含淚 ...', 'url': 'https://hk.trip.com/guide/info/LOL%E4%B8%96%E7%95%8C%E8%B3%BD.html', 'content': '這場 10 月 14 日於北京舉行的單場 BO5，將是 T1 與 IG 的生死之戰。 兩隊將直接交鋒，勝者將作為最後一支隊伍晉級 16 強瑞士輪，敗者則將直接被淘汰，無緣後續賽事。\\n\\n## 10.14入圍賽 IG 1:3 不敵T1\\n\\nFaker所領銜的T1，依然保持了連續13年世界賽中對面LPL戰隊BO5全勝的記錄。值得一提的是，S15賽季是Faker與T1第二次衝擊世界賽三連冠的偉大成就。Faker在今日賽後採訪時表示： 今天能在這麼多粉絲面前贏得比賽勝利，是非常值得開心的事情。被問到這是世界大賽歷史上第一次入圍賽就是生死戰，他說，雖然是背水一戰、輸掉比賽就要回家，但或許先開始藉此戰瞭解世界賽、先暖手，也是不錯體驗，所以他個人是樂觀去面對這件事。\\n\\n## LOL S15 世界賽瑞士輪解析\\n\\n《英雄聯盟》世界賽 S15 核心賽段瑞士輪（Swiss Stage）將在 10 月 15 日至 10 月 25 日期間舉行，距離開戰只剩下不到兩週時間。這將是全球 16 支頂尖戰隊爭奪八強淘汰賽席位的最關鍵階段！\\n\\n### 瑞士輪賽事詳情一覽 [...] |  |  |  |  |\\n ---  --- |\\n| 隊伍 | 對手 | 所在半區 | 關鍵分析 |\\n| AL（LPL） | T1 (LCK) | 上半區 | AL 將面對狀態有所起伏的衛冕冠軍 T1，被視為 LPL 的上上籤。 |\\n| TES(LPL) | G2 (LEC) | 上半區 | TES 對陣 G2 佔有優勢，上半區兩場對決 LPL 均被看好晉級。 |\\n| GEN(LCK) | HLE (LCK) | 下半區 | LCK 內戰提前上演，幾乎鎖定一個決賽名額。 |\\n| CFO(LCP) | KT (LCK) | 下半區 | CFO 面臨「三韓包一」的困境，首戰對陣 KT 雖有一線機會，但晉級四強已是極限。 |\\n\\n### 晉級形勢總結：LCK 保送決賽，LPL 爭奪上半區主導權\\n\\n LCK 賽區： 四支隊伍全數進入下半區，其中 GEN 與 HLE 提前內戰，LCK 賽區已提前鎖定本屆世界賽的一個決賽席位。\\n LPL 賽區： 兩支隊伍均在上半區。由於 T1 近期狀態不佳，AL 極有機會爆冷擊敗 T1。TES 對陣 G2 亦勝算較高，LPL 有望會師上半區決賽。 [...] |  |  |  |\\n --- \\n|  | 已出線隊伍 (部分待定) |  |\\n| 中國 LPL 賽區 |  | 坐擁主場優勢，已3年未能奪冠的 LPL 勢必全力爭冠，將獎杯留住，重鑄 LPL 榮光？ |\\n| 韓國 LCK 賽區 |  | 宿命對決！衛冕冠軍 T1 與聯賽霸主 GEN 再次交鋒。T1能否實現3連冠？HLE Peanut最後一舞可否圓夢召喚師獎杯？ |\\n| 美洲 LTA 賽區 |  |  |\\n| 歐洲 LEC 賽區 |  | 歐洲老牌勁旅 G2 將再度領銜出戰。 |\\n| 太平洋 LCP 賽區 |  |  |\\n\\n查看全部酒店\\n\\nNO.1\\n\\n9.6/102181則評價\\n\\n成都酒店\\n\\n早餐\\n\\n游泳池\\n\\nNO.2\\n\\n9.4/1074則評價\\n\\n成都酒店\\n\\n早餐\\n\\n餐廳\\n\\nNO.3\\n\\n9.1/1012則評價\\n\\n早餐\\n\\n游泳池\\n\\nNO.4\\n\\n8.2/103則評價\\n\\n游泳池\\n\\n餐廳\\n\\nNO.5\\n\\n9.9/1035則評價\\n\\n成都酒店\\n\\n早餐\\n\\nNO.6\\n\\n9.3/102933則評價\\n\\n都江堰酒店\\n\\n早餐\\n\\n游泳池\\n\\nNO.7\\n\\n9.5/10120則評價\\n\\n早餐\\n\\n游泳池\\n\\nNO.8', 'score': 0.3365278}, {'title': '虎牙英雄联盟赛事直播', 'url': 'https://m.huya.com/lpl', 'content': '视频回放\\n\\n明天 03:00\\n\\n八强赛\\n\\nHLE\\n\\nVS\\n\\n预约\\n\\nGEN\\n\\n10月29日 03:00\\n\\n八强赛\\n\\nKT\\n\\nVS\\n\\n预约\\n\\nCFO\\n\\n10月30日 03:00\\n\\n八强赛\\n\\nG2\\n\\nVS\\n\\n预约\\n\\nTES\\n\\n10月31日 03:00\\n\\n八强赛\\n\\nAL\\n\\nVS\\n\\n预约\\n\\nT1\\n\\n11月01日 03:00\\n\\n半决赛\\n\\n待定1\\n\\nVS\\n\\n预约\\n\\n待定2\\n\\n11月02日 02:00\\n\\n半决赛\\n\\n待定1\\n\\nVS\\n\\n预约\\n\\n待定2\\n\\n11月09日 02:00\\n\\n总决赛\\n\\n待定1\\n\\nVS\\n\\n预约\\n\\n待定2\\n\\n虎牙首页 > 全部直播 > 虎牙英雄联盟赛事的直播间\\n\\n主直播间姿态水晶Ning4K超清直播间\\n\\n## 【预告】28日15点HLE vs GEN八强赛\\n\\n### 虎牙英雄联盟赛事\\n\\n网游竞技英雄联盟视频6600001,598,333\\n\\n节目单\\n\\n关注\\n\\n1,764.8万\\n\\n客户端看\\n\\n分享\\n\\n举报\\n\\n虎牙直播 660000\\n\\n正在加载\\n\\n目前网络有点卡，试试下面的方法吧\\n\\n推荐去PC端观看，占用更少CPU、更流畅\\n\\n切换线路\\n\\n去PC端看\\n\\n下载 虎牙直播APP\\n\\n精彩赛事随时享 [...] 虎牙英雄联盟赛事\\n\\n加载中\\n\\n关注\\n0\\n\\n展开礼物\\n\\n返回直播\\n\\n发生了新的事件 ，快回到直播看看\\n\\n全部解说\\n\\n高清\\n\\n蓝光8M画质极致体  \\n验，了解一下？\\n去看看\\n\\n在这里可以体验无损  \\n音质哦~\\n\\n切换全景和普通直播\\n\\n模式：\\n\\n 全景模式\\n 普通模式\\n\\n线路：\\n画质：\\n\\n 超清\\n 高清\\n\\n线路5\\n\\n 线路3\\n 线路5\\n 线路14\\n 线路15\\n 线路24\\n\\n体验无损音质：\\n\\n字幕\\n\\n字体大小\\n\\n不透明度\\n\\n- 大\\n- 中\\n- 小\\n\\n弹幕\\n\\n弹幕位置\\n\\n字体大小\\n\\n不透明度\\n\\n- 海量全屏\\n- 全屏\\n- 半屏\\n- 上方\\n\\n- 大\\n- 中\\n- 小\\n\\n80%\\n\\n画面防遮挡\\n\\n视频区屏蔽设置\\n\\n 表情屏蔽\\n 上电视弹幕屏蔽\\n 特效通知屏蔽\\n 弹幕全局特效屏蔽\\n\\n0/30\\n发送\\n\\n百宝箱\\n\\n小黄车\\n\\n上热门\\n\\n选手评分\\n\\n更多\\n\\n 首充礼包\\n 充值\\n\\n  立即充值\\n 包裹\\n 守护\\n 贵族\\n\\n小窗播放\\n\\n复制 [...] 系统消息：虎牙依法对直播内容进行24小时巡查，禁止传播违法违规、封建迷信、暴力血腥、低俗色情、招嫖诈骗、违禁品等不良信息，禁止未成年人直播或打赏，坚决维护青少年群体精神文明健康。请勿轻信各类招聘征婚、代练代抽、刷钻、购买礼包码、游戏币等广告信息，且如主播在推广商品中诱导私下交易，请谨慎判断，以免上当受骗。\\n\\n锁屏\\n\\n清屏\\n\\n有更多新的消息\\n\\n请勿轻信任何主播或个人提供的兼职信息，谨防受骗 x\\n\\n## 彩色弹幕\\n\\n开通战队勋章，独享彩色弹幕\\n\\n×\\n\\n登录发弹幕，免费领银豆！\\n\\n发送\\n\\n直播间广告屏蔽\\n\\n贵族消息屏蔽\\n\\n礼物消息屏蔽\\n\\n礼物特效屏蔽\\n\\n弹幕彩蛋屏蔽\\n\\n## 推荐动态主播动态讨论区\\n\\n## 猜你喜欢\\n\\n## 推荐分类\\n\\n请选择tab-1组件\\n\\n请选择tab-2组件\\n\\n请选择tab-3组件\\n\\n请选择tab-4组件\\n\\n2025全球总决赛观赛指南\\n\\n2025全球总决赛LPL出征海报  为LPL加油助威，争者留其名', 'score': 0.28862974}, {'title': '赛程一览- 英雄联盟赛事官网- 腾讯游戏', 'url': 'https://lpl.qq.com/es/schedule.shtml', 'content': '首页\\n L-LIVE\\n 视频\\n 战队\\n 赛程\\n 数据\\n 售票H\\n 公告\\n LPL名人堂\\n 联盟经理\\n\\n LPLH\\n 德玛西亚杯\\n 全明星周末\\n 全球总决赛\\n 季中冠军赛\\n 高校联赛\\n LDL\\n\\n赛事首页赛程一览\\n\\n### 赛事筛选\\n\\n### 时间筛选\\n\\n筛选;)\\n清空;)\\n\\n 状态\\n 赛事名称\\n 赛事阶段\\n 比赛时间\\n 对阵情况\\n 相关内容\\n\\n 已结束\\n\\n  2022职业联赛\\n\\n  全球总决赛资格赛\\n\\n  2022-09-03  \\n  17:00\\n\\n  深圳NIP\\n\\n  13\\n\\n  苏州LNG\\n\\n  视频集锦数据\\n 已结束\\n\\n  2022职业联赛\\n\\n  全球总决赛资格赛\\n\\n  2022-09-04  \\n  17:00\\n\\n  RNG\\n\\n  32\\n\\n  苏州LNG\\n\\n  视频集锦数据\\n\\n腾讯互动娱乐riot\\n\\n 腾讯互动娱乐|服务条款|隐私保护指引|儿童隐私保护指引|腾讯游戏招聘|腾讯游戏客服|游戏列表|广告服务及商务合作|\\n 腾讯公司版权所有网络游戏行业防沉迷自律公约\\n COPYRIGHT © 1998 - 2025 TENCENT. ALL RIGHTS RESERVED.', 'score': 0.23017524}]\u001B[0m\u001B[32;1m\u001B[1;3mThought: Do I need to use a tool? No\n",
      "\n",
      "Final Answer: \n",
      "\n",
      "根据搜索结果，目前英雄联盟S15世界赛正在进行**八强赛**阶段。以下是接下来的比赛安排：\n",
      "\n",
      "**已确认的八强赛对阵：**\n",
      "\n",
      "1. **10月28日 03:00** - HLE vs GEN\n",
      "2. **10月29日 03:00** - KT vs CFO  \n",
      "3. **10月30日 03:00** - G2 vs TES\n",
      "4. **10月31日 03:00** - AL vs T1\n",
      "\n",
      "**后续赛程：**\n",
      "- **11月01日 03:00** - 半决赛（待定1 vs 待定2）\n",
      "- **11月02日 02:00** - 半决赛（待定1 vs 待定2）\n",
      "- **11月09日 02:00** - 总决赛\n",
      "\n",
      "如果您想了解**今天具体的比赛**，请告诉我今天的日期，我可以为您查询具体是哪两支队伍对阵。目前搜索结果显示的是S15世界赛的整体赛程安排。\u001B[0m\n",
      "\n",
      "\u001B[1m> Finished chain.\u001B[0m\n",
      "{'input': '查询今天lol谁打谁', 'chat_history': [HumanMessage(content='查询今天lol谁打谁', additional_kwargs={}, response_metadata={}), AIMessage(content='根据搜索结果，目前英雄联盟S15世界赛正在进行**八强赛**阶段。以下是接下来的比赛安排：\\n\\n**已确认的八强赛对阵：**\\n\\n1. **10月28日 03:00** - HLE vs GEN\\n2. **10月29日 03:00** - KT vs CFO  \\n3. **10月30日 03:00** - G2 vs TES\\n4. **10月31日 03:00** - AL vs T1\\n\\n**后续赛程：**\\n- **11月01日 03:00** - 半决赛（待定1 vs 待定2）\\n- **11月02日 02:00** - 半决赛（待定1 vs 待定2）\\n- **11月09日 02:00** - 总决赛\\n\\n如果您想了解**今天具体的比赛**，请告诉我今天的日期，我可以为您查询具体是哪两支队伍对阵。目前搜索结果显示的是S15世界赛的整体赛程安排。', additional_kwargs={}, response_metadata={})], 'output': '根据搜索结果，目前英雄联盟S15世界赛正在进行**八强赛**阶段。以下是接下来的比赛安排：\\n\\n**已确认的八强赛对阵：**\\n\\n1. **10月28日 03:00** - HLE vs GEN\\n2. **10月29日 03:00** - KT vs CFO  \\n3. **10月30日 03:00** - G2 vs TES\\n4. **10月31日 03:00** - AL vs T1\\n\\n**后续赛程：**\\n- **11月01日 03:00** - 半决赛（待定1 vs 待定2）\\n- **11月02日 02:00** - 半决赛（待定1 vs 待定2）\\n- **11月09日 02:00** - 总决赛\\n\\n如果您想了解**今天具体的比赛**，请告诉我今天的日期，我可以为您查询具体是哪两支队伍对阵。目前搜索结果显示的是S15世界赛的整体赛程安排。'}\n"
     ]
    }
   ],
   "execution_count": 12
  },
  {
   "metadata": {
    "ExecuteTime": {
     "end_time": "2025-10-30T09:21:16.198515Z",
     "start_time": "2025-10-30T09:21:05.702649Z"
    }
   },
   "cell_type": "code",
   "source": [
    "result = agent_executor.invoke({\"input\":\"今天10.30 明天谁打谁呢？\"})\n",
    "\n",
    "print(result)"
   ],
   "id": "eacddbb2111be530",
   "outputs": [
    {
     "name": "stdout",
     "output_type": "stream",
     "text": [
      "\n",
      "\n",
      "\u001B[1m> Entering new AgentExecutor chain...\u001B[0m\n",
      "\u001B[32;1m\u001B[1;3mThought: Do I need to use a tool? Yes\n",
      "Action: Search\n",
      "Action Input: LOL英雄联盟S15世界赛10月31日比赛对阵\n",
      "\u001B[0m\u001B[36;1m\u001B[1;3m[{'title': '《英雄联盟》S15四分之一决赛赛程出炉：AL对阵T1 - 网易', 'url': 'https://www.163.com/dy/article/KCQ4NKCE0526D8LR.html', 'content': '### 新闻\\n\\n### 体育\\n\\n### 娱乐\\n\\n### 财经\\n\\n### 汽车\\n\\n### 科技\\n\\n### 时尚\\n\\n### 手机 / 数码\\n\\n### 房产 / 家居\\n\\n### 教育\\n\\n# 《英雄联盟》S15四分之一决赛赛程出炉：AL对阵T1\\n\\n用微信扫码二维码\\n\\n分享至好友和朋友圈\\n\\n2025《英雄联盟》S15全球总决赛已经结束瑞士轮争夺，八强队伍全部产生。\\n\\n韩国LCK赛区四支队伍全部晋级，中国大陆LPL赛区只有AL、TES晋级。\\n\\n2025全球总决赛淘汰赛四分之一决赛对阵情况如下：\\n\\n10月28日（星期二）15:00 HLE vs GEN\\n\\n10月29日（星期三）15:00 KT vs CFO\\n\\n10月30日（星期四）15:00 G2 vs TES\\n\\n10月31日（星期五）15:00 AL vs T1\\n\\n其中，HLE与GEN的比赛为韩国内战;CFO则是时隔十年，港澳台队伍再次晋级全球总决赛淘汰赛，他们将面对韩国LCK赛区三号种子KT战队。\\n\\nCFO战队是由中国台湾省选手组成的全华班战队，其队员均为中国籍选手。 [...] ### 荒唐！韩国刚对中国免签，就有人脱团！澳洲20人团全逃，20万押金都不要了！\\n\\n翁帆被曝已经搬出清华别墅！杨振宁留给她的现金在1亿元左右\\n\\n### 翁帆被曝已经搬出清华别墅！杨振宁留给她的现金在1亿元左右\\n\\n护栏钢化玻璃咋装的是透明塑料板？29岁小伙闪落景观桥骨折15处，住院多日维权难\\n\\n### 护栏钢化玻璃咋装的是透明塑料板？29岁小伙闪落景观桥骨折15处，住院多日维权难\\n\\n演员江一燕官宣离婚\\n\\n### 演员江一燕官宣离婚\\n\\n女友出门需带5人随行，拥有多家公司，新疆厅官胡国强落马内幕\\n\\n### 女友出门需带5人随行，拥有多家公司，新疆厅官胡国强落马内幕\\n\\n房价到底还会跌多久？惠誉评级给出了答案\\n\\n### 房价到底还会跌多久？惠誉评级给出了答案\\n\\n莫兰特谈绝杀：前个回合没进是他们走运，这种球我闭眼都能进\\n\\n### 莫兰特谈绝杀：前个回合没进是他们走运，这种球我闭眼都能进\\n\\n中央层面整治形式主义为基层减负专项工作机制办公室\\u3000中央纪委办公厅公开通报2起整治形式主义为基层减负典型问题 [...] 天下游戏吧 2025-10-29 21:20:27\\n\\n### KT横扫CFO晋级四强，LCK提前锁定S15决赛名额，LPL还有希望吗？\\n\\nEsportsTalk 2025-10-29 19:36:46\\n\\n### LCK世界赛成绩保底亚军！左手自曝BLG藏招：秘密武器一直没用\\n\\n风尘Game 2025-10-30 09:17:56\\n\\n### TES淘汰赛迎战G2！Kanavi野区压制力成关键！\\n\\n电竞嘴强司机哥 2025-10-30 13:38:58\\n\\n### 杰克 vs HansSama数据对比：后者KDA遥遥领先\\n\\n雷速体育 2025-10-30 15:16:10\\n\\n### TES vs G2数据对比：G2 KDA及小龙控制率优势明显\\n\\n雷速体育 2025-10-30 14:44:19\\n\\n### BLG止步16强，Bin开始忏悔了！Peanut退役，赛后躲在休息室落泪\\n\\n仟游电竞 2025-10-30 13:36:58\\n\\n### BLG能否陪练洗白？朱开：无此先例！Angel谈陪练AL：最后打也不错\\n\\n残影电竞 2025-10-27 22:39:18', 'score': 0.8010817}, {'title': '2025英雄联盟S15全球总决赛赛程表一览 - 游戏攻略- 游侠网', 'url': 'https://gl.ali213.net/html/2025-10/1701707.html', 'content': '| 10月23日  （周四） | 16：00 | MKOI vs TSW | 2：1 |\\n| 19：00 | GEN vs TES | 2：0 |\\n| 10月24日  （周五） | 16：00 | BLG vs VKS | 2：0 |\\n| 19：00 | 100T vs T1 | 0：2 |\\n| 10月25日  （周六） | 13：00 | CFO vs FLY | 2：0 |\\n| 16：00 | TES vs BLG | 2：1 |\\n| 19：00 | T1 vs MKOI | 2：0 |\\n| 淘汰赛 |\\n| 10月28日  （周二） | 15：00 | GEN vs HLE | 0：0 |\\n| 10月29日  （周三） | 15：00 | KT vs CFO | 0：0 |\\n| 10月30日  （周四） | 15：00 | G2 vs TES | 0：0 |\\n| 10月31日  （周五） | 15：00 | AL vs T1 | 0：0 | [...] 淘汰赛阶段\\u200c\\n\\n10月28日-11月9日\\n\\n四分之一决赛\\u200c\\n\\n10月28日-31日，上海\\n\\n半决赛\\u200c\\n\\n11月1日-2日，上海\\n\\n总决赛\\u200c\\n\\n11月9日，成都东安湖体育馆\\n\\n|  |', 'score': 0.7636429}, {'title': '《LOL》S15全球总决赛观赛指南：10.14 iG对阵T1 - 游民星空', 'url': 'https://www.gamersky.com/news/202510/2023461.shtml', 'content': '·10 月 17 日（星期五）\\n\\n·10 月 18 日（星期六）\\n\\n·10 月 19 日（星期日）\\n\\n·10 月 22 日（星期三）\\n\\n·10 月 23 日（星期四）\\n\\n·10 月 24 日（星期五）\\n\\n·10 月 25 日（星期六）- 北京时间下午 1 点\\n\\n淘汰赛阶段（Bo5）- 上海和成都（所有比赛都将于北京时间下午 3 点开始）\\n\\n·10 月 28 日（星期二）- 四分之一决赛\\n\\n·10 月 29 日（星期三）- 四分之一决赛\\n\\n·10 月 30 日（星期四）- 四分之一决赛\\n\\n·10 月 31 日（星期五）- 四分之一决赛\\n\\n·11 月 1 日（星期六）- 半决赛\\n\\n·11 月 2 日（星期日）- 半决赛\\n\\n·11 月 9 日（星期日）- 冠亚军决赛，成都\\n\\n今年代表各赛区出战的队伍是：\\n\\nLPL\\n\\n·Bilibili Gaming (BLG)\\n\\n·Anyone’s Legend (AL)\\n\\n·Top Esports (TES)\\n\\n·Invictus Gaming (iG)\\n\\nLCK\\n\\n·Gen.G (GEN)\\n\\n·Hanwha Life Esports (HLE) [...] 游戏专区 游戏攻略 发售表\\n PS5 游戏评测 主机硬件\\n\\n  XSX 电玩资讯\\n 手游频道 苹果频道 手游攻略 新游频道\\n\\n  安卓频道 手游评测 手游下载 手游产业\\n 精彩杂谈 动漫图库 动漫音乐\\n\\n  动漫资讯 动漫周边\\n 杂谈文库 游戏硬件 讲武堂\\n\\n  休闲娱乐 趣味科技 游民社区\\n\\n《LOL》S15全球总决赛观赛指南：10.14 iG对阵T1 [...] 银河战士P4\\n\\n  |\\n\\n  八方旅人0\\n\\n  |\\n\\n  桌面副本物语\\n\\n  |\\n\\n  独自升级\\n\\n  |\\n\\n  Paralives\\n\\n正文内容 游戏视频 游戏图片 评论(0)\\n\\n本站\\n\\n本站 百度\\n\\n游民星空 > 资讯中心 > 正文\\n\\n# 《LOL》S15全球总决赛观赛指南：10.14 iG对阵T1\\n\\n2025-10-05 15:49:16 来源：IT之家 作者：未知 编辑：心态良好的胖子loading\\n\\n今年，《英雄联盟》全球总决赛重返中国，官方观赛指南现已发布。全球总决赛由三个阶段组成：分别是入围赛阶段 (10 月 14 日）、瑞士轮赛阶段（10 月 15 日至 25 日）和淘汰赛阶段（10 月 28 日至 11 月 9 日）。\\n\\n赛程安排：\\n\\n入围赛阶段（Bo5）- 北京（如无另行说明，所有比赛都将于北京时间下午 4 点开始）\\n\\n·10 月 14 日（星期二）\\n\\n瑞士轮赛阶段（Bo1、Bo3）- 北京（如无另行说明，所有比赛都将于北京时间下午 4 点开始）\\n\\n·10 月 15 日（星期三）- 北京时间下午 1 点\\n\\n·10 月 16 日（星期四）- 北京时间下午 1 点', 'score': 0.7348247}]\u001B[0m\u001B[32;1m\u001B[1;3mThought: Do I need to use a tool? No\n",
      "\n",
      "Final Answer: 根据搜索结果，**明天（10月31日）的LOL S15世界赛四分之一决赛对阵是：**\n",
      "\n",
      "**AL vs T1**\n",
      "- **时间**：10月31日（星期五）15:00（北京时间）\n",
      "- **赛制**：Bo5（五局三胜）\n",
      "\n",
      "这是四分之一决赛的最后一场比赛。AL是中国LPL赛区的代表队，T1是韩国LCK赛区的传统豪强队伍。\u001B[0m\n",
      "\n",
      "\u001B[1m> Finished chain.\u001B[0m\n",
      "{'input': '今天10.30 明天谁打谁呢？', 'chat_history': [HumanMessage(content='查询今天lol谁打谁', additional_kwargs={}, response_metadata={}), AIMessage(content='根据搜索结果，目前英雄联盟S15世界赛正在进行**八强赛**阶段。以下是接下来的比赛安排：\\n\\n**已确认的八强赛对阵：**\\n\\n1. **10月28日 03:00** - HLE vs GEN\\n2. **10月29日 03:00** - KT vs CFO  \\n3. **10月30日 03:00** - G2 vs TES\\n4. **10月31日 03:00** - AL vs T1\\n\\n**后续赛程：**\\n- **11月01日 03:00** - 半决赛（待定1 vs 待定2）\\n- **11月02日 02:00** - 半决赛（待定1 vs 待定2）\\n- **11月09日 02:00** - 总决赛\\n\\n如果您想了解**今天具体的比赛**，请告诉我今天的日期，我可以为您查询具体是哪两支队伍对阵。目前搜索结果显示的是S15世界赛的整体赛程安排。', additional_kwargs={}, response_metadata={}), HumanMessage(content='今天10.30 明天谁打谁呢？', additional_kwargs={}, response_metadata={}), AIMessage(content='根据搜索结果，**明天（10月31日）的LOL S15世界赛四分之一决赛对阵是：**\\n\\n**AL vs T1**\\n- **时间**：10月31日（星期五）15:00（北京时间）\\n- **赛制**：Bo5（五局三胜）\\n\\n这是四分之一决赛的最后一场比赛。AL是中国LPL赛区的代表队，T1是韩国LCK赛区的传统豪强队伍。', additional_kwargs={}, response_metadata={})], 'output': '根据搜索结果，**明天（10月31日）的LOL S15世界赛四分之一决赛对阵是：**\\n\\n**AL vs T1**\\n- **时间**：10月31日（星期五）15:00（北京时间）\\n- **赛制**：Bo5（五局三胜）\\n\\n这是四分之一决赛的最后一场比赛。AL是中国LPL赛区的代表队，T1是韩国LCK赛区的传统豪强队伍。'}\n"
     ]
    }
   ],
   "execution_count": 13
  },
  {
   "metadata": {},
   "cell_type": "markdown",
   "source": "好吧，是我太穷了，换了claude-haiku-4.5效果一下就变好了",
   "id": "b6629d7324cea0fd"
  }
 ],
 "metadata": {
  "kernelspec": {
   "display_name": "Python 3",
   "language": "python",
   "name": "python3"
  },
  "language_info": {
   "codemirror_mode": {
    "name": "ipython",
    "version": 2
   },
   "file_extension": ".py",
   "mimetype": "text/x-python",
   "name": "python",
   "nbconvert_exporter": "python",
   "pygments_lexer": "ipython2",
   "version": "2.7.6"
  }
 },
 "nbformat": 4,
 "nbformat_minor": 5
}
